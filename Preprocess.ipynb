{
 "cells": [
  {
   "cell_type": "code",
   "execution_count": null,
   "metadata": {},
   "outputs": [],
   "source": [
    "import pandas as pd\n",
    "import numpy as np\n",
    "import matplotlib.pyplot as plt\n",
    "import os\n",
    "import json\n",
    "import glob\n",
    "import re\n",
    "import string\n"
   ]
  },
  {
   "cell_type": "code",
   "execution_count": null,
   "metadata": {},
   "outputs": [],
   "source": [
    "## ICLR\n",
    "\n",
    "dev_path = r'C:\\Users\\ataha\\Desktop\\datalit\\data\\iclr_2017\\dev\\reviews'\n",
    "train_path = r'C:\\Users\\ataha\\Desktop\\datalit\\data\\iclr_2017\\train\\reviews'\n",
    "test_path = r'C:\\Users\\ataha\\Desktop\\datalit\\data\\iclr_2017\\test\\reviews'\n",
    "\n",
    "\n",
    "dev_jsons = [json.loads(open(dev_path + '\\\\' + pos_json).read()) for pos_json in os.listdir(dev_path)]\n",
    "train_jsons = [json.loads(open(train_path + '\\\\' + pos_json).read()) for pos_json in os.listdir(train_path)]\n",
    "test_jsons = [json.loads(open(test_path + '\\\\' + pos_json).read()) for pos_json in os.listdir(test_path)]\n"
   ]
  },
  {
   "cell_type": "code",
   "execution_count": null,
   "metadata": {},
   "outputs": [],
   "source": [
    "data = train_jsons + dev_jsons + test_jsons\n"
   ]
  },
  {
   "cell_type": "code",
   "execution_count": null,
   "metadata": {},
   "outputs": [],
   "source": [
    "counter = 0\n",
    "final_data = []\n",
    "for paper in data:\n",
    "    tmp_dict = {}\n",
    "    tmp_dict['id'] = paper['id']\n",
    "    tmp_dict['title'] = paper['title']\n",
    "    tmp_dict['abstract'] = paper['abstract']\n",
    "    tmp_dict['accepted'] = paper['accepted']\n",
    "    tmp_dict['recommendation'] = []\n",
    "    tmp_dict['confidence'] = []\n",
    "    # tmp_dict['originality'] =[]\n",
    "    # tmp_dict['clarity'] = []\n",
    "\n",
    "    try:\n",
    "        for review in paper['reviews']:\n",
    "            if 'RECOMMENDATION'in review and 'REVIEWER_CONFIDENCE' in review:\n",
    "                # print(review['RECOMMENDATION'])\n",
    "                tmp_dict['recommendation'].append(review['RECOMMENDATION'])\n",
    "                tmp_dict['confidence'].append(review['REVIEWER_CONFIDENCE']) \n",
    "                # tmp_dict['originality'].append(review['ORIGINALITY'])\n",
    "                # tmp_dict['clarity'].append(review['CLARITY'])\n",
    "              \n",
    "        final_data.append(tmp_dict)\n",
    "    except:\n",
    "        counter += 1\n"
   ]
  },
  {
   "attachments": {},
   "cell_type": "markdown",
   "metadata": {},
   "source": [
    "## CITATION"
   ]
  },
  {
   "cell_type": "code",
   "execution_count": null,
   "metadata": {},
   "outputs": [],
   "source": [
    "from semanticscholar import SemanticScholar\n",
    "from tqdm import tqdm\n",
    "sch = SemanticScholar()\n",
    "results = sch.search_paper('Delving into Transferable Adversarial Examples and Black-box Attacks')\n",
    "print(results.total)"
   ]
  },
  {
   "cell_type": "code",
   "execution_count": null,
   "metadata": {},
   "outputs": [],
   "source": [
    "for paper in tqdm(final_data):\n",
    "    \n",
    "    try:\n",
    "        results = sch.search_paper(paper['title'])\n",
    "        if results.total > 0:\n",
    "            paper['citation'] = results[0]['citationCount']\n",
    "        else:\n",
    "            paper['citation'] = None\n",
    "            print(paper['title'], 'no result')\n",
    "    except:\n",
    "        print(paper['title'], 'query error')\n",
    "        paper['citation'] = None\n",
    "    \n"
   ]
  },
  {
   "cell_type": "code",
   "execution_count": null,
   "metadata": {},
   "outputs": [],
   "source": [
    "# save final data into a json file\n",
    "with open('iclr_2017.json', 'w') as outfile:\n",
    "    json.dump(final_data, outfile)"
   ]
  }
 ],
 "metadata": {
  "kernelspec": {
   "display_name": "smartix",
   "language": "python",
   "name": "python3"
  },
  "language_info": {
   "codemirror_mode": {
    "name": "ipython",
    "version": 3
   },
   "file_extension": ".py",
   "mimetype": "text/x-python",
   "name": "python",
   "nbconvert_exporter": "python",
   "pygments_lexer": "ipython3",
   "version": "3.8.6 | packaged by conda-forge | (default, Dec 26 2020, 04:50:20) \n[Clang 11.0.0 ]"
  },
  "orig_nbformat": 4,
  "vscode": {
   "interpreter": {
    "hash": "afe2207a88c3ac40d1585815df4dbe845f48ed679085e4ba87347a5f07e6050f"
   }
  }
 },
 "nbformat": 4,
 "nbformat_minor": 2
}
