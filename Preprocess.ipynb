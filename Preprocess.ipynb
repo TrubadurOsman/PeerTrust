{
 "cells": [
  {
   "cell_type": "code",
   "execution_count": 1,
   "metadata": {},
   "outputs": [],
   "source": [
    "import pandas as pd\n",
    "import numpy as np\n",
    "import matplotlib.pyplot as plt\n",
    "import os\n",
    "import json\n",
    "import glob\n",
    "import re\n",
    "import string\n"
   ]
  },
  {
   "cell_type": "code",
   "execution_count": 2,
   "metadata": {},
   "outputs": [],
   "source": [
    "## ICLR\n",
    "\n",
    "dev_path = r'C:\\Users\\ataha\\Desktop\\datalit\\data\\iclr_2017\\dev\\reviews'\n",
    "train_path = r'C:\\Users\\ataha\\Desktop\\datalit\\data\\iclr_2017\\train\\reviews'\n",
    "test_path = r'C:\\Users\\ataha\\Desktop\\datalit\\data\\iclr_2017\\test\\reviews'\n",
    "\n",
    "\n",
    "dev_jsons = [json.loads(open(dev_path + '\\\\' + pos_json).read()) for pos_json in os.listdir(dev_path)]\n",
    "train_jsons = [json.loads(open(train_path + '\\\\' + pos_json).read()) for pos_json in os.listdir(train_path)]\n",
    "test_jsons = [json.loads(open(test_path + '\\\\' + pos_json).read()) for pos_json in os.listdir(test_path)]\n"
   ]
  },
  {
   "cell_type": "code",
   "execution_count": 3,
   "metadata": {},
   "outputs": [],
   "source": [
    "data = train_jsons + dev_jsons + test_jsons\n"
   ]
  },
  {
   "cell_type": "code",
   "execution_count": 17,
   "metadata": {},
   "outputs": [],
   "source": [
    "counter = 0\n",
    "final_data = []\n",
    "for paper in data:\n",
    "    tmp_dict = {}\n",
    "    tmp_dict['id'] = paper['id']\n",
    "    tmp_dict['title'] = paper['title']\n",
    "    tmp_dict['abstract'] = paper['abstract']\n",
    "    tmp_dict['accepted'] = paper['accepted']\n",
    "    tmp_dict['recommendation'] = []\n",
    "    tmp_dict['confidence'] = []\n",
    "    # tmp_dict['originality'] =[]\n",
    "    # tmp_dict['clarity'] = []\n",
    "\n",
    "    try:\n",
    "        for review in paper['reviews']:\n",
    "            if 'RECOMMENDATION'in review and 'REVIEWER_CONFIDENCE' in review:\n",
    "                # print(review['RECOMMENDATION'])\n",
    "                tmp_dict['recommendation'].append(review['RECOMMENDATION'])\n",
    "                tmp_dict['confidence'].append(review['REVIEWER_CONFIDENCE']) \n",
    "                # tmp_dict['originality'].append(review['ORIGINALITY'])\n",
    "                # tmp_dict['clarity'].append(review['CLARITY'])\n",
    "              \n",
    "        final_data.append(tmp_dict)\n",
    "    except:\n",
    "        counter += 1\n"
   ]
  },
  {
   "attachments": {},
   "cell_type": "markdown",
   "metadata": {},
   "source": [
    "## CITATION"
   ]
  },
  {
   "cell_type": "code",
   "execution_count": 20,
   "metadata": {},
   "outputs": [
    {
     "name": "stdout",
     "output_type": "stream",
     "text": [
      "0\n"
     ]
    }
   ],
   "source": [
    "from semanticscholar import SemanticScholar\n",
    "from tqdm import tqdm\n",
    "sch = SemanticScholar()\n",
    "results = sch.search_paper('Delving into Transferable Adversarial Examples and Black-box Attacks')\n",
    "print(results.total)"
   ]
  },
  {
   "cell_type": "code",
   "execution_count": 21,
   "metadata": {},
   "outputs": [
    {
     "name": "stderr",
     "output_type": "stream",
     "text": [
      "  1%|          | 3/427 [00:04<08:57,  1.27s/it]"
     ]
    },
    {
     "name": "stdout",
     "output_type": "stream",
     "text": [
      "Optimization as a Model for Few-Shot Learning no result\n"
     ]
    },
    {
     "name": "stderr",
     "output_type": "stream",
     "text": [
      "  2%|▏         | 7/427 [00:09<08:23,  1.20s/it]"
     ]
    },
    {
     "name": "stdout",
     "output_type": "stream",
     "text": [
      "Multi-Agent Cooperation and the Emergence of (Natural) Language no result\n"
     ]
    },
    {
     "name": "stderr",
     "output_type": "stream",
     "text": [
      "  9%|▉         | 40/427 [01:15<08:07,  1.26s/it]  "
     ]
    },
    {
     "name": "stdout",
     "output_type": "stream",
     "text": [
      "Training Compressed Fully-Connected Networks with a Density-Diversity Penalty no result\n"
     ]
    },
    {
     "name": "stderr",
     "output_type": "stream",
     "text": [
      " 10%|▉         | 42/427 [01:17<06:15,  1.03it/s]"
     ]
    },
    {
     "name": "stdout",
     "output_type": "stream",
     "text": [
      "On the Quantitative Analysis of Decoder-Based Generative Models no result\n"
     ]
    },
    {
     "name": "stderr",
     "output_type": "stream",
     "text": [
      " 11%|█         | 45/427 [01:20<05:51,  1.09it/s]"
     ]
    },
    {
     "name": "stdout",
     "output_type": "stream",
     "text": [
      "A Compositional Object-Based Approach to Learning Physical Dynamics no result\n"
     ]
    },
    {
     "name": "stderr",
     "output_type": "stream",
     "text": [
      " 11%|█         | 48/427 [01:22<04:47,  1.32it/s]"
     ]
    },
    {
     "name": "stdout",
     "output_type": "stream",
     "text": [
      "Words or Characters? Fine-grained Gating for Reading Comprehension no result\n"
     ]
    },
    {
     "name": "stderr",
     "output_type": "stream",
     "text": [
      " 13%|█▎        | 54/427 [01:30<06:41,  1.08s/it]"
     ]
    },
    {
     "name": "stdout",
     "output_type": "stream",
     "text": [
      "Incorporating long-range consistency in CNN-based texture generation no result\n"
     ]
    },
    {
     "name": "stderr",
     "output_type": "stream",
     "text": [
      " 13%|█▎        | 57/427 [01:33<05:18,  1.16it/s]"
     ]
    },
    {
     "name": "stdout",
     "output_type": "stream",
     "text": [
      "Metacontrol for Adaptive Imagination-Based Optimization no result\n"
     ]
    },
    {
     "name": "stderr",
     "output_type": "stream",
     "text": [
      " 15%|█▌        | 65/427 [01:42<06:12,  1.03s/it]"
     ]
    },
    {
     "name": "stdout",
     "output_type": "stream",
     "text": [
      " Outrageously Large Neural Networks: The Sparsely-Gated Mixture-of-Experts Layer no result\n"
     ]
    },
    {
     "name": "stderr",
     "output_type": "stream",
     "text": [
      " 22%|██▏       | 95/427 [02:53<05:48,  1.05s/it]  "
     ]
    },
    {
     "name": "stdout",
     "output_type": "stream",
     "text": [
      "Reinforcement Learning through Asynchronous Advantage Actor-Critic on a GPU no result\n"
     ]
    },
    {
     "name": "stderr",
     "output_type": "stream",
     "text": [
      " 24%|██▎       | 101/427 [03:00<06:15,  1.15s/it]"
     ]
    },
    {
     "name": "stdout",
     "output_type": "stream",
     "text": [
      "Dialogue Learning With Human-in-the-Loop no result\n"
     ]
    },
    {
     "name": "stderr",
     "output_type": "stream",
     "text": [
      " 25%|██▍       | 106/427 [03:07<06:10,  1.15s/it]"
     ]
    },
    {
     "name": "stdout",
     "output_type": "stream",
     "text": [
      "Topology and Geometry of Half-Rectified Network Optimization no result\n"
     ]
    },
    {
     "name": "stderr",
     "output_type": "stream",
     "text": [
      " 25%|██▌       | 108/427 [03:08<04:51,  1.09it/s]"
     ]
    },
    {
     "name": "stdout",
     "output_type": "stream",
     "text": [
      "Loss-aware Binarization of Deep Networks no result\n"
     ]
    },
    {
     "name": "stderr",
     "output_type": "stream",
     "text": [
      " 27%|██▋       | 116/427 [03:15<04:04,  1.27it/s]"
     ]
    },
    {
     "name": "stdout",
     "output_type": "stream",
     "text": [
      "Delving into Transferable Adversarial Examples and Black-box Attacks no result\n"
     ]
    },
    {
     "name": "stderr",
     "output_type": "stream",
     "text": [
      " 43%|████▎     | 182/427 [07:35<03:24,  1.20it/s]  "
     ]
    },
    {
     "name": "stdout",
     "output_type": "stream",
     "text": [
      "#Exploration: A Study of Count-Based Exploration for Deep Reinforcement Learning query error\n"
     ]
    },
    {
     "name": "stderr",
     "output_type": "stream",
     "text": [
      " 51%|█████     | 216/427 [08:13<02:47,  1.26it/s]"
     ]
    },
    {
     "name": "stdout",
     "output_type": "stream",
     "text": [
      "Gated-Attention Readers for Text Comprehension no result\n"
     ]
    },
    {
     "name": "stderr",
     "output_type": "stream",
     "text": [
      " 52%|█████▏    | 221/427 [08:19<04:04,  1.19s/it]"
     ]
    },
    {
     "name": "stdout",
     "output_type": "stream",
     "text": [
      "Memory-augmented Attention Modelling for Videos no result\n"
     ]
    },
    {
     "name": "stderr",
     "output_type": "stream",
     "text": [
      " 56%|█████▌    | 239/427 [08:37<03:18,  1.05s/it]"
     ]
    },
    {
     "name": "stdout",
     "output_type": "stream",
     "text": [
      "Efficient Summarization with Read-Again and Copy Mechanism no result\n"
     ]
    },
    {
     "name": "stderr",
     "output_type": "stream",
     "text": [
      " 59%|█████▉    | 251/427 [08:50<03:14,  1.10s/it]"
     ]
    },
    {
     "name": "stdout",
     "output_type": "stream",
     "text": [
      "A Context-aware Attention Network for Interactive Question Answering no result\n"
     ]
    },
    {
     "name": "stderr",
     "output_type": "stream",
     "text": [
      " 64%|██████▍   | 273/427 [09:13<02:32,  1.01it/s]"
     ]
    },
    {
     "name": "stdout",
     "output_type": "stream",
     "text": [
      "Skip-graph: Learning graph embeddings with an encoder-decoder model no result\n"
     ]
    },
    {
     "name": "stderr",
     "output_type": "stream",
     "text": [
      " 66%|██████▋   | 283/427 [09:54<03:21,  1.40s/it]"
     ]
    },
    {
     "name": "stdout",
     "output_type": "stream",
     "text": [
      "LipNet: End-to-End Sentence-level Lipreading no result\n"
     ]
    },
    {
     "name": "stderr",
     "output_type": "stream",
     "text": [
      " 75%|███████▌  | 322/427 [14:11<01:58,  1.13s/it]  "
     ]
    },
    {
     "name": "stdout",
     "output_type": "stream",
     "text": [
      "An Analysis of Feature Regularization for Low-shot Learning no result\n"
     ]
    },
    {
     "name": "stderr",
     "output_type": "stream",
     "text": [
      " 82%|████████▏ | 349/427 [14:41<01:05,  1.19it/s]"
     ]
    },
    {
     "name": "stdout",
     "output_type": "stream",
     "text": [
      "Surprisal-Driven Feedback in Recurrent Networks no result\n"
     ]
    },
    {
     "name": "stderr",
     "output_type": "stream",
     "text": [
      " 83%|████████▎ | 355/427 [14:49<01:15,  1.05s/it]"
     ]
    },
    {
     "name": "stdout",
     "output_type": "stream",
     "text": [
      "Training Agent for First-Person Shooter Game with Actor-Critic Curriculum Learning no result\n"
     ]
    },
    {
     "name": "stderr",
     "output_type": "stream",
     "text": [
      " 84%|████████▍ | 358/427 [14:53<01:23,  1.21s/it]"
     ]
    },
    {
     "name": "stdout",
     "output_type": "stream",
     "text": [
      "A Simple but Tough-to-Beat Baseline for Sentence Embeddings no result\n"
     ]
    },
    {
     "name": "stderr",
     "output_type": "stream",
     "text": [
      " 88%|████████▊ | 374/427 [15:14<00:52,  1.01it/s]"
     ]
    },
    {
     "name": "stdout",
     "output_type": "stream",
     "text": [
      "Wav2Letter: an End-to-End ConvNet-based Speech Recognition System no result\n"
     ]
    },
    {
     "name": "stderr",
     "output_type": "stream",
     "text": [
      " 90%|█████████ | 385/427 [15:26<00:48,  1.16s/it]"
     ]
    },
    {
     "name": "stdout",
     "output_type": "stream",
     "text": [
      "LSTM-Based System-Call Language Modeling and Ensemble Method for Host-Based Intrusion Detection no result\n"
     ]
    },
    {
     "name": "stderr",
     "output_type": "stream",
     "text": [
      " 92%|█████████▏| 393/427 [15:35<00:35,  1.04s/it]"
     ]
    },
    {
     "name": "stdout",
     "output_type": "stream",
     "text": [
      "A Compare-Aggregate Model for Matching Text Sequences no result\n"
     ]
    },
    {
     "name": "stderr",
     "output_type": "stream",
     "text": [
      " 95%|█████████▍| 404/427 [15:48<00:23,  1.01s/it]"
     ]
    },
    {
     "name": "stdout",
     "output_type": "stream",
     "text": [
      "Dropout with Expectation-linear Regularization no result\n"
     ]
    },
    {
     "name": "stderr",
     "output_type": "stream",
     "text": [
      " 95%|█████████▌| 406/427 [15:50<00:18,  1.15it/s]"
     ]
    },
    {
     "name": "stdout",
     "output_type": "stream",
     "text": [
      "Investigating Recurrence and Eligibility Traces in Deep Q-Networks no result\n"
     ]
    },
    {
     "name": "stderr",
     "output_type": "stream",
     "text": [
      " 96%|█████████▌| 409/427 [15:53<00:15,  1.16it/s]"
     ]
    },
    {
     "name": "stdout",
     "output_type": "stream",
     "text": [
      "Multi-label learning with the RNNs for Fashion Search no result\n"
     ]
    },
    {
     "name": "stderr",
     "output_type": "stream",
     "text": [
      " 96%|█████████▋| 412/427 [15:57<00:16,  1.12s/it]"
     ]
    },
    {
     "name": "stdout",
     "output_type": "stream",
     "text": [
      "Transformation-based Models of Video Sequences no result\n"
     ]
    },
    {
     "name": "stderr",
     "output_type": "stream",
     "text": [
      " 97%|█████████▋| 416/427 [16:01<00:11,  1.02s/it]"
     ]
    },
    {
     "name": "stdout",
     "output_type": "stream",
     "text": [
      "Finding a Jack-of-All-Trades: An Examination of Semi-supervised Learning in Reading Comprehension no result\n"
     ]
    },
    {
     "name": "stderr",
     "output_type": "stream",
     "text": [
      "100%|██████████| 427/427 [16:12<00:00,  2.28s/it]\n"
     ]
    }
   ],
   "source": [
    "for paper in tqdm(final_data):\n",
    "    \n",
    "    try:\n",
    "        results = sch.search_paper(paper['title'])\n",
    "        if results.total > 0:\n",
    "            paper['citation'] = results[0]['citationCount']\n",
    "        else:\n",
    "            paper['citation'] = None\n",
    "            print(paper['title'], 'no result')\n",
    "    except:\n",
    "        print(paper['title'], 'query error')\n",
    "        paper['citation'] = None\n",
    "    \n"
   ]
  },
  {
   "cell_type": "code",
   "execution_count": 23,
   "metadata": {},
   "outputs": [],
   "source": [
    "# save final data into a json file\n",
    "with open('iclr_2017.json', 'w') as outfile:\n",
    "    json.dump(final_data, outfile)"
   ]
  }
 ],
 "metadata": {
  "kernelspec": {
   "display_name": "smartix",
   "language": "python",
   "name": "python3"
  },
  "language_info": {
   "codemirror_mode": {
    "name": "ipython",
    "version": 3
   },
   "file_extension": ".py",
   "mimetype": "text/x-python",
   "name": "python",
   "nbconvert_exporter": "python",
   "pygments_lexer": "ipython3",
   "version": "3.8.6 | packaged by conda-forge | (default, Dec 26 2020, 04:50:20) \n[Clang 11.0.0 ]"
  },
  "orig_nbformat": 4,
  "vscode": {
   "interpreter": {
    "hash": "afe2207a88c3ac40d1585815df4dbe845f48ed679085e4ba87347a5f07e6050f"
   }
  }
 },
 "nbformat": 4,
 "nbformat_minor": 2
}
