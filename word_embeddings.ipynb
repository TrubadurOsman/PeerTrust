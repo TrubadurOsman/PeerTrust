{
  "nbformat": 4,
  "nbformat_minor": 0,
  "metadata": {
    "colab": {
      "provenance": []
    },
    "kernelspec": {
      "name": "python3",
      "display_name": "Python 3"
    },
    "language_info": {
      "name": "python"
    }
  },
  "cells": [
    {
      "cell_type": "markdown",
      "source": [
        "# Installs and Downloads"
      ],
      "metadata": {
        "id": "BvhSj-bJ4MqZ"
      }
    },
    {
      "cell_type": "code",
      "source": [
        "!pip install fasttext\n",
        "!pip install transformers"
      ],
      "metadata": {
        "id": "ZkmkKLoa-YXs"
      },
      "execution_count": null,
      "outputs": []
    },
    {
      "cell_type": "code",
      "execution_count": null,
      "metadata": {
        "id": "i6VsGPk68ykF"
      },
      "outputs": [],
      "source": [
        "!wget https://dl.fbaipublicfiles.com/fasttext/vectors-english/crawl-300d-2M-subword.zip\n",
        "!unzip crawl-300d-2M-subword.zip\n",
        "!rm -f crawl-300d-2M-subword.vec"
      ]
    },
    {
      "cell_type": "markdown",
      "source": [
        "# Load Data"
      ],
      "metadata": {
        "id": "0g0t-2wa4nFM"
      }
    },
    {
      "cell_type": "code",
      "source": [
        "import json\n",
        "\n",
        "data_filename = 'iclr_2017.json'\n",
        "\n",
        "with open(data_filename) as fd:\n",
        "    data = json.load(fd)"
      ],
      "metadata": {
        "id": "qYQImREc4pBq"
      },
      "execution_count": 3,
      "outputs": []
    },
    {
      "cell_type": "code",
      "source": [
        "print(data[0]) # data example"
      ],
      "metadata": {
        "colab": {
          "base_uri": "https://localhost:8080/"
        },
        "id": "o90NLtNt5WCy",
        "outputId": "0a6f96c3-fb94-4b7c-af5a-73f12650d057"
      },
      "execution_count": 4,
      "outputs": [
        {
          "output_type": "stream",
          "name": "stdout",
          "text": [
            "{'id': '304', 'title': 'Making Neural Programming Architectures Generalize via Recursion', 'abstract': 'Empirically, neural networks that attempt to learn programs from data have exhibited poor generalizability. Moreover, it has traditionally been difficult to reason about the behavior of these models beyond a certain level of input complexity. In order to address these issues, we propose augmenting neural architectures with a key abstraction: recursion. As an application, we implement recursion in the Neural Programmer-Interpreter framework on four tasks: grade-school addition, bubble sort, topological sort, and quicksort. We demonstrate superior generalizability and interpretability with small amounts of training data. Recursion divides the problem into smaller pieces and drastically reduces the domain of each neural network component, making it tractable to prove guarantees about the overall system’s behavior. Our experience suggests that in order for neural architectures to robustly learn program semantics, it is necessary to incorporate a concept like recursion.', 'accepted': True, 'recommendation': [8, 8, 9, 8, 8, 9], 'confidence': [4, 3, 5, 4, 3, 5], 'citation': 132}\n"
          ]
        }
      ]
    },
    {
      "cell_type": "markdown",
      "source": [
        "# Binary Word Embeddings"
      ],
      "metadata": {
        "id": "K4gnHnFf5mXE"
      }
    },
    {
      "cell_type": "code",
      "source": [
        "import re\n",
        "import string\n",
        "import nltk\n",
        "from nltk.corpus import stopwords\n",
        "from nltk.stem import PorterStemmer\n",
        "\n",
        "nltk.download('stopwords') # download stopwords if necessary\n",
        "stop_words = set(stopwords.words('english'))\n",
        "porter_stemmer = PorterStemmer()\n",
        "\n",
        "# preprocessing function\n",
        "def process_text(s):\n",
        "    s = s.lower() # lower text\n",
        "    s = re.sub(r'\\d+', '', s) # remove numbers\n",
        "    s = s.translate(str.maketrans('', '', string.punctuation)) # remove punctuation\n",
        "    s = s.split() # split whitespace\n",
        "    s = [porter_stemmer.stem(w) for w in s if w not in stop_words] # remove stop words\n",
        "    return s\n",
        "\n",
        "all_words = set()\n",
        "for p in data:\n",
        "    all_words = all_words.union(set(process_text(p['abstract'])))\n",
        "all_words = sorted(all_words)\n",
        "print(all_words) # print created vocabulary\n",
        "\n",
        "all_words_map = {}\n",
        "for i in range(len(all_words)):\n",
        "    all_words_map[all_words[i]] = i"
      ],
      "metadata": {
        "colab": {
          "base_uri": "https://localhost:8080/"
        },
        "id": "smFFH-9E5qJT",
        "outputId": "460ed0d2-06e7-4ea1-d1bd-b4b1d2ba2452"
      },
      "execution_count": 5,
      "outputs": [
        {
          "output_type": "stream",
          "name": "stderr",
          "text": [
            "[nltk_data] Downloading package stopwords to /root/nltk_data...\n",
            "[nltk_data]   Package stopwords is already up-to-date!\n"
          ]
        },
        {
          "output_type": "stream",
          "name": "stdout",
          "text": [
            "['abandon', 'abil', 'abl', 'ablat', 'abovement', 'absenc', 'absolut', 'absorb', 'abstract', 'ac', 'acceler', 'accept', 'access', 'accommod', 'accompani', 'accomplish', 'accord', 'accordingli', 'account', 'accumul', 'accur', 'accuraci', 'achiev', 'achromat', 'acoust', 'acquir', 'acquisit', 'across', 'act', 'action', 'actionvalu', 'activ', 'actor', 'actorcrit', 'actor–crit', 'actual', 'actuat', 'acuiti', 'acycl', 'ad', 'adabn', 'adagrad', 'adam', 'adapt', 'adarad', 'add', 'addit', 'additionari', 'address', 'adem', 'adequ', 'adjust', 'admit', 'adopt', 'adult', 'advanc', 'advantag', 'advent', 'advers', 'adversari', 'advertis', 'advic', 'aec', 'aevb', 'affect', 'affin', 'afford', 'afirst', 'aforement', 'africa', 'agent', 'agentdesign', 'agentenviron', 'agents’', 'agent’', 'aggreg', 'agnost', 'ai', 'aid', 'aim', 'aka', 'al', 'albedo', 'albeit', 'ale', 'alexnet', 'alexnetlevel', 'algebra', 'algorithm', 'algorithms—wher', 'ali', 'alic', 'align', 'allcnn', 'allconvolut', 'allevi', 'alloc', 'allow', 'allreduc', 'almost', 'almostzero', 'along', 'alongsid', 'alpha', 'alphadiverg', 'alphaexpans', 'alreadi', 'also', 'altern', 'although', 'alway', 'al’', 'amaz', 'amazon', 'ambigu', 'amen', 'amidst', 'among', 'amongst', 'amort', 'amortis', 'amount', 'amplifi', 'analog', 'analogu', 'analys', 'analysi', 'analyt', 'analyz', 'ancestor', 'ancestr', 'andor', 'andrew', 'anecdot', 'angl', 'anim', 'anneal', 'annot', 'annoy', 'anomalybas', 'anonym', 'anoth', 'answer', 'anytim', 'api', 'appeal', 'appear', 'appli', 'applic', 'applicationspecif', 'appreci', 'approach', 'appropri', 'approxim', 'arbitrari', 'arbitrarili', 'arbitrarylength', 'arc', 'arcad', 'architectur', 'architectureindepend', 'architectures”', 'archiv', 'area', 'argu', 'arguabl', 'argument', 'aris', 'arithmet', 'ariz', 'arm', 'armi', 'arora', 'around', 'arrang', 'array', 'arriv', 'art', 'articl', 'articul', 'articulatori', 'artifact', 'artifici', 'artist', 'asan', 'ascertain', 'asgd', 'ask', 'aspect', 'assert', 'assess', 'assign', 'assist', 'associ', 'assum', 'assumpt', 'assur', 'asymptot', 'asynchron', 'asynchroni', 'atari', 'atom', 'atop', 'attach', 'attack', 'attain', 'attempt', 'attend', 'attent', 'attentionbas', 'attentionmechan', 'attentionoverattent', 'attentionsum', 'attract', 'attractor', 'attribut', 'atyp', 'auc', 'audio', 'auditori', 'augment', 'author', 'autoencod', 'autoencoderbas', 'autoencoderscitepngiamb', 'autoencodersda', 'autom', 'automat', 'automaton', 'autonom', 'autoregress', 'auxiliari', 'avail', 'avenu', 'averag', 'avitm', 'avoid', 'awar', 'away', 'axiomat', 'b', 'babi', 'bach', 'back', 'background', 'backpropag', 'backpropagationa', 'backup', 'backward', 'bad', 'baffl', 'bag', 'bagofword', 'balanc', 'ballist', 'bandwidth', 'bank', 'barcodelik', 'barrier', 'basala', 'base', 'baselin', 'basi', 'basic', 'batch', 'batchnorm', 'batchwis', 'battaglia', 'battl', 'baxter', 'bay', 'bayer', 'bayesian', 'be', 'beam', 'beat', 'bechalleng', 'becom', 'bedroom', 'begin', 'begun', 'behav', 'behavior', 'behaviour', 'behind', 'belief', 'believ', 'bellemar', 'belong', 'benchmark', 'benefici', 'benefit', 'bernoulli', 'besid', 'best', 'better', 'beyond', 'bia', 'bias', 'biascorrect', 'biasfre', 'biasvari', 'biclust', 'biconvex', 'bidirect', 'big', 'bigan', 'bigger', 'biggest', 'bigram', 'bilinear', 'bilingu', 'bill', 'billion', 'bilstm', 'binar', 'binari', 'bing', 'bioacoust', 'bioinformat', 'bioinspir', 'biolog', 'bipartit', 'bird', 'birth', 'birth”', 'bit', 'bitparallel', 'bitscharact', 'bla', 'black', 'blackbox', 'blend', 'bleu', 'blob', 'block', 'blockcoordin', 'blue', 'blurri', 'bmlpl', 'bnn', 'bnp', 'bob', 'bodi', 'boltzmann', 'bonu', 'book', 'booktest', 'boolean', 'booleanvalu', 'boost', 'bootstrap', 'born', 'borrow', 'bot', 'bottleneck', 'bottleneck”', 'bottomup', 'bound', 'boundari', 'box', 'bpc', 'bpebas', 'bpg', 'brain', 'branch', 'breadth', 'break', 'breakthrough', 'bridg', 'bring', 'broad', 'broadcast', 'broader', 'brock', 'broken', 'brought', 'browser', 'bruteforc', 'bs', 'bsd', 'bspsgd', 'bubbl', 'budget', 'buffer', 'build', 'built', 'builtin', 'bulk', 'burden', 'c', 'cach', 'caff', 'calcul', 'call', 'calligraph', 'caltech', 'caltechucsd', 'camera', 'camvid', 'candid', 'cannot', 'canon', 'capabl', 'capac', 'caption', 'captur', 'car', 'care', 'carlo', 'carmount', 'carri', 'carriedout', 'carv', 'cascad', 'case', 'cast', 'catastroph', 'categor', 'categori', 'cation', 'catvec', 'caus', 'causal', 'causallyinterpret', 'causallyregular', 'cbow', 'cbt', 'cca', 'ccacitepbachjordana', 'ccastyl', 'cdot', 'cedur', 'celeba', 'cell', 'cellular', 'center', 'central', 'cepstral', 'certain', 'chain', 'chainrul', 'chair', 'challeng', 'chamber', 'champion', 'chancelevel', 'chang', 'channel', 'chao', 'chaotic', 'charact', 'character', 'characterawar', 'characterbas', 'characteris', 'characterist', 'characterlevel', 'charad', 'chatbot', 'cheap', 'check', 'cheminformat', 'chess', 'child', 'children', 'chirplet', 'chitchat', 'choic', 'choos', 'choral', 'chosen', 'chronolog', 'chung', 'chunk', 'cifar', 'circuit', 'circular', 'circumv', 'citat', 'citi', 'citizen', 'cityscap', 'ckm', 'claim', 'clamp', 'clarif', 'clarifaicom', 'class', 'classic', 'classif', 'classifi', 'classificationbas', 'classimbal', 'classless', 'clean', 'clear', 'click', 'client', 'climat', 'clinic', 'clip', 'cliplevel', 'close', 'closedform', 'closer', 'closur', 'cloud', 'clozestyl', 'clue', 'cluster', 'clutter', 'cmd', 'cmu', 'cnn', 'cnndaili', 'coadapt', 'coars', 'coarser', 'coattent', 'coconet', 'code', 'codec', 'codeoptim', 'codepend', 'coeffici', 'coevolut', 'coevolutionari', 'coevolv', 'cognit', 'coher', 'cohes', 'coldstart', 'collabor', 'collaps', 'collect', 'color', 'colordepriv', 'colour', 'column', 'com', 'combat', 'combin', 'combinatori', 'come', 'commit', 'common', 'commonli', 'commun', 'communi', 'compact', 'compactli', 'compani', 'compar', 'compareaggreg', 'comparison', 'compat', 'compel', 'compens', 'compet', 'competit', 'competitionstyl', 'competitiveand', 'competitor', 'compil', 'complement', 'complementari', 'complet', 'completionfrom', 'complex', 'complic', 'compon', 'compos', 'composit', 'composition', 'compound', 'comprehens', 'compress', 'compris', 'compromis', 'comput', 'computerunderstand', 'concaten', 'concav', 'concaveconvex', 'concentr', 'concept', 'conceptu', 'concern', 'concierg', 'concis', 'conclud', 'conclus', 'concret', 'concurr', 'condit', 'conduct', 'conec', 'confer', 'confid', 'confidenti', 'configur', 'confirm', 'conflict', 'conform', 'confront', 'confus', 'conjointli', 'conjug', 'conjunct', 'conll', 'connect', 'connectionist', 'conquer', 'consecut', 'consensu', 'consequ', 'consid', 'consider', 'consist', 'consol', 'constant', 'constitu', 'constrain', 'constraint', 'construct', 'consult', 'consum', 'consumpt', 'contain', 'contemporari', 'content', 'contentbas', 'contentvec', 'context', 'contextdepend', 'contextquestionansw', 'contextu', 'contigu', 'conting', 'continu', 'contradict', 'contradictori', 'contrari', 'contrast', 'contribut', 'control', 'controlflow', 'conv', 'convac', 'convent', 'converg', 'convers', 'convert', 'convex', 'convey', 'convinc', 'convnet', 'convolut', 'cooccur', 'cooccurr', 'cooper', 'coopnet', 'coordin', 'copi', 'core', 'corefer', 'corollari', 'corpora', 'corpu', 'correct', 'correctli', 'correl', 'correspond', 'correspondingli', 'corrupt', 'cortex', 'cosin', 'cost', 'costli', 'costsensit', 'cotempor', 'could', 'count', 'countbas', 'counteract', 'counterexampl', 'counterfactu', 'counterpart', 'coupl', 'cours', 'covari', 'coverag', 'cp', 'cpu', 'cpugpu', 'crack', 'craft', 'crawl', 'creat', 'creation', 'creativ', 'creatur', 'criteria', 'criteriabas', 'criterion', 'critic', 'cross', 'crosscategori', 'crossentropi', 'crosslingu', 'crossmod', 'crossmodel', 'crosspollin', 'crosstask', 'crossview', 'crowd', 'crowdsourc', 'crowdwork', 'crucial', 'cryptograph', 'cst', 'ctc', 'cub', 'cue', 'cult', 'cumul', 'cup', 'current', 'curriculum', 'curs', 'cursor', 'curv', 'curvatur', 'curvi', 'custom', 'customiz', 'cut', 'cycl', 'cyclic', 'cyclon', 'czech', 'dae', 'daili', 'danger', 'data', 'dataand', 'databas', 'datadepend', 'datadriven', 'dataeffici', 'datafit', 'dataflow', 'datahungri', 'datapoint', 'datarich', 'dataset', 'datasetsmaluubacomnewsqa', 'datastructur', 'date', 'datset', 'db', 'dc', 'dcgan', 'dcn', 'dcnn', 'dconvolut', 'dcr', 'de', 'deal', 'deathmatch', 'death”', 'decay', 'deceiv', 'decent', 'decid', 'decim', 'decis', 'decisionmak', 'declar', 'decod', 'decoderbas', 'decompos', 'decomposit', 'decorrel', 'decoupl', 'decreas', 'decrypt', 'dedic', 'deduc', 'deep', 'deeper', 'deeperlevel', 'deepli', 'deeprebirth', 'deepspeech', 'deepsrsc', 'defend', 'defens', 'defi', 'defin', 'definit', 'deform', 'degener', 'degrad', 'degre', 'delay', 'delet', 'delic', 'delight', 'deliv', 'demand', 'demonstr', 'denois', 'denoiserguid', 'dens', 'densenet', 'densesparsedens', 'densif', 'densiti', 'dentat', 'depart', 'depend', 'depict', 'deploy', 'depth', 'depthinvari', 'deriv', 'derivativefre', 'descent', 'descentsgd', 'describ', 'descript', 'descriptioncapt', 'descriptor', 'design', 'desir', 'despit', 'destroy', 'detail', 'detect', 'detector', 'deterior', 'determin', 'determinist', 'detriment', 'develop', 'developersmanag', 'deviat', 'devic', 'devis', 'dgcca', 'dgx', 'di', 'diagnos', 'diagnosi', 'diagon', 'diagram', 'dialog', 'dialogu', 'dichotomi', 'dichromat', 'dictat', 'dictionari', 'dictionarylearn', 'differ', 'differenceofconvex', 'differenti', 'differentneur', 'differentword', 'diffi', 'difficult', 'difficulti', 'digit', 'dimens', 'dimension', 'direct', 'directli', 'dirichlet', 'disadvantag', 'disambigu', 'discard', 'disconnect', 'discontinu', 'discov', 'discoveri', 'discrep', 'discret', 'discrim', 'discrimin', 'discuss', 'diseas', 'disentangl', 'disjoint', 'display', 'dissimilar', 'distanc', 'distil', 'distinct', 'distinguish', 'distort', 'distract', 'distractor', 'distribut', 'distributedcomput', 'distributionsensit', 'disturb', 'diverg', 'divers', 'diversityaug', 'divid', 'dizzi', 'dk', 'dlgm', 'dna', 'dnn', 'dntm', 'document', 'docvecc', 'doesn’t', 'dogfac', 'domain', 'domainagnost', 'domaindepend', 'domaininvari', 'domainspecif', 'domin', 'done', 'doom', 'door', 'dot', 'doublyrecurr', 'download', 'downpour', 'downsampl', 'downstream', 'downward', 'downweight', 'dozen', 'dqn', 'dragnn', 'dramat', 'drastic', 'draw', 'drawback', 'drawn', 'drive', 'driven', 'drop', 'dropconnect', 'dropout', 'dropout’', 'droppath', 'drug', 'dsd', 'dsl', 'dtn', 'dual', 'duc', 'due', 'duel', 'durat', 'dva', 'dvbf', 'dynam', 'earli', 'earlier', 'earlystopp', 'easi', 'easier', 'easili', 'easton', 'easytoimpl', 'eavesdrop', 'ebgan', 'ebssc', 'eccentr', 'ecolog', 'ecommerc', 'econom', 'econometr', 'economi', 'ecsq', 'edg', 'edgebox', 'editor', 'educ', 'edward', 'eeg', 'effect', 'efficaci', 'effici', 'effort', 'effortlessli', 'eg', 'egocentr', 'ehr', 'eigenvalu', 'eight', 'either', 'elast', 'electron', 'element', 'elementari', 'elementwis', 'elig', 'elimin', 'ell', 'ellp', 'elu', 'elus', 'em', 'emapproach', 'emb', 'embed', 'embeddingbas', 'embeddings–fix', 'emerg', 'emot', 'emphadapt', 'emphamortis', 'emphas', 'emphautomat', 'emphclassifi', 'emphgen', 'emphhierarchi', 'emphlabyrinth', 'emphright', 'emphtextbfneur', 'empir', 'employ', 'emul', 'enabl', 'enc', 'encapsul', 'encod', 'encoderdecod', 'encount', 'encourag', 'encrypt', 'end', 'endcomput', 'endow', 'endtoend', 'energi', 'energybas', 'enet', 'enforc', 'enfr', 'engin', 'english', 'englishfrench', 'englishgerman', 'englishromanian', 'englishtogerman', 'english–german', 'enhanc', 'enjoy', 'enorm', 'enough', 'enrich', 'ensembl', 'ensemblebas', 'ensur', 'entail', 'entangl', 'entertain', 'entir', 'entireti', 'entiti', 'entri', 'entropi', 'entropyconstrain', 'entropysgd', 'enum', 'environ', 'environment', 'enwik', 'epitom', 'epoch', 'epopt', 'epsilon', 'epsilongreedi', 'eql', 'equal', 'equat', 'equip', 'equival', 'equivari', 'er', 'era', 'erron', 'error', 'escap', 'especi', 'essenc', 'essenti', 'establish', 'estim', 'estimationa', 'et', 'etc', 'eth', 'euclidean', 'europarl', 'eva', 'evalu', 'eve', 'even', 'event', 'eventu', 'ever', 'everi', 'everincreas', 'everywher', 'evid', 'evolut', 'evolutionari', 'evolv', 'exact', 'exactli', 'examin', 'exampl', 'exceed', 'exceedingli', 'excel', 'except', 'exchang', 'exclus', 'execut', 'exemplar', 'exhaust', 'exhibit', 'exist', 'exm', 'expand', 'expans', 'expect', 'expectationlinear', 'expend', 'expens', 'experi', 'experienc', 'experiment', 'expert', 'expertis', 'explain', 'explainingaway', 'explan', 'explicit', 'explicitli', 'explod', 'exploit', 'explor', 'exploratori', 'exponenti', 'export', 'expos', 'express', 'extend', 'extens', 'extent', 'extern', 'extra', 'extract', 'extractor', 'extran', 'extrapol', 'extratrop', 'extrem', 'extrema', 'extrins', 'f', 'fabia', 'face', 'facebook', 'facilit', 'fact', 'facto', 'factoid', 'factor', 'factoris', 'fail', 'failur', 'fair', 'falsealarm', 'famili', 'faq', 'far', 'fascin', 'fashion', 'fashionattribut', 'fashionproduct', 'fashionrel', 'fashionstyl', 'fast', 'faster', 'fasttext', 'fault', 'favor', 'favour', 'fbk', 'fcn', 'fct', 'fdiverg', 'fear', 'feasibl', 'featur', 'featuretransform', 'fed', 'feedback', 'feedforward', 'fetch', 'fewer', 'fewshot', 'field', 'fifa', 'fifo', 'figar', 'figur', 'file', 'fill', 'filter', 'filtersa', 'final', 'financ', 'find', 'fine', 'finegrain', 'finetun', 'finit', 'finitedimension', 'finitesampl', 'first', 'firstli', 'firstord', 'firstperson', 'fisher', 'fit', 'five', 'fix', 'fixat', 'fixeddepth', 'fixeddimension', 'fixedmargin', 'fixeds', 'flashbas', 'flat', 'flexibl', 'fli', 'flickrk', 'float', 'floatingpoint', 'flop', 'flow', 'flower', 'fluctuat', 'focu', 'focus', 'folklor', 'follow', 'fool', 'foot', 'footprint', 'forc', 'forecast', 'foreground', 'forg', 'forget', 'forgiv', 'form', 'formal', 'format', 'former', 'formid', 'formul', 'formula', 'forth', 'forward', 'found', 'foundat', 'four', 'fourier', 'fourth', 'fovea', 'fp', 'fpga', 'fractal', 'fractalnet', 'fraction', 'fragment', 'frame', 'framebas', 'framework', 'fraught', 'free', 'freedom', 'freeli', 'freelylearn', 'freelylicens', 'frequenc', 'frequent', 'friction', 'friend', 'front', 'fruit', 'fscore', 'full', 'fullfledg', 'fulli', 'fullprecis', 'fullyconnect', 'function', 'functionsand', 'fundament', 'furthermor', 'fuse', 'fusion', 'futur', 'g', 'ga', 'gain', 'gait', 'galaxi', 'game', 'gamtyp', 'gan', 'ganglion', 'ganitkevitch', 'gap', 'garch', 'garner', 'gate', 'gatedattent', 'gatedrecurrentunit', 'gather', 'gati', 'gaussian', 'gaussianlik', 'gaussianlinear', 'gausssiedel', 'gcrn', 'ge', 'gelu', 'gemm', 'gen', 'gender', 'gene', 'gener', 'generalis', 'generaliz', 'generalpurpos', 'genesi', 'genet', 'genom', 'genr', 'genuin', 'geometr', 'geometri', 'geoscienc', 'gergen', 'germanenglish', 'gestur', 'get', 'ggm', 'ggsnn', 'ggtnn', 'gibb', 'gigaword', 'github', 'give', 'given', 'glass', 'glm', 'glmrnn', 'global', 'gman', 'gmu', 'go', 'goal', 'goaldriven', 'goalori', 'gocnn', 'goe', 'goldstandard', 'goo', 'good', 'googl', 'googlenet', 'govern', 'government', 'gpgpu', 'gpu', 'gradeschool', 'gradient', 'gradientbas', 'gradientestim', 'gradientfre', 'gradual', 'grain', 'gram', 'grammar', 'grand', 'granular', 'graph', 'graphbas', 'graphdiscoveri', 'graphic', 'graphicslik', 'graphstructur', 'grave', 'grayscal', 'great', 'greater', 'greatli', 'greedi', 'grid', 'ground', 'groundtruth', 'group', 'groupwis', 'grow', 'growth', 'gru', 'grucontrol', 'grud', 'guarante', 'guard', 'guess', 'guid', 'guidanc', 'guidelin', 'gumbellik', 'gx', 'gyru', 'hacker', 'half', 'halfrectifi', 'hallmark', 'halt', 'ham', 'hamiltonjacobiisaac', 'hamper', 'han', 'hand', 'handcraft', 'handdesign', 'handengin', 'handgestur', 'handl', 'handwrit', 'handwritten', 'happen', 'har', 'hard', 'harder', 'hardest', 'hardwar', 'harm', 'hash', 'hashednet', 'hashtag', 'hbpl', 'hcn', 'hcn’', 'hdphmm', 'head', 'health', 'healthcar', 'heart', 'heavi', 'heavili', 'held', 'heldout', 'help', 'henc', 'henderson', 'herein', 'hertz', 'hessian', 'hessianweight', 'heterogen', 'heteroskedast', 'heurist', 'hfh', 'hidden', 'hiddenlay', 'hiddentohidden', 'hide', 'hierarch', 'hierarchi', 'high', 'highdimens', 'highdimension', 'higher', 'higherlevel', 'higherord', 'highlevel', 'highli', 'highlight', 'highlysymmetr', 'highord', 'highperform', 'highprior', 'highqual', 'highresolut', 'highway', 'hinder', 'hinton', 'hippocampu', 'histogram', 'histor', 'histori', 'hitherto', 'hmm', 'hogwild', 'hol', 'hold', 'holdout', 'hole', 'hollywood', 'hominin', 'homogen', 'homolog', 'honeybe', 'honor', 'hope', 'hopfield', 'horizon', 'hornn', 'horst', 'host', 'hour', 'howev', 'hsmm', 'ht', 'huffman', 'huge', 'hull', 'human', 'humandesign', 'humaninv', 'humanlevel', 'humanlik', 'hundr', 'hurrican', 'hurt', 'hutter', 'hybrid', 'hyperband', 'hyperbol', 'hypercub', 'hypernetwork', 'hyperparamet', 'hypothes', 'hypothesi', 'iaec', 'iam', 'iclr', 'ide', 'idea', 'ideal', 'ideat', 'ident', 'identif', 'identifi', 'idiomat', 'idl', 'ie', 'ignit', 'ignor', 'ii', 'iii', 'illcondit', 'illpos', 'illustr', 'imag', 'imagelik', 'imagenet', 'imageri', 'imagetext', 'imagetotext', 'imagin', 'imbal', 'imdb', 'imit', 'immedi', 'immens', 'immers', 'immut', 'impact', 'imped', 'impercept', 'imperfect', 'implant', 'implaus', 'implement', 'impli', 'implic', 'implicit', 'implicitli', 'import', 'importantli', 'impos', 'impract', 'impress', 'improv', 'imput', 'in', 'inaccur', 'inadequaci', 'inadvert', 'inappropri', 'incent', 'incept', 'includ', 'incom', 'incomplet', 'incorpor', 'incorrect', 'incorrectli', 'increas', 'increasingli', 'increment', 'incur', 'inde', 'independ', 'indepth', 'index', 'indic', 'indirect', 'indirectli', 'indiscrimin', 'indispens', 'individu', 'induc', 'induct', 'industri', 'ineffect', 'ineffici', 'inexperienc', 'infant', 'infeas', 'infer', 'inferior', 'infiniband', 'infinit', 'inflect', 'influenc', 'infomax', 'infor', 'inform', 'informationtheoret', 'infrastructur', 'infus', 'ingredi', 'inher', 'inhost', 'initi', 'inject', 'injur', 'inner', 'innov', 'inpaint', 'input', 'inputoutput', 'inputswitch', 'inputtohidden', 'inq', 'inria', 'insepar', 'inseper', 'insert', 'insid', 'insight', 'inspect', 'inspir', 'instabl', 'instal', 'instanc', 'instanti', 'instantli', 'instead', 'instorag', 'instruct', 'instrument', 'instrumentnot', 'insuffici', 'integ', 'integr', 'intel', 'intellig', 'intend', 'intens', 'intent', 'interact', 'interbreed', 'interdepend', 'interest', 'interestingli', 'interfac', 'interfer', 'interfield', 'interior', 'interleav', 'intermedi', 'intern', 'internetofth', 'interplay', 'interpol', 'interpret', 'interspeci', 'intertwin', 'interv', 'intervent', 'interwoven', 'intract', 'intrainterdataset', 'intrakernel', 'intrigu', 'intriguingli', 'intrins', 'introduc', 'introduct', 'intrus', 'intuit', 'intuitionlak', 'invari', 'invers', 'invert', 'invest', 'investig', 'involv', 'io', 'iou', 'iqa', 'irn', 'irregular', 'irrelev', 'irrevers', 'isn’t', 'isol', 'isp', 'ispml', 'issu', 'italian', 'item', 'iter', 'it’', 'iwslt', 'jacobian', 'janssen', 'japanes', 'javascript', 'jdiagram', 'jiang', 'jmvae', 'jmvaekl', 'joint', 'jointangl', 'jointli', 'jonschkowski', 'journal', 'jpeg', 'judg', 'judgement', 'judgment', 'jumpstart', 'justif', 'justifi', 'k', 'keep', 'kept', 'kernel', 'kernelbas', 'kernelpca', 'kershenbaum', 'key', 'keypoint', 'keyspac', 'keyvalu', 'kind', 'kl', 'kldiverg', 'kmean', 'knapsack', 'know', 'knowledg', 'known', 'kpca', 'krogh', 'kshot', 'kstep', 'kth', 'l', 'label', 'labor', 'laboratori', 'labori', 'labyrinth', 'lack', 'lagrangian', 'laid', 'landmark', 'landscap', 'langevin', 'languag', 'languageagnost', 'languagemodel', 'lantm', 'larg', 'largebatch', 'larger', 'largescal', 'largest', 'laser', 'lasso', 'last', 'lastli', 'late', 'latenc', 'latent', 'latentdataspac', 'latentvari', 'later', 'latest', 'lation', 'latter', 'lattic', 'layer', 'layerrnn', 'layerwis', 'layout', 'lda', 'le', 'lead', 'leak', 'leaki', 'learn', 'learnabl', 'learner', 'learningbas', 'learningto', 'learnt', 'least', 'leav', 'led', 'left', 'leftright', 'lem', 'lenet', 'length', 'lengthi', 'less', 'let', 'letter', 'level', 'leverag', 'lexicon', 'li', 'librari', 'librispeech', 'licens', 'lie', 'lieaccess', 'liegroup', 'life', 'lifeclef', 'lifelong', 'lift', 'ligandbas', 'light', 'lighthous', 'like', 'likelihood', 'likelihoodfre', 'limit', 'limiteddata', 'line', 'linear', 'linearchain', 'linearfeedback', 'linearli', 'lineartim', 'linguist', 'link', 'lipnet', 'lipread', 'list', 'listen', 'literatur', 'litmu', 'littl', 'liu', 'lloyd', 'llregular', 'load', 'local', 'localentropybas', 'localis', 'localsearch', 'localstructur', 'locat', 'locationbas', 'lock', 'log', 'logic', 'logist', 'loglikelihood', 'loglinear', 'logloss', 'logprob', 'long', 'longer', 'longheld', 'longrang', 'longshort', 'longterm', 'longtim', 'look', 'loop', 'loss', 'lossawar', 'lossi', 'lot', 'love', 'low', 'lowcost', 'lowdimension', 'lower', 'lowerdimension', 'lowerlevel', 'lowfidel', 'lowlevel', 'lowoverhead', 'lowpow', 'lowprecis', 'lowrank', 'lowresolut', 'lowshot', 'lp', 'lregular', 'lrgan', 'lrnn', 'lsd', 'lsr', 'lstm', 'lstmbase', 'lstmrnn', 'lsun', 'mac', 'machin', 'macro', 'macroact', 'macroarchitectur', 'made', 'magnitud', 'magnitudebas', 'mail', 'main', 'mainli', 'mainstream', 'maintain', 'mainten', 'mairal', 'major', 'make', 'malici', 'manag', 'mani', 'manifest', 'manifold', 'manipul', 'manner', 'manual', 'manuallydesign', 'manytask', 'manyview', 'map', 'marco', 'margin', 'mark', 'marker', 'market', 'markov', 'markovchain', 'markovian', 'mask', 'mass', 'massiv', 'master', 'match', 'matchlstm', 'materi', 'mathcalotextpolylogvarepsilon', 'mathemat', 'mation', 'matric', 'matrix', 'matrixmatrix', 'matrixvector', 'max', 'maxim', 'maxima', 'maximallycorrel', 'maximis', 'maximum', 'maximumli', 'maximumlikelihoodtrain', 'maxpool', 'maxproduct', 'may', 'maze', 'mb', 'mcmc', 'mda', 'mdl', 'mdp', 'mean', 'meanfield', 'meaning', 'meanings”', 'meanwhil', 'measur', 'mechan', 'media', 'medic', 'medicin', 'meet', 'mel', 'melodi', 'member', 'membership', 'memori', 'memoryaccess', 'memoryaug', 'memorybas', 'memoryless', 'memorynetwork', 'mendat', 'mental', 'mention', 'mercerkernel', 'merck', 'mere', 'merg', 'merit', 'messag', 'meta', 'metacontrol', 'metalearn', 'metamodel', 'metaprogram', 'metaqnn', 'meteorolog', 'method', 'methodolog', 'metric', 'metriclearn', 'mfa', 'mfcc', 'mhp', 'microaverag', 'microblog', 'micromanag', 'microphon', 'mid', 'midcomput', 'middl', 'might', 'mikolov', 'mild', 'mileston', 'million', 'mimic', 'mimiciii', 'mind', 'mine', 'minecraftinspir', 'minibatch', 'miniimagenet', 'minim', 'minima', 'minimalist', 'minimax', 'minimis', 'minimum', 'minor', 'mip', 'misclassif', 'misclassifi', 'mislead', 'mismatch', 'miss', 'missing', 'mistak', 'mitig', 'mix', 'mixtur', 'mixtureofexpert', 'mizat', 'ml', 'mle', 'mlp', 'mlstm', 'mmd', 'mmimdb', 'mnist', 'mobil', 'mocap', 'modal', 'mode', 'model', 'modelbas', 'modelfre', 'modelingth', 'modelsmodel', 'model’', 'modern', 'modif', 'modifi', 'modul', 'modular', 'moe', 'molecular', 'mollifi', 'moment', 'monitor', 'monolingu', 'monolith', 'monoton', 'monotonic—or', 'mont', 'montecarlo', 'month', 'moreov', 'morph', 'morphabl', 'morphism', 'morpholog', 'mostli', 'motif', 'motion', 'motiv', 'motor', 'mount', 'mouth', 'move', 'movement', 'movi', 'movielen', 'mpi', 'mpii', 'mpmp', 'mpn', 'mri', 'ms', 'mscoco', 'mse', 'msmarco', 'msrvtt', 'msssim', 'mst', 'msvd', 'mt', 'mtl', 'much', 'mujoco', 'multi', 'multiadversari', 'multiag', 'multichannel', 'multiclass', 'multicor', 'multidigit', 'multidimension', 'multifield', 'multigpu', 'multihop', 'multilabel', 'multilay', 'multilingu', 'multimod', 'multinomi', 'multipl', 'multiplyaccumul', 'multiscal', 'multisens', 'multispeci', 'multistat', 'multistep', 'multitask', 'multivari', 'multiview', 'muscleactiv', 'music', 'musicnet', 'musrov', 'must', 'mutipl', 'mutual', 'mvad', 'n', 'nade', 'naiv', 'name', 'nand', 'narrow', 'narrowprecis', 'natur', 'navig', 'ndf', 'ndp', 'near', 'nearbi', 'neardata', 'nearest', 'nearestneighbor', 'nearli', 'nearoptim', 'nearperfect', 'necess', 'necessari', 'necessarili', 'need', 'neg', 'neglig', 'neighbor', 'neighborhood', 'neighbour', 'neither', 'neocortex', 'nest', 'nesterov', 'net', 'network', 'networkbas', 'networkintrain', 'network’', 'neural', 'neuralnetwork', 'neuralnetworkbas', 'neuraltalk', 'neurogenesi', 'neuron', 'neurosci', 'neurosymbol', 'never', 'nevertheless', 'new', 'news', 'newsqa', 'newswir', 'newton', 'next', 'nextstep', 'nextword', 'ngram', 'nguyen', 'nin', 'nintendo', 'nklm', 'nlp', 'nn', 'nnml', 'node', 'nois', 'noisecontrast', 'noiseout', 'noisest', 'noisi', 'nonadapt', 'nonaug', 'nonchaot', 'nonconvex', 'noncpn', 'nondeduc', 'nondifferenti', 'nondifferentiabilti', 'nondiscrimin', 'none', 'nonequilibrium', 'nonexist', 'nonfactoid', 'nonhuman', 'nonhybrid', 'noninteg', 'nonlinear', 'nonloc', 'nonneg', 'nonneur', 'nonoverlap', 'nonparametr', 'nonperiod', 'nonprobabilist', 'nonrandom', 'nonrigid', 'nonsali', 'nonsecret', 'nonshar', 'nonsmooth', 'nonstationari', 'nontarget', 'nontermin', 'nontrivi', 'nonuniform', 'nonvolum', 'norb', 'norm', 'normal', 'notabl', 'note', 'noteworthi', 'notic', 'notion', 'notori', 'noun', 'novel', 'novelti', 'nowlan', 'npe', 'nphard', 'nse', 'ntm', 'nucleotid', 'nuisanc', 'null', 'number', 'numer', 'nvidia', 'nvlink', 'nvp', 'object', 'objectbas', 'objectrel', 'obliter', 'obscen', 'observ', 'obstacl', 'obtain', 'obviou', 'occlud', 'occlus', 'occur', 'occurr', 'odk', 'offer', 'offic', 'offlin', 'offload', 'offpolici', 'often', 'oil', 'older', 'olog', 'omegatextpolyvarepsilon', 'omiss', 'omit', 'omniglot', 'omnipres', 'ond', 'one', 'onehot', 'onepass', 'oneshot', 'onesizefitsal', 'onlin', 'onpolici', 'onthefli', 'onto', 'ontolog', 'open', 'openbigram', 'openvocabulari', 'oper', 'operand', 'opinion', 'oppon', 'oppos', 'opt', 'opti', 'optim', 'optima', 'optimis', 'optimum', 'oracl', 'orca', 'order', 'ordertochao', 'orderwis', 'ordinari', 'organ', 'orient', 'origin', 'origintarget', 'orthogon', 'orthonorm', 'orthoreg', 'oscil', 'oshiet', 'ostens', 'other', 'otherwis', 'other’', 'outcom', 'outlier', 'outlin', 'outofdistribut', 'outofdomain', 'outofsampl', 'outofvocabulari', 'outperform', 'output', 'outsid', 'overal', 'overcom', 'overcomplet', 'overemphas', 'overfeat', 'overfit', 'overflow', 'overhead', 'overlap', 'overparameter', 'overparametr', 'overprun', 'oversmooth', 'owe', 'p', 'packag', 'pair', 'pairwis', 'paleo', 'panayotov', 'paper', 'par', 'parabl', 'paradigm', 'paradigmat', 'paragraph', 'parallel', 'paramet', 'parameter', 'parameterfre', 'parameteris', 'parametershar', 'parametr', 'parametris', 'paramount', 'paraphras', 'parasol', 'pare', 'parmac', 'pars', 'parser', 'part', 'partial', 'partiallyobserv', 'particip', 'particular', 'particularli', 'partit', 'partli', 'partner', 'pascal', 'pass', 'passag', 'passiv', 'passthrough', 'past', 'patch', 'pate', 'path', 'patholog', 'patient', 'patient’', 'pattern', 'pay', 'payload', 'pc', 'pcasvd', 'pde', 'pedagogi', 'pedestrian', 'pelu', 'pen', 'penal', 'penalti', 'penalty”', 'pendulum', 'penn', 'pentip', 'peopl', 'per', 'perceiv', 'percent', 'percentag', 'percept', 'perceptron', 'perceptu', 'perexampl', 'perfect', 'perform', 'perhap', 'period', 'peripheri', 'permit', 'permut', 'permutationinvari', 'perplex', 'persist', 'person', 'perspect', 'persuas', 'pertask', 'perturb', 'perunit', 'pgql', 'phase', 'phenomen', 'phenomena', 'phenomenon', 'phi', 'phone', 'phonem', 'phonet', 'phrase', 'phrasebas', 'phylogenet', 'physic', 'physiolog', 'physionet', 'pick', 'piec', 'piecewis', 'piecewiselinear', 'pipelin', 'pixel', 'pixelcnn', 'pixellevel', 'pixelrnncnn', 'pixelva', 'pixelwis', 'place', 'plain', 'plan', 'planar', 'plane', 'plastic', 'platform', 'plausibl', 'play', 'player', 'plcnn', 'pleas', 'plenti', 'plethora', 'plot', 'plu', 'plug', 'pn', 'po', 'point', 'pointcould', 'pointer', 'pointmass', 'polici', 'policybas', 'polygon', 'polymorph', 'polynomi', 'polynomialfeatur', 'polyphon', 'polysem', 'polysemi', 'pool', 'poor', 'poorer', 'poorli', 'poorlygeneraliz', 'popul', 'popular', 'portabl', 'portion', 'pose', 'posit', 'possess', 'possibl', 'poster', 'posterior', 'posteriori', 'posthoc', 'postlayout', 'potenti', 'power', 'powerenergi', 'prac', 'practic', 'practition', 'pre', 'preced', 'precis', 'precomput', 'predefin', 'predic', 'predict', 'predictor', 'prednet', 'preexist', 'prefer', 'preimag', 'preliminari', 'premium', 'prepar', 'preprocess', 'prescrib', 'presenc', 'present', 'preserv', 'pretrain', 'pretraincnn', 'preval', 'prevent', 'previou', 'previous', 'primari', 'primarili', 'primat', 'prime', 'primit', 'principl', 'prior', 'priori', 'prioriti', 'privaci', 'privacyutil', 'privat', 'privileg', 'prize', 'pro', 'prob', 'probabilist', 'probabl', 'probe', 'problem', 'problemat', 'problemdepend', 'probleminst', 'problemspecif', 'proce', 'procedur', 'proceed', 'process', 'processor', 'prodig', 'prodlda', 'produc', 'product', 'productiongrad', 'profit', 'program', 'programm', 'programmerinterpret', 'progress', 'prohibit', 'project', 'promin', 'promis', 'promot', 'prone', 'proof', 'propag', 'proper', 'properli', 'properti', 'proport', 'propos', 'proposit', 'protect', 'protocol', 'prototxt', 'prototyp', 'provabl', 'prove', 'proven', 'provid', 'provis', 'proxi', 'proxim', 'prune', 'pseudodictionari', 'pseudoensembl', 'pseudoreward', 'ptb', 'public', 'publicli', 'publish', 'pure', 'purpos', 'pursu', 'pursuit', 'put', 'pxz', 'pymc', 'python', 'pz', 'q', 'qa', 'qiter', 'qlearn', 'qm', 'qnetwork', 'qr', 'qraq', 'qrnn', 'qualit', 'qualiti', 'quantifi', 'quantifiyng', 'quantit', 'quantiti', 'quantiz', 'quasiconvex—', 'quasiimpercept', 'quasirecurr', 'queri', 'queryspecif', 'question', 'questionansw', 'questionawar', 'questionguid', 'queue', 'quick', 'quickli', 'quicksort', 'quir', 'quit', 'qvalu', 'r', 'race', 'radialangular', 'radic', 'rais', 'rajpurkar', 'ram', 'random', 'randomli', 'randomlypermut', 'randomweight', 'rang', 'rank', 'rapid', 'rapidli', 'rare', 'rate', 'ratedistort', 'rather', 'ratio', 'raw', 'rbm', 'rc', 'rcnn', 'reach', 'reacher', 'read', 'reader', 'readers”', 'readili', 'readwrit', 'real', 'realis', 'realist', 'realisticlook', 'realiz', 'realli', 'reallif', 'realtim', 'realvalu', 'realworld', 'reason', 'reasonet', 'rebirth', 'recal', 'receiv', 'recent', 'recip', 'recogn', 'recognis', 'recognit', 'recogniz', 'recom', 'recombin', 'recommend', 'reconsid', 'reconstruct', 'record', 'recov', 'recoveri', 'rectifi', 'recurr', 'recurrentconvolut', 'recurs', 'recursivereverserecurs', 'red', 'redens', 'redmushroom', 'reduc', 'reduct', 'redud', 'redund', 'refer', 'referenti', 'refin', 'reflect', 'reformul', 'regain', 'regard', 'regardless', 'regim', 'region', 'regionofinterest', 'regist', 'regress', 'regular', 'reimplement', 'reinforc', 'reiniti', 'reject', 'rekindl', 'rel', 'relat', 'related', 'relationship', 'relax', 'relay', 'releas', 'relev', 'reli', 'reliabl', 'relianc', 'reliv', 'relu', 'remain', 'remark', 'remb', 'remedi', 'rememb', 'reminisc', 'remov', 'render', 'rendergan', 'renew', 'reparameter', 'repeat', 'repeatedli', 'repetit', 'replac', 'replay', 'replic', 'report', 'repositori', 'repres', 'represent', 'representations—random', 'reproduc', 'reput', 'requir', 'rerank', 'research', 'resembl', 'reserv', 'reset', 'resid', 'residu', 'resili', 'resnet', 'resolut', 'resolv', 'resourc', 'respect', 'respond', 'respons', 'rest', 'restart', 'restaur', 'restrict', 'result', 'resurg', 'retain', 'retin', 'retina', 'retrain', 'retriev', 'retrievalbas', 'retro', 'return', 'reus', 'reveal', 'review', 'revis', 'revisit', 'reward', 'rewardshap', 'rfn', 'rhsmm', 'rich', 'richer', 'riemannian', 'right', 'rigid', 'rigor', 'rim', 'rime', 'rise', 'risk', 'rival', 'rl', 'rle', 'rmsprop', 'rn', 'rnn', 'rnnbase', 'robot', 'robust', 'robustli', 'roc', 'roi', 'role', 'rollout', 'room', 'root', 'rotat', 'roughli', 'round', 'routin', 'rover', 'row', 'rule', 'rulebas', 'run', 'runespeci', 'runtim', 'sacrif', 'sacrific', 'saddl', 'saddlesurfac', 'saen', 'safeti', 'salesman', 'salienc', 'salient', 'samdp', 'sampl', 'sampleeffici', 'sampler', 'samsung', 'sandi', 'satisfactori', 'satisfactorili', 'satisfi', 'satur', 'save', 'saw', 'say', 'sbvae', 'scalabl', 'scalar', 'scale', 'scaleinvari', 'scan', 'scarc', 'scatter', 'scatwav', 'scenario', 'scene', 'schedul', 'scheme', 'scienc', 'scientif', 'scientist', 'scope', 'score', 'scratch', 'screen', 'scribbl', 'scrutini', 'sdae', 'seamless', 'seamlessli', 'search', 'season', 'sec', 'second', 'secondari', 'secondord', 'secret', 'section', 'secur', 'see', 'seek', 'seem', 'seemingli', 'seen', 'sega', 'segment', 'select', 'selector', 'selfensembl', 'selfsimilar', 'selfsupervis', 'sem', 'semant', 'semiaggreg', 'semimarkov', 'semisupervis', 'send', 'sender', 'sens', 'sensibl', 'sensit', 'sensor', 'sensori', 'sensorimotor', 'sensorymotor', 'sent', 'sentenc', 'sentencelevel', 'sentiment', 'sentinel', 'sentinellstm', 'separ', 'seqseq', 'sequenc', 'sequencelearn', 'sequencetosequ', 'sequenti', 'seri', 'serial', 'seriou', 'serious', 'serv', 'server', 'servic', 'servo', 'set', 'setganalysissecur', 'setoutli', 'setup', 'sever', 'sfnn', 'sgd', 'sgld', 'sgn', 'shade', 'shadow', 'shallow', 'shannon', 'shape', 'share', 'sharedmemori', 'sharp', 'sharper', 'shatter', 'shed', 'shift', 'shooter', 'short', 'shortcom', 'shortcut', 'shortli', 'shortterm', 'show', 'showcas', 'shown', 'shrink', 'shuffl', 'siames', 'side', 'sideinform', 'sigmacdot', 'sigmadelta', 'sigmawj', 'sigmoid', 'signal', 'signific', 'significantli', 'silhouett', 'silicon', 'sim', 'simec', 'similar', 'similarli', 'simpl', 'simplequest', 'simpler', 'simplest', 'simpli', 'simplic', 'simplif', 'simplifi', 'simplifiedsfnn', 'simplist', 'simul', 'simultan', 'sinc', 'singl', 'singlefilt', 'singlelay', 'singlemod', 'singlepass', 'singleprecis', 'singlescal', 'singlestep', 'singular', 'sinusoid', 'sisyphean', 'site', 'situat', 'six', 'size', 'skeleton', 'sketch', 'skill', 'skipgram', 'sky', 'sleec', 'slight', 'slightli', 'slot', 'slotfil', 'slow', 'small', 'smallbatch', 'smaller', 'smallest', 'smart', 'smartphon', 'smooth', 'smoother', 'smtbase', 'snapshot', 'sne', 'snp', 'socal', 'soccer', 'social', 'soft', 'softli', 'softmax', 'softselect', 'softtarget', 'softwar', 'solicit', 'solid', 'solidst', 'solut', 'solv', 'solver', 'sometim', 'somewhat', 'song', 'sophist', 'sort', 'sound', 'soundli', 'soundscap', 'sourc', 'sourcetarget', 'sp', 'space', 'span', 'spark', 'spars', 'sparsecod', 'sparselyconnect', 'sparselyg', 'sparsewithdens', 'sparsiti', 'sparsitycentr', 'spatial', 'spatiotempor', 'spawn', 'speaker', 'speci', 'special', 'specif', 'specifi', 'spectral', 'spectrogram', 'spectrum', 'speech', 'speed', 'speedup', 'spend', 'spheric', 'spike', 'spin', 'spirit', 'spite', 'split', 'spn', 'spoken', 'spot', 'sppmi', 'sprite', 'spuriou', 'sq', 'sqrtd', 'squad', 'squar', 'squeezenet', 'sr', 'srivastava', 'srsc', 'ssd', 'sspn', 'ssrl', 'stabil', 'stabl', 'stack', 'stage', 'stagewis', 'stan', 'stand', 'standard', 'stanford', 'starcraft', 'stark', 'start', 'state', 'statement', 'stateof', 'stateofart', 'stateofth', 'stateoftheart', 'statespac', 'static', 'staticallytyp', 'stationari', 'statist', 'statistician', 'steadili', 'steer', 'steerabl', 'steganalysi', 'steganograph', 'steganographi', 'stein', 'stem', 'step', 'stickbreak', 'still', 'stitch', 'stl', 'stochast', 'stock', 'stop', 'storag', 'store', 'stori', 'straggl', 'straggler', 'straightforward', 'strata', 'strategi', 'stratif', 'stream', 'streamlin', 'street', 'strength', 'strictli', 'stride', 'strikingli', 'string', 'stroke', 'strong', 'stronger', 'strongli', 'structur', 'structuralinform', 'structurecondit', 'structure”', 'struggl', 'student', 'studentteach', 'studi', 'studio', 'style', 'subgoal', 'subgradi', 'subgraph', 'subject', 'submodel', 'submodular', 'subnetwork', 'suboptim', 'subpath', 'subpixel', 'subpolici', 'subregion', 'subsequ', 'subset', 'subspac', 'substanti', 'substitut', 'subtask', 'subtre', 'subvert', 'subword', 'succeed', 'succes', 'success', 'succinctli', 'suffer', 'suffici', 'suggest', 'suit', 'suitabl', 'sum', 'sumjk', 'summar', 'summari', 'summaris', 'summat', 'sumnod', 'sumproduct', 'sun', 'sunset', 'super', 'superb', 'supercomput', 'superhuman', 'superior', 'superoptim', 'superresolut', 'supervis', 'supervisedli', 'supervisor', 'supervisori', 'supplement', 'supplementari', 'suppli', 'support', 'suppos', 'surfac', 'surpass', 'surpris', 'surprisaldriven', 'surprisingli', 'surround', 'suscept', 'sustain', 'svd', 'svhn', 'svm', 'sweet', 'syllabi', 'symbol', 'symmetr', 'symmetri', 'symmetrybreak', 'symsgd', 'symsgd’', 'synchron', 'synergi', 'synonym', 'syntact', 'syntax', 'syntaxdirect', 'synthes', 'synthesi', 'synthesis', 'synthet', 'system', 'systemat', 'systemcal', 'systemlevel', 'system’', 'tabl', 'tabular', 'tackl', 'tacl', 'tactic', 'tag', 'tagger', 'tailor', 'take', 'taken', 'tape', 'target', 'targetdomain', 'tartan', 'task', 'taskspecif', 'tasks—such', 'taskth', 'tasktrain', 'taylor', 'tbru', 'teach', 'teacher', 'team', 'technic', 'techniqu', 'technolog', 'tediou', 'tell', 'temperatur', 'tempor', 'tend', 'tendondriven', 'tensor', 'tensorflow', 'tensori', 'terest', 'term', 'termin', 'terminalpredict', 'ternari', 'test', 'testb', 'testifi', 'testtim', 'text', 'textbfdata', 'textbffilt', 'textbfndf', 'texttoimag', 'textual', 'textur', 'tfd', 'tfidf', 'thank', 'that', 'theart', 'theorem', 'theoremprov', 'theoret', 'theori', 'theorist', 'theorit', 'therapeut', 'therebi', 'therefor', 'therein', 'think', 'third', 'thirdperson', 'thorough', 'thoroughli', 'though', 'thought', 'thousand', 'thread', 'three', 'threedimension', 'threefold', 'threetim', 'threshold', 'throughout', 'thu', 'tical', 'tictacto', 'tie', 'tight', 'tile', 'time', 'timescal', 'timeseri', 'timestep', 'timestep’', 'timit', 'tini', 'tion', 'tishbi', 'tmm', 'todat', 'toend', 'togeth', 'token', 'told', 'toler', 'tonal', 'tonotop', 'took', 'tool', 'top', 'topdown', 'topic', 'topicrnn', 'topolog', 'toprank', 'torc', 'torch', 'torqu', 'torquedriven', 'total', 'tour', 'toward', 'tower', 'toy', 'trace', 'track', 'tractabl', 'trade', 'tradeoff', 'tradingoff', 'tradit', 'traffic', 'train', 'trainabl', 'trainingdata', 'trait', 'trajectori', 'transcrib', 'transcript', 'transduct', 'transfer', 'transform', 'transit', 'translat', 'travel', 'treat', 'treatment', 'tree', 'treebank', 'treestructur', 'tremend', 'trend', 'trenet', 'tri', 'trial', 'trick', 'trivial', 'trt', 'true', 'truncat', 'trust', 'truth', 'tsne', 'tsp', 'tt', 'ttq', 'tucker', 'tune', 'turbin', 'ture', 'turingcomplet', 'turk', 'turn', 'twitter', 'two', 'twodimension', 'twolay', 'twoplay', 'twosampl', 'twoview', 'twp', 'type', 'typic', 'ubiquit', 'ucf', 'ucsd', 'ultim', 'unabl', 'unaccept', 'unalt', 'unambigu', 'unavail', 'unbalanc', 'unbias', 'uncertain', 'uncertainti', 'unchang', 'unclear', 'uncondit', 'unconvent', 'uncov', 'underappreci', 'undercomplet', 'underdetermin', 'underestim', 'underexplor', 'underli', 'underlin', 'understand', 'understood', 'undesir', 'undirect', 'unexpect', 'unexplor', 'unfeas', 'unfold', 'unfortun', 'unifi', 'uniform', 'uniformli', 'unigram', 'unimod', 'unimport', 'uniqu', 'unit', 'unitari', 'univari', 'univers', 'unknown', 'unlabel', 'unless', 'unlik', 'unmodel', 'unnecessari', 'unnorm', 'unobserv', 'unpair', 'unpreced', 'unrealist', 'unrel', 'unreli', 'unrol', 'unseen', 'unsolv', 'unstabl', 'unstructur', 'unsupervis', 'untamp', 'untangl', 'untrain', 'unwant', 'unwieldi', 'updat', 'upload', 'upon', 'upper', 'upperbound', 'upto', 'upward', 'url', 'urnn', 'us', 'usabl', 'usag', 'use', 'user', 'userdefin', 'usp', 'usual', 'util', 'utilis', 'utter', 'vae', 'vaegan', 'vae’', 'valid', 'valley', 'valu', 'valuabl', 'vanilla', 'vanish', 'varepsilon', 'vari', 'variabl', 'variablelength', 'variables', 'varianc', 'variant', 'variat', 'varieti', 'variou', 'vast', 'vcca', 'vccapriv', 'vector', 'vectorspac', 'vector’', 'vector”', 'vein', 'veloc', 'ventraldors', 'verb', 'verifi', 'versa', 'versatil', 'version', 'versu', 'vertic', 'vgg', 'vggface', 'vggnet', 'vggstyle', 'via', 'viabil', 'viabl', 'vib', 'vice', 'video', 'view', 'viewmanifold', 'viewpoint', 'vinyal', 'virtu', 'virtual', 'visibl', 'vision', 'visionbas', 'visit', 'visual', 'vital', 'vizdoom', 'vlsi', 'voc', 'vocabulari', 'volatil', 'volum', 'vote', 'vowel', 'vrada', 'vrnn', 'vulner', 'w', 'wait', 'walk', 'wall', 'walmartcom', 'wan', 'wand', 'wang', 'want', 'warm', 'wast', 'waveform', 'wavelet', 'way', 'wdw', 'weak', 'weaker', 'weakli', 'weather', 'web', 'webcl', 'websit', 'wedemonstr', 'weight', 'weightshar', 'weizmann', 'well', 'wellapproxim', 'welldefin', 'wellform', 'wellgeneraliz', 'wellknown', 'wellprepar', 'wellproven', 'wellstudi', 'welltrain', 'wer', 'weston', 'whale', 'whatsoev', 'whatwher', 'whenev', 'wherea', 'wherebi', 'wherein', 'whether', 'whichi', 'whodidwhat', 'whole', 'whose', 'wide', 'widelyheld', 'widelyus', 'wider', 'widespread', 'width', 'wiet', 'wikifact', 'wikipedia', 'wikisem', 'wikitablequest', 'wikitext', 'wild', 'win', 'window', 'wire', 'wit', 'within', 'withinlay', 'without', 'wjjk', 'wmt', 'word', 'wordbas', 'wordbyword', 'wordlevel', 'wordlik', 'wordoverlap', 'wordpiec', 'wordvec', 'work', 'worker', 'workload', 'world', 'wors', 'worst', 'worstcas', 'would', 'write', 'writer', 'written', 'wrt', 'wsj', 'wsj’', 'x', 'xavier', 'xeon', 'xnor', 'xor', 'xx', 'yao', 'ye', 'year', 'yet', 'yield', 'young', 'youtubetext', 'zalando', 'zero', 'zeroshot', 'zisserman', 'zoneout', '×', 'εgreedi', '–', '—', '‘pgql’', '“aggreg', '“constant', '“deep', '“densitydivers', '“explicit', '“labeled”', '“margin', '“neuron', '“omniglot”', '“predic', '“relationship”', '“unlabeled”', '“word']\n"
          ]
        }
      ]
    },
    {
      "cell_type": "code",
      "source": [
        "import numpy as np\n",
        "\n",
        "binary_word_embeddings = np.zeros((len(data), len(all_words)))\n",
        "\n",
        "# id: index written in data, pos: position in data\n",
        "id_to_pos = {}\n",
        "pos_to_id = {}\n",
        "\n",
        "for i in range(len(data)):\n",
        "    id_to_pos[data[i]['id']] = i\n",
        "    pos_to_id[i] = data[i]['id']\n",
        "    \n",
        "    for w in process_text(data[i]['abstract']):\n",
        "        binary_word_embeddings[i][all_words_map[w]] = 1.\n",
        "    \n",
        "    binary_word_embeddings[i] /= np.sqrt(np.sum(binary_word_embeddings[i]**2))"
      ],
      "metadata": {
        "id": "cfmED402B2Jh"
      },
      "execution_count": 6,
      "outputs": []
    },
    {
      "cell_type": "code",
      "source": [
        "# save index mappings\n",
        "import json\n",
        "\n",
        "with open(\"id_to_pos.json\", \"w\") as fd:\n",
        "    json.dump(id_to_pos, fd)\n",
        "\n",
        "with open(\"pos_to_id.json\", \"w\") as fd:\n",
        "    json.dump(pos_to_id, fd)\n",
        "\n",
        "# save embeddings\n",
        "np.save(\"binary_word_embeddings.npy\", binary_word_embeddings)"
      ],
      "metadata": {
        "id": "ZYw6_fj5EkfK"
      },
      "execution_count": 7,
      "outputs": []
    },
    {
      "cell_type": "code",
      "source": [
        "# nearest neighbors\n",
        "from scipy.spatial import KDTree\n",
        "\n",
        "tree = KDTree(binary_word_embeddings)\n",
        "\n",
        "dists, idxs = tree.query(binary_word_embeddings[0], k=10)\n",
        "print(\"Nearest Neighbors of: \\\"%s\\\"\" % (data[0]['title']))\n",
        "for i in range(len(idxs)):\n",
        "    print(\"\\t%d: \\\"%s\\\"\" % (i+1, data[idxs[i]]['title']))\n",
        "print()\n",
        "\n",
        "dists, idxs = tree.query(binary_word_embeddings[10], k=10)\n",
        "print(\"Nearest Neighbors of: \\\"%s\\\"\" % (data[10]['title']))\n",
        "for i in range(len(idxs)):\n",
        "    print(\"\\t%d: \\\"%s\\\"\" % (i+1, data[idxs[i]]['title']))\n",
        "print()\n",
        "\n",
        "dists, idxs = tree.query(binary_word_embeddings[100], k=10)\n",
        "print(\"Nearest Neighbors of: \\\"%s\\\"\" % (data[100]['title']))\n",
        "for i in range(len(idxs)):\n",
        "    print(\"\\t%d: \\\"%s\\\"\" % (i+1, data[idxs[i]]['title']))"
      ],
      "metadata": {
        "colab": {
          "base_uri": "https://localhost:8080/"
        },
        "id": "5Zd906OpE8bx",
        "outputId": "8907acaf-c3e5-4276-d624-c6d79abd31af"
      },
      "execution_count": 8,
      "outputs": [
        {
          "output_type": "stream",
          "name": "stdout",
          "text": [
            "Nearest Neighbors of: \"Making Neural Programming Architectures Generalize via Recursion\"\n",
            "\t1: \"Making Neural Programming Architectures Generalize via Recursion\"\n",
            "\t2: \"Programming With a Differentiable Forth Interpreter\"\n",
            "\t3: \"Learning Continuous Semantic Representations of Symbolic Expressions\"\n",
            "\t4: \"On Detecting Adversarial Perturbations\"\n",
            "\t5: \"Fast Adaptation in Generative Models with Generative Matching Networks\"\n",
            "\t6: \"Recurrent Inference Machines for Solving Inverse Problems\"\n",
            "\t7: \"Variational Recurrent Adversarial Deep Domain Adaptation\"\n",
            "\t8: \"Adversarial Feature Learning\"\n",
            "\t9: \"Deep Predictive Coding Networks for Video Prediction and Unsupervised Learning\"\n",
            "\t10: \"GRAM: Graph-based Attention Model for Healthcare Representation Learning\"\n",
            "\n",
            "Nearest Neighbors of: \"Amortised MAP Inference for Image Super-resolution\"\n",
            "\t1: \"Amortised MAP Inference for Image Super-resolution\"\n",
            "\t2: \"Deep unsupervised learning through spatial contrasting\"\n",
            "\t3: \"Recurrent Inference Machines for Solving Inverse Problems\"\n",
            "\t4: \"Dropout with Expectation-linear Regularization\"\n",
            "\t5: \"Energy-based Generative Adversarial Networks\"\n",
            "\t6: \"Learning to Discover Sparse Graphical Models\"\n",
            "\t7: \"Adversarial Feature Learning\"\n",
            "\t8: \"Unrolled Generative Adversarial Networks\"\n",
            "\t9: \"Introducing Active Learning for CNN under the light of Variational Inference\"\n",
            "\t10: \"Improving Generative Adversarial Networks with Denoising Feature Matching\"\n",
            "\n",
            "Nearest Neighbors of: \"Dialogue Learning With Human-in-the-Loop\"\n",
            "\t1: \"Dialogue Learning With Human-in-the-Loop\"\n",
            "\t2: \"Learning through Dialogue Interactions by Asking Questions\"\n",
            "\t3: \"Learning to Query, Reason, and Answer Questions On Ambiguous Texts\"\n",
            "\t4: \"Towards Information-Seeking Agents\"\n",
            "\t5: \"Reinforcement Learning with Unsupervised Auxiliary Tasks\"\n",
            "\t6: \"Generalizing Skills with Semi-Supervised Reinforcement Learning\"\n",
            "\t7: \"Generalizable Features From Unsupervised Learning\"\n",
            "\t8: \"Learning to Navigate in Complex Environments\"\n",
            "\t9: \"Out-of-class novelty generation: an experimental foundation\"\n",
            "\t10: \"Batch Policy Gradient  Methods for  Improving Neural Conversation Models\"\n"
          ]
        }
      ]
    },
    {
      "cell_type": "code",
      "source": [
        "# reduce binary embeddings using pca\n",
        "from sklearn import decomposition\n",
        "\n",
        "pca = decomposition.PCA(n_components=300)\n",
        "pca.fit(binary_word_embeddings)\n",
        "reduced_word_embeddings = pca.transform(binary_word_embeddings)\n",
        "\n",
        "for i in range(len(data)):\n",
        "    reduced_word_embeddings[i] /= np.sqrt(np.sum(reduced_word_embeddings[i]**2))"
      ],
      "metadata": {
        "id": "dcAZLV6SKGQT"
      },
      "execution_count": 9,
      "outputs": []
    },
    {
      "cell_type": "code",
      "source": [
        "# save embeddings\n",
        "np.save(\"reduced_word_embeddings.npy\", reduced_word_embeddings)"
      ],
      "metadata": {
        "id": "9JcddeSdLE-y"
      },
      "execution_count": 10,
      "outputs": []
    },
    {
      "cell_type": "code",
      "source": [
        "# nearest neighbors\n",
        "from scipy.spatial import KDTree\n",
        "\n",
        "tree = KDTree(reduced_word_embeddings)\n",
        "\n",
        "dists, idxs = tree.query(reduced_word_embeddings[0], k=10)\n",
        "print(\"Nearest Neighbors of: \\\"%s\\\"\" % (data[0]['title']))\n",
        "for i in range(len(idxs)):\n",
        "    print(\"\\t%d: \\\"%s\\\"\" % (i+1, data[idxs[i]]['title']))\n",
        "print()\n",
        "\n",
        "dists, idxs = tree.query(reduced_word_embeddings[10], k=10)\n",
        "print(\"Nearest Neighbors of: \\\"%s\\\"\" % (data[10]['title']))\n",
        "for i in range(len(idxs)):\n",
        "    print(\"\\t%d: \\\"%s\\\"\" % (i+1, data[idxs[i]]['title']))\n",
        "print()\n",
        "\n",
        "dists, idxs = tree.query(reduced_word_embeddings[100], k=10)\n",
        "print(\"Nearest Neighbors of: \\\"%s\\\"\" % (data[100]['title']))\n",
        "for i in range(len(idxs)):\n",
        "    print(\"\\t%d: \\\"%s\\\"\" % (i+1, data[idxs[i]]['title']))"
      ],
      "metadata": {
        "colab": {
          "base_uri": "https://localhost:8080/"
        },
        "id": "iQgRz0h_Kfey",
        "outputId": "c9b8d6c7-39de-44df-eab1-d0a150ebb677"
      },
      "execution_count": 11,
      "outputs": [
        {
          "output_type": "stream",
          "name": "stdout",
          "text": [
            "Nearest Neighbors of: \"Making Neural Programming Architectures Generalize via Recursion\"\n",
            "\t1: \"Making Neural Programming Architectures Generalize via Recursion\"\n",
            "\t2: \"Programming With a Differentiable Forth Interpreter\"\n",
            "\t3: \"On Detecting Adversarial Perturbations\"\n",
            "\t4: \"Learning Continuous Semantic Representations of Symbolic Expressions\"\n",
            "\t5: \"PixelCNN++: Improving the PixelCNN with Discretized Logistic Mixture Likelihood and Other Modifications\"\n",
            "\t6: \"Fast Adaptation in Generative Models with Generative Matching Networks\"\n",
            "\t7: \"Deep Predictive Coding Networks for Video Prediction and Unsupervised Learning\"\n",
            "\t8: \"A recurrent neural network without chaos\"\n",
            "\t9: \"Program Synthesis for Character Level Language Modeling\"\n",
            "\t10: \"Visualizing Deep Neural Network Decisions: Prediction Difference Analysis\"\n",
            "\n",
            "Nearest Neighbors of: \"Amortised MAP Inference for Image Super-resolution\"\n",
            "\t1: \"Amortised MAP Inference for Image Super-resolution\"\n",
            "\t2: \"Energy-based Generative Adversarial Networks\"\n",
            "\t3: \"Recurrent Inference Machines for Solving Inverse Problems\"\n",
            "\t4: \"Deep unsupervised learning through spatial contrasting\"\n",
            "\t5: \"Unrolled Generative Adversarial Networks\"\n",
            "\t6: \"Unsupervised Cross-Domain Image Generation\"\n",
            "\t7: \"Tensorial Mixture Models\"\n",
            "\t8: \"Adversarial Feature Learning\"\n",
            "\t9: \"Improving Generative Adversarial Networks with Denoising Feature Matching\"\n",
            "\t10: \"Improving Sampling from Generative Autoencoders with Markov Chains\"\n",
            "\n",
            "Nearest Neighbors of: \"Dialogue Learning With Human-in-the-Loop\"\n",
            "\t1: \"Dialogue Learning With Human-in-the-Loop\"\n",
            "\t2: \"Learning through Dialogue Interactions by Asking Questions\"\n",
            "\t3: \"Learning to Query, Reason, and Answer Questions On Ambiguous Texts\"\n",
            "\t4: \"Towards Information-Seeking Agents\"\n",
            "\t5: \"Reinforcement Learning with Unsupervised Auxiliary Tasks\"\n",
            "\t6: \"Batch Policy Gradient  Methods for  Improving Neural Conversation Models\"\n",
            "\t7: \"Generalizable Features From Unsupervised Learning\"\n",
            "\t8: \"Learning to Navigate in Complex Environments\"\n",
            "\t9: \"Out-of-class novelty generation: an experimental foundation\"\n",
            "\t10: \"LSTM-Based System-Call Language Modeling and Ensemble Method for Host-Based Intrusion Detection\"\n"
          ]
        }
      ]
    },
    {
      "cell_type": "markdown",
      "source": [
        "# FastText Embeddings"
      ],
      "metadata": {
        "id": "s8PISnN_6yJk"
      }
    },
    {
      "cell_type": "code",
      "source": [
        "import fasttext\n",
        "model = fasttext.load_model(\"crawl-300d-2M-subword.bin\")"
      ],
      "metadata": {
        "colab": {
          "base_uri": "https://localhost:8080/"
        },
        "id": "dkdNlqiV_BQr",
        "outputId": "002612d8-db9d-4533-b55e-d58336ff6aa2"
      },
      "execution_count": 12,
      "outputs": [
        {
          "output_type": "stream",
          "name": "stderr",
          "text": [
            "Warning : `load_model` does not return WordVectorModel or SupervisedModel any more, but a `FastText` object which is very similar.\n"
          ]
        }
      ]
    },
    {
      "cell_type": "code",
      "source": [
        "import nltk\n",
        "from nltk.tokenize import word_tokenize\n",
        "\n",
        "nltk.download('punkt')\n",
        "\n",
        "fasttext_embeddings = np.zeros((len(data), 300))\n",
        "\n",
        "for i in range(len(data)):\n",
        "    ws = word_tokenize(data[i][\"abstract\"])\n",
        "    for j in range(len(ws)):\n",
        "        fasttext_embeddings[i] += model.get_word_vector(ws[j])\n",
        "    fasttext_embeddings[i] /= np.sqrt(np.sum(fasttext_embeddings[i]**2))"
      ],
      "metadata": {
        "colab": {
          "base_uri": "https://localhost:8080/"
        },
        "id": "TM25WRxZ_etD",
        "outputId": "d4273963-6c57-4e5f-e60f-18f77f042abb"
      },
      "execution_count": 13,
      "outputs": [
        {
          "output_type": "stream",
          "name": "stderr",
          "text": [
            "[nltk_data] Downloading package punkt to /root/nltk_data...\n",
            "[nltk_data]   Package punkt is already up-to-date!\n"
          ]
        }
      ]
    },
    {
      "cell_type": "code",
      "source": [
        "# save embeddings\n",
        "np.save(\"fasttext_embeddings.npy\", fasttext_embeddings)"
      ],
      "metadata": {
        "id": "j6AEyYal4nT4"
      },
      "execution_count": 14,
      "outputs": []
    },
    {
      "cell_type": "code",
      "source": [
        "# nearest neighbors\n",
        "from scipy.spatial import KDTree\n",
        "\n",
        "tree = KDTree(fasttext_embeddings)\n",
        "\n",
        "dists, idxs = tree.query(fasttext_embeddings[0], k=10)\n",
        "print(\"Nearest Neighbors of: \\\"%s\\\"\" % (data[0]['title']))\n",
        "for i in range(len(idxs)):\n",
        "    print(\"\\t%d: \\\"%s\\\"\" % (i+1, data[idxs[i]]['title']))\n",
        "print()\n",
        "\n",
        "dists, idxs = tree.query(fasttext_embeddings[10], k=10)\n",
        "print(\"Nearest Neighbors of: \\\"%s\\\"\" % (data[10]['title']))\n",
        "for i in range(len(idxs)):\n",
        "    print(\"\\t%d: \\\"%s\\\"\" % (i+1, data[idxs[i]]['title']))\n",
        "print()\n",
        "\n",
        "dists, idxs = tree.query(fasttext_embeddings[100], k=10)\n",
        "print(\"Nearest Neighbors of: \\\"%s\\\"\" % (data[100]['title']))\n",
        "for i in range(len(idxs)):\n",
        "    print(\"\\t%d: \\\"%s\\\"\" % (i+1, data[idxs[i]]['title']))"
      ],
      "metadata": {
        "colab": {
          "base_uri": "https://localhost:8080/"
        },
        "id": "-sQpPPcR4usM",
        "outputId": "5f953355-1e54-4361-d553-c4edbd267474"
      },
      "execution_count": 15,
      "outputs": [
        {
          "output_type": "stream",
          "name": "stdout",
          "text": [
            "Nearest Neighbors of: \"Making Neural Programming Architectures Generalize via Recursion\"\n",
            "\t1: \"Making Neural Programming Architectures Generalize via Recursion\"\n",
            "\t2: \"Dropout with Expectation-linear Regularization\"\n",
            "\t3: \"Multi-label learning with the RNNs for Fashion Search\"\n",
            "\t4: \"Recurrent Inference Machines for Solving Inverse Problems\"\n",
            "\t5: \"An Analysis of Feature Regularization for Low-shot Learning\"\n",
            "\t6: \"Combining policy gradient and Q-learning\"\n",
            "\t7: \"Revisiting Batch Normalization For Practical Domain Adaptation\"\n",
            "\t8: \"FractalNet: Ultra-Deep Neural Networks without Residuals\"\n",
            "\t9: \"Structured Attention Networks\"\n",
            "\t10: \"ParMAC: distributed optimisation of nested functions, with application to binary autoencoders\"\n",
            "\n",
            "Nearest Neighbors of: \"Amortised MAP Inference for Image Super-resolution\"\n",
            "\t1: \"Amortised MAP Inference for Image Super-resolution\"\n",
            "\t2: \"Generative Adversarial Networks for Image Steganography\"\n",
            "\t3: \"Hierarchical compositional feature learning\"\n",
            "\t4: \"Generative Multi-Adversarial Networks\"\n",
            "\t5: \"Neuro-Symbolic Program Synthesis\"\n",
            "\t6: \"Machine Comprehension Using Match-LSTM and Answer Pointer\"\n",
            "\t7: \"Learning Graphical State Transitions\"\n",
            "\t8: \"An Analysis of Deep Neural Network Models for Practical Applications\"\n",
            "\t9: \"Lie-Access Neural Turing Machines\"\n",
            "\t10: \"Soft Weight-Sharing for Neural Network Compression\"\n",
            "\n",
            "Nearest Neighbors of: \"Dialogue Learning With Human-in-the-Loop\"\n",
            "\t1: \"Dialogue Learning With Human-in-the-Loop\"\n",
            "\t2: \"Skip-graph: Learning graph embeddings with an encoder-decoder model\"\n",
            "\t3: \"Learning to Generate Samples from Noise through Infusion Training\"\n",
            "\t4: \"Prototypical Networks for Few-shot Learning\"\n",
            "\t5: \"Unsupervised Deep Learning of State Representation Using Robotic Priors \"\n",
            "\t6: \"Stochastic Neural Networks for Hierarchical Reinforcement Learning\"\n",
            "\t7: \"Deep Character-Level Neural Machine Translation By Learning Morphology\"\n",
            "\t8: \"Simple Black-Box Adversarial Perturbations for Deep Networks\"\n",
            "\t9: \"Gaussian Attention Model and Its Application to Knowledge Base Embedding and Question Answering\"\n",
            "\t10: \"Learning Visual Servoing with Deep Features and Fitted Q-Iteration\"\n"
          ]
        }
      ]
    },
    {
      "cell_type": "code",
      "source": [
        "del model # empty ram"
      ],
      "metadata": {
        "id": "JrP0F2ug67kO"
      },
      "execution_count": 16,
      "outputs": []
    },
    {
      "cell_type": "markdown",
      "source": [
        "# BERT Embeddings"
      ],
      "metadata": {
        "id": "tni_30--64XK"
      }
    },
    {
      "cell_type": "code",
      "source": [
        "from transformers import BertTokenizer, BertModel\n",
        "import torch\n",
        "\n",
        "tokenizer = BertTokenizer.from_pretrained(\"bert-base-uncased\")\n",
        "model = BertModel.from_pretrained(\"bert-base-uncased\")\n",
        "\n",
        "bert_embeddings = np.zeros((len(data), 768))\n",
        "\n",
        "for i in range(len(data)):\n",
        "    inputs = tokenizer(data[i]['abstract'], return_tensors=\"pt\")\n",
        "    outputs = model(**inputs)\n",
        "    last_hidden_states = outputs.last_hidden_state[0]\n",
        "\n",
        "    bert_embeddings[i] = last_hidden_states.sum(axis=0).detach().numpy()\n",
        "    bert_embeddings[i] /= np.sqrt(np.sum(bert_embeddings[i]**2))"
      ],
      "metadata": {
        "id": "XTlTnDkBAxBa",
        "colab": {
          "base_uri": "https://localhost:8080/"
        },
        "outputId": "116711c7-c9ae-4d4c-9456-9bd5e1f93976"
      },
      "execution_count": 17,
      "outputs": [
        {
          "output_type": "stream",
          "name": "stderr",
          "text": [
            "Some weights of the model checkpoint at bert-base-uncased were not used when initializing BertModel: ['cls.predictions.transform.LayerNorm.bias', 'cls.predictions.transform.dense.weight', 'cls.predictions.transform.LayerNorm.weight', 'cls.seq_relationship.weight', 'cls.predictions.transform.dense.bias', 'cls.seq_relationship.bias', 'cls.predictions.bias', 'cls.predictions.decoder.weight']\n",
            "- This IS expected if you are initializing BertModel from the checkpoint of a model trained on another task or with another architecture (e.g. initializing a BertForSequenceClassification model from a BertForPreTraining model).\n",
            "- This IS NOT expected if you are initializing BertModel from the checkpoint of a model that you expect to be exactly identical (initializing a BertForSequenceClassification model from a BertForSequenceClassification model).\n"
          ]
        }
      ]
    },
    {
      "cell_type": "code",
      "source": [
        "# save embeddings\n",
        "np.save(\"bert_embeddings.npy\", bert_embeddings)"
      ],
      "metadata": {
        "id": "UB1N6qKX7jiT"
      },
      "execution_count": 18,
      "outputs": []
    },
    {
      "cell_type": "code",
      "source": [
        "# nearest neighbors\n",
        "from scipy.spatial import KDTree\n",
        "\n",
        "tree = KDTree(bert_embeddings)\n",
        "\n",
        "dists, idxs = tree.query(bert_embeddings[0], k=10)\n",
        "print(\"Nearest Neighbors of: \\\"%s\\\"\" % (data[0]['title']))\n",
        "for i in range(len(idxs)):\n",
        "    print(\"\\t%d: \\\"%s\\\"\" % (i+1, data[idxs[i]]['title']))\n",
        "print()\n",
        "\n",
        "dists, idxs = tree.query(bert_embeddings[10], k=10)\n",
        "print(\"Nearest Neighbors of: \\\"%s\\\"\" % (data[10]['title']))\n",
        "for i in range(len(idxs)):\n",
        "    print(\"\\t%d: \\\"%s\\\"\" % (i+1, data[idxs[i]]['title']))\n",
        "print()\n",
        "\n",
        "dists, idxs = tree.query(bert_embeddings[100], k=10)\n",
        "print(\"Nearest Neighbors of: \\\"%s\\\"\" % (data[100]['title']))\n",
        "for i in range(len(idxs)):\n",
        "    print(\"\\t%d: \\\"%s\\\"\" % (i+1, data[idxs[i]]['title']))"
      ],
      "metadata": {
        "colab": {
          "base_uri": "https://localhost:8080/"
        },
        "id": "eR8tyEzk-Xxu",
        "outputId": "3b0aa06c-05ff-474e-d98f-7f982e456172"
      },
      "execution_count": 19,
      "outputs": [
        {
          "output_type": "stream",
          "name": "stdout",
          "text": [
            "Nearest Neighbors of: \"Making Neural Programming Architectures Generalize via Recursion\"\n",
            "\t1: \"Making Neural Programming Architectures Generalize via Recursion\"\n",
            "\t2: \"Programming With a Differentiable Forth Interpreter\"\n",
            "\t3: \"Dataset Augmentation in Feature Space\"\n",
            "\t4: \"Learning Continuous Semantic Representations of Symbolic Expressions\"\n",
            "\t5: \"Intelligible Language Modeling with Input Switched Affine Networks\"\n",
            "\t6: \"Recurrent Inference Machines for Solving Inverse Problems\"\n",
            "\t7: \"Neuro-Symbolic Program Synthesis\"\n",
            "\t8: \"Learning a Static Analyzer: A Case Study on a Toy Language\"\n",
            "\t9: \"Simple Black-Box Adversarial Perturbations for Deep Networks\"\n",
            "\t10: \"Revisiting Batch Normalization For Practical Domain Adaptation\"\n",
            "\n",
            "Nearest Neighbors of: \"Amortised MAP Inference for Image Super-resolution\"\n",
            "\t1: \"Amortised MAP Inference for Image Super-resolution\"\n",
            "\t2: \"The Variational Walkback Algorithm\"\n",
            "\t3: \"Learning to Discover Sparse Graphical Models\"\n",
            "\t4: \"Submodular Sum-product Networks for Scene Understanding\"\n",
            "\t5: \"Entropy-SGD: Biasing Gradient Descent Into Wide Valleys\"\n",
            "\t6: \"End-to-end Optimized Image Compression\"\n",
            "\t7: \"Coarse Pruning of Convolutional Neural Networks with Random Masks\"\n",
            "\t8: \"Central Moment Discrepancy (CMD) for Domain-Invariant Representation Learning\"\n",
            "\t9: \"Loss-aware Binarization of Deep Networks\"\n",
            "\t10: \"An Information-Theoretic Framework for Fast and Robust Unsupervised Learning via Neural Population Infomax\"\n",
            "\n",
            "Nearest Neighbors of: \"Dialogue Learning With Human-in-the-Loop\"\n",
            "\t1: \"Dialogue Learning With Human-in-the-Loop\"\n",
            "\t2: \"Learning through Dialogue Interactions by Asking Questions\"\n",
            "\t3: \"Third Person Imitation Learning\"\n",
            "\t4: \"Batch Policy Gradient  Methods for  Improving Neural Conversation Models\"\n",
            "\t5: \"Learning to Perform Physics Experiments via Deep Reinforcement Learning\"\n",
            "\t6: \"Multi-Agent Cooperation and the Emergence of (Natural) Language\"\n",
            "\t7: \"Learning to Navigate in Complex Environments\"\n",
            "\t8: \"Unsupervised Learning of State Representations for Multiple Tasks\"\n",
            "\t9: \"Finding a Jack-of-All-Trades: An Examination of Semi-supervised Learning in Reading Comprehension\"\n",
            "\t10: \"Learning Invariant Feature Spaces to Transfer Skills with Reinforcement Learning\"\n"
          ]
        }
      ]
    }
  ]
}