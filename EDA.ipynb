{
 "cells": [
  {
   "cell_type": "code",
   "execution_count": 18,
   "metadata": {},
   "outputs": [],
   "source": [
    "import pandas  as pd\n",
    "import numpy as np\n",
    "import matplotlib.pyplot as plt\n",
    "import seaborn as sns\n",
    "import plotly as py\n",
    "import plotly.graph_objs as go\n",
    "import plotly.express as px\n",
    "\n",
    "from plotly.subplots import make_subplots"
   ]
  },
  {
   "cell_type": "code",
   "execution_count": 3,
   "metadata": {},
   "outputs": [],
   "source": [
    "# read iclr2017\n",
    "df = pd.read_json('datasets/iclr_2017.json')\n"
   ]
  },
  {
   "cell_type": "code",
   "execution_count": 4,
   "metadata": {},
   "outputs": [],
   "source": [
    "scores = df['recommendation']\n",
    "scores = [ np.mean(score) for score in scores]\n",
    "\n",
    "df['scores'] = scores\n",
    "# drop rows with scores less than 4\n",
    "df = df[df['scores'] >=4]\n"
   ]
  },
  {
   "cell_type": "code",
   "execution_count": 5,
   "metadata": {},
   "outputs": [],
   "source": [
    "# accepted paper\n",
    "accepted = df[df['accepted'] == True]\n",
    "# rejected paper\n",
    "rejected = df[df['accepted'] == False]"
   ]
  },
  {
   "cell_type": "code",
   "execution_count": 23,
   "metadata": {},
   "outputs": [
    {
     "data": {
      "text/plain": [
       "139    5.333333\n",
       "140    5.666667\n",
       "141    5.333333\n",
       "142    6.333333\n",
       "143    4.333333\n",
       "         ...   \n",
       "419    5.333333\n",
       "421    4.666667\n",
       "424    4.000000\n",
       "425    4.666667\n",
       "426    5.000000\n",
       "Name: scores, Length: 215, dtype: float64"
      ]
     },
     "execution_count": 23,
     "metadata": {},
     "output_type": "execute_result"
    }
   ],
   "source": [
    "rejected.scores"
   ]
  },
  {
   "cell_type": "code",
   "execution_count": 6,
   "metadata": {},
   "outputs": [
    {
     "name": "stdout",
     "output_type": "stream",
     "text": [
      "172 215\n"
     ]
    }
   ],
   "source": [
    "print(len(accepted), len(rejected))\n"
   ]
  },
  {
   "cell_type": "code",
   "execution_count": 7,
   "metadata": {},
   "outputs": [],
   "source": [
    "# drop the outlier citation papers with  IQR METHOD\n",
    "Q1_a = accepted['citation'].quantile(0.25)\n",
    "Q3_a = accepted['citation'].quantile(0.75)\n",
    "IQR_a = Q3_a - Q1_a\n",
    "accepted_norm = accepted.query('(@Q1_a - 1.5 * @IQR_a) <= citation <= (@Q3_a + 1.5 * @IQR_a)')\n",
    "\n",
    "\n",
    "# do the same for rejected papers\n",
    "Q1_r = rejected['citation'].quantile(0.25)\n",
    "Q3_r = rejected['citation'].quantile(0.75)\n",
    "IQR_r = Q3_r - Q1_r\n",
    "rejected_norm = rejected.query('(@Q1_r - 1.5 * @IQR_r) <= citation <= (@Q3_r + 1.5 * @IQR_r)')"
   ]
  },
  {
   "cell_type": "code",
   "execution_count": 32,
   "metadata": {},
   "outputs": [
    {
     "name": "stdout",
     "output_type": "stream",
     "text": [
      "152 184\n"
     ]
    }
   ],
   "source": [
    "print(len(accepted_norm), len(rejected_norm))"
   ]
  },
  {
   "attachments": {},
   "cell_type": "markdown",
   "metadata": {},
   "source": [
    "## Some plots"
   ]
  },
  {
   "cell_type": "code",
   "execution_count": 33,
   "metadata": {},
   "outputs": [
    {
     "name": "stdout",
     "output_type": "stream",
     "text": [
      "Accepted papers:  172\n",
      "Rejected papers:  215\n"
     ]
    }
   ],
   "source": [
    "accept_no = len(df[df.accepted == True])\n",
    "reject_no = len(df[df.accepted == False])\n",
    "\n",
    "print('Accepted papers: ', accept_no)\n",
    "print('Rejected papers: ', reject_no)"
   ]
  },
  {
   "cell_type": "code",
   "execution_count": 34,
   "metadata": {},
   "outputs": [
    {
     "name": "stdout",
     "output_type": "stream",
     "text": [
      "Per paper citations of accepted papers:  446.6046511627907\n",
      "Per paper  citations of rejected papers:  166.26511627906976\n"
     ]
    }
   ],
   "source": [
    "# sum citations of accepted papers dropping the Nan citations and normalize with the number of accepted papers\n",
    "\n",
    "len_cited_accept = len(df[df.accepted == True].citation)\n",
    "len_cited_reject = len(df[df.accepted == False].citation)\n",
    "per_cited_accept = sum(df[df.accepted == True].citation)/len_cited_accept\n",
    "per_cited_reject = sum(df[df.accepted == False].citation)/len_cited_reject\n",
    "\n",
    "print('Per paper citations of accepted papers: ',per_cited_accept)\n",
    "print('Per paper  citations of rejected papers: ',per_cited_reject)\n"
   ]
  },
  {
   "cell_type": "code",
   "execution_count": 35,
   "metadata": {},
   "outputs": [
    {
     "name": "stdout",
     "output_type": "stream",
     "text": [
      "Normalized per paper citations of accepted papers:  221.27631578947367\n",
      "Normalized per paper citations of rejected papers:  34.65760869565217\n"
     ]
    }
   ],
   "source": [
    "# calculate the average number of citations per paper for accepted and rejected papers for 95 quantile\n",
    "len_cited_accept = len(accepted_norm)\n",
    "len_cited_reject = len(rejected_norm)\n",
    "normalized_cited_accept = sum(accepted_norm.citation)/len_cited_accept\n",
    "normalized_cited_reject = sum(rejected_norm.citation)/len_cited_reject\n",
    "\n",
    "print('Normalized per paper citations of accepted papers: ',normalized_cited_accept)\n",
    "print('Normalized per paper citations of rejected papers: ',normalized_cited_reject)"
   ]
  },
  {
   "cell_type": "code",
   "execution_count": 73,
   "metadata": {},
   "outputs": [
    {
     "data": {
      "application/vnd.plotly.v1+json": {
       "config": {
        "plotlyServerURL": "https://plot.ly"
       },
       "data": [
        {
         "box": {
          "visible": true
         },
         "marker": {
          "color": "#84c5fe"
         },
         "meanline": {
          "visible": true
         },
         "points": "all",
         "showlegend": false,
         "type": "violin",
         "xaxis": "x",
         "y": [
          132,
          15,
          1,
          999,
          380,
          264,
          387,
          89,
          67,
          297,
          15,
          173,
          202,
          11,
          28,
          5,
          691,
          188,
          259,
          191,
          76,
          11,
          12,
          343,
          235,
          20,
          43,
          282,
          619,
          472,
          1,
          203,
          63,
          7,
          0,
          239,
          875,
          148,
          405,
          296,
          309,
          94,
          178,
          110,
          98,
          0,
          45,
          650,
          482,
          72,
          242,
          722,
          358,
          283,
          2,
          202,
          559,
          1110,
          15,
          140,
          165,
          278,
          37,
          75,
          143,
          37,
          26,
          117,
          25,
          807,
          91,
          14,
          305,
          35,
          473,
          569,
          62,
          141,
          1,
          370,
          126,
          224,
          430,
          138,
          49,
          988,
          62,
          121,
          82,
          702,
          240,
          188,
          76,
          203,
          1,
          363,
          564,
          187,
          37,
          494,
          143,
          331,
          148,
          149,
          262,
          1,
          353,
          9,
          4,
          197,
          28,
          39,
          120,
          39,
          34,
          91,
          421,
          6,
          6,
          308,
          79,
          694,
          35,
          53,
          16,
          728,
          191,
          10,
          353,
          76,
          37,
          203,
          253,
          766,
          6,
          96,
          476,
          107,
          28,
          346,
          284,
          58,
          94,
          11,
          712,
          89,
          851,
          618,
          30,
          40,
          109,
          35
         ],
         "yaxis": "y"
        },
        {
         "box": {
          "visible": true
         },
         "marker": {
          "color": "#b94e4e"
         },
         "meanline": {
          "visible": true
         },
         "points": "all",
         "showlegend": false,
         "type": "violin",
         "xaxis": "x",
         "y": [
          184,
          120,
          15,
          15,
          127,
          10,
          15,
          14,
          155,
          20,
          2,
          58,
          7,
          32,
          218,
          21,
          26,
          166,
          8,
          93,
          105,
          0,
          6,
          15,
          0,
          74,
          18,
          1,
          154,
          6,
          66,
          0,
          13,
          1,
          0,
          0,
          0,
          7,
          181,
          34,
          48,
          3,
          0,
          80,
          0,
          37,
          224,
          28,
          8,
          3,
          14,
          19,
          1,
          19,
          7,
          6,
          13,
          13,
          3,
          18,
          0,
          44,
          3,
          29,
          61,
          4,
          6,
          2,
          1,
          3,
          0,
          12,
          42,
          3,
          7,
          2,
          6,
          106,
          46,
          96,
          0,
          15,
          24,
          10,
          4,
          89,
          77,
          101,
          2,
          0,
          4,
          6,
          0,
          17,
          32,
          38,
          14,
          0,
          34,
          157,
          54,
          3,
          6,
          3,
          5,
          0,
          6,
          22,
          8,
          1,
          13,
          80,
          17,
          5,
          2,
          0,
          146,
          40,
          159,
          15,
          29,
          2,
          2,
          0,
          1,
          28,
          10,
          7,
          0,
          6,
          4,
          15,
          74,
          0,
          10,
          0,
          0,
          40,
          40,
          115,
          0,
          9,
          129,
          24,
          38,
          15,
          20,
          54,
          0,
          166,
          20,
          169,
          142,
          57,
          7,
          69,
          12,
          119,
          39,
          0,
          6,
          26,
          3,
          113,
          109,
          9,
          118,
          20,
          97,
          38,
          0,
          0,
          63,
          14,
          15,
          9,
          2,
          17,
          10,
          3,
          4,
          13,
          0,
          3
         ],
         "yaxis": "y"
        },
        {
         "box": {
          "visible": true
         },
         "marker": {
          "color": "#84c5fe"
         },
         "meanline": {
          "visible": true
         },
         "name": "Accepted",
         "points": "all",
         "type": "violin",
         "xaxis": "x2",
         "y": [
          8.333333333333334,
          8,
          7.666666666666667,
          7.666666666666667,
          7,
          7.666666666666667,
          8,
          8.333333333333334,
          7.333333333333333,
          7.333333333333333,
          6.333333333333333,
          6.666666666666667,
          6.333333333333333,
          6,
          5.666666666666667,
          6.666666666666667,
          7.25,
          7,
          7,
          5.666666666666667,
          5.666666666666667,
          7,
          7.333333333333333,
          7,
          7,
          6.666666666666667,
          7,
          6.666666666666667,
          8,
          6.666666666666667,
          7,
          7,
          6.666666666666667,
          7,
          6.666666666666667,
          6.666666666666667,
          5.6,
          7,
          7.333333333333333,
          7,
          6.666666666666667,
          6.666666666666667,
          7.666666666666667,
          7.666666666666667,
          7.666666666666667,
          6.333333333333333,
          6.333333333333333,
          8,
          8.333333333333334,
          7.75,
          6.333333333333333,
          6.666666666666667,
          8,
          7.666666666666667,
          6.666666666666667,
          6.5,
          7.25,
          6.666666666666667,
          8,
          7.333333333333333,
          6.666666666666667,
          7.5,
          7,
          5.666666666666667,
          6.666666666666667,
          7,
          7.333333333333333,
          7,
          7,
          7.666666666666667,
          7,
          7,
          6.333333333333333,
          6.333333333333333,
          7,
          7,
          7.333333333333333,
          6.333333333333333,
          7.666666666666667,
          7.333333333333333,
          6.333333333333333,
          6.666666666666667,
          6.333333333333333,
          6.666666666666667,
          6,
          6.333333333333333,
          6.666666666666667,
          6,
          7.333333333333333,
          6,
          7.333333333333333,
          5.666666666666667,
          7.666666666666667,
          7,
          7.333333333333333,
          7.333333333333333,
          7.5,
          6.666666666666667,
          8,
          5.666666666666667,
          7,
          6.333333333333333,
          7,
          6.333333333333333,
          6.666666666666667,
          6.666666666666667,
          7,
          6.666666666666667,
          8.333333333333334,
          7.333333333333333,
          6.666666666666667,
          6.666666666666667,
          6.333333333333333,
          6,
          6.333333333333333,
          6.666666666666667,
          8,
          6,
          7,
          7,
          7.5,
          8.333333333333334,
          7,
          6.333333333333333,
          6.666666666666667,
          7.333333333333333,
          5.666666666666667,
          6.666666666666667,
          6,
          6.75,
          7.333333333333333,
          7,
          8.333333333333334,
          6.333333333333333,
          6.333333333333333,
          6.666666666666667,
          7.666666666666667,
          6.666666666666667,
          7.666666666666667,
          7.333333333333333,
          7,
          7.333333333333333,
          6.333333333333333,
          5,
          6.333333333333333,
          7,
          7.333333333333333,
          6.333333333333333,
          7,
          7,
          7,
          7.666666666666667
         ],
         "yaxis": "y2"
        },
        {
         "box": {
          "visible": true
         },
         "marker": {
          "color": "#b94e4e"
         },
         "meanline": {
          "visible": true
         },
         "name": "Rejected",
         "points": "all",
         "type": "violin",
         "xaxis": "x2",
         "y": [
          5.666666666666667,
          5.333333333333333,
          6.333333333333333,
          4.333333333333333,
          6,
          5,
          6,
          4.333333333333333,
          5.75,
          6,
          5.333333333333333,
          6,
          5.333333333333333,
          5.333333333333333,
          6.666666666666667,
          4.666666666666667,
          5.666666666666667,
          4.666666666666667,
          5.4,
          5.333333333333333,
          5.666666666666667,
          4,
          5,
          5,
          5.333333333333333,
          6,
          6.25,
          5.666666666666667,
          5.333333333333333,
          5.25,
          5.333333333333333,
          4.333333333333333,
          5.333333333333333,
          4.333333333333333,
          4.333333333333333,
          5,
          4,
          5,
          5.666666666666667,
          4,
          5,
          4,
          4,
          4,
          4,
          5.333333333333333,
          5.333333333333333,
          4.666666666666667,
          4.333333333333333,
          5,
          5.5,
          4.666666666666667,
          4,
          5.333333333333333,
          4,
          5.75,
          5.666666666666667,
          5,
          5.75,
          6,
          5,
          4.5,
          4.666666666666667,
          4,
          4,
          4.5,
          4.666666666666667,
          5,
          4.333333333333333,
          4.666666666666667,
          5.333333333333333,
          5.666666666666667,
          4.333333333333333,
          4,
          4,
          4.333333333333333,
          6.333333333333333,
          5.333333333333333,
          6.25,
          4.333333333333333,
          6,
          6,
          4.333333333333333,
          5.333333333333333,
          5.666666666666667,
          6,
          4.333333333333333,
          5.333333333333333,
          4.666666666666667,
          5,
          4.333333333333333,
          6.333333333333333,
          5,
          4.666666666666667,
          5.333333333333333,
          5.666666666666667,
          5,
          4,
          6,
          4.333333333333333,
          5.333333333333333,
          4.333333333333333,
          5.75,
          6,
          4.333333333333333,
          5.5,
          5,
          5.333333333333333,
          4.333333333333333,
          5.666666666666667,
          5.333333333333333,
          4.666666666666667,
          4.8,
          5.333333333333333,
          4,
          4.666666666666667,
          6.333333333333333,
          5.333333333333333,
          5.5,
          5,
          5.666666666666667,
          4.333333333333333,
          4.333333333333333,
          5.333333333333333,
          5.333333333333333,
          5.333333333333333,
          5,
          5.666666666666667,
          5.25,
          4,
          5.333333333333333,
          4.333333333333333,
          5.666666666666667,
          4.333333333333333,
          4.666666666666667,
          5,
          4,
          4,
          5.666666666666667,
          6,
          4.666666666666667,
          4,
          5.333333333333333,
          5.25,
          4.5,
          5.333333333333333,
          4,
          4.333333333333333,
          4.333333333333333,
          5,
          6,
          6,
          5.666666666666667,
          4.333333333333333,
          6.333333333333333,
          5,
          6,
          5.666666666666667,
          4.666666666666667,
          4.666666666666667,
          5.25,
          5.333333333333333,
          4,
          6,
          5.666666666666667,
          4.333333333333333,
          6,
          6,
          4,
          4.5,
          6,
          4.666666666666667,
          4.666666666666667,
          4.333333333333333,
          5.666666666666667,
          5.666666666666667,
          4.333333333333333,
          5.333333333333333,
          5,
          5.333333333333333,
          4.666666666666667,
          4,
          4.666666666666667,
          5
         ],
         "yaxis": "y2"
        }
       ],
       "layout": {
        "height": 500,
        "plot_bgcolor": "rgb(230, 230,230)",
        "template": {
         "data": {
          "bar": [
           {
            "error_x": {
             "color": "#2a3f5f"
            },
            "error_y": {
             "color": "#2a3f5f"
            },
            "marker": {
             "line": {
              "color": "#E5ECF6",
              "width": 0.5
             },
             "pattern": {
              "fillmode": "overlay",
              "size": 10,
              "solidity": 0.2
             }
            },
            "type": "bar"
           }
          ],
          "barpolar": [
           {
            "marker": {
             "line": {
              "color": "#E5ECF6",
              "width": 0.5
             },
             "pattern": {
              "fillmode": "overlay",
              "size": 10,
              "solidity": 0.2
             }
            },
            "type": "barpolar"
           }
          ],
          "carpet": [
           {
            "aaxis": {
             "endlinecolor": "#2a3f5f",
             "gridcolor": "white",
             "linecolor": "white",
             "minorgridcolor": "white",
             "startlinecolor": "#2a3f5f"
            },
            "baxis": {
             "endlinecolor": "#2a3f5f",
             "gridcolor": "white",
             "linecolor": "white",
             "minorgridcolor": "white",
             "startlinecolor": "#2a3f5f"
            },
            "type": "carpet"
           }
          ],
          "choropleth": [
           {
            "colorbar": {
             "outlinewidth": 0,
             "ticks": ""
            },
            "type": "choropleth"
           }
          ],
          "contour": [
           {
            "colorbar": {
             "outlinewidth": 0,
             "ticks": ""
            },
            "colorscale": [
             [
              0,
              "#0d0887"
             ],
             [
              0.1111111111111111,
              "#46039f"
             ],
             [
              0.2222222222222222,
              "#7201a8"
             ],
             [
              0.3333333333333333,
              "#9c179e"
             ],
             [
              0.4444444444444444,
              "#bd3786"
             ],
             [
              0.5555555555555556,
              "#d8576b"
             ],
             [
              0.6666666666666666,
              "#ed7953"
             ],
             [
              0.7777777777777778,
              "#fb9f3a"
             ],
             [
              0.8888888888888888,
              "#fdca26"
             ],
             [
              1,
              "#f0f921"
             ]
            ],
            "type": "contour"
           }
          ],
          "contourcarpet": [
           {
            "colorbar": {
             "outlinewidth": 0,
             "ticks": ""
            },
            "type": "contourcarpet"
           }
          ],
          "heatmap": [
           {
            "colorbar": {
             "outlinewidth": 0,
             "ticks": ""
            },
            "colorscale": [
             [
              0,
              "#0d0887"
             ],
             [
              0.1111111111111111,
              "#46039f"
             ],
             [
              0.2222222222222222,
              "#7201a8"
             ],
             [
              0.3333333333333333,
              "#9c179e"
             ],
             [
              0.4444444444444444,
              "#bd3786"
             ],
             [
              0.5555555555555556,
              "#d8576b"
             ],
             [
              0.6666666666666666,
              "#ed7953"
             ],
             [
              0.7777777777777778,
              "#fb9f3a"
             ],
             [
              0.8888888888888888,
              "#fdca26"
             ],
             [
              1,
              "#f0f921"
             ]
            ],
            "type": "heatmap"
           }
          ],
          "heatmapgl": [
           {
            "colorbar": {
             "outlinewidth": 0,
             "ticks": ""
            },
            "colorscale": [
             [
              0,
              "#0d0887"
             ],
             [
              0.1111111111111111,
              "#46039f"
             ],
             [
              0.2222222222222222,
              "#7201a8"
             ],
             [
              0.3333333333333333,
              "#9c179e"
             ],
             [
              0.4444444444444444,
              "#bd3786"
             ],
             [
              0.5555555555555556,
              "#d8576b"
             ],
             [
              0.6666666666666666,
              "#ed7953"
             ],
             [
              0.7777777777777778,
              "#fb9f3a"
             ],
             [
              0.8888888888888888,
              "#fdca26"
             ],
             [
              1,
              "#f0f921"
             ]
            ],
            "type": "heatmapgl"
           }
          ],
          "histogram": [
           {
            "marker": {
             "pattern": {
              "fillmode": "overlay",
              "size": 10,
              "solidity": 0.2
             }
            },
            "type": "histogram"
           }
          ],
          "histogram2d": [
           {
            "colorbar": {
             "outlinewidth": 0,
             "ticks": ""
            },
            "colorscale": [
             [
              0,
              "#0d0887"
             ],
             [
              0.1111111111111111,
              "#46039f"
             ],
             [
              0.2222222222222222,
              "#7201a8"
             ],
             [
              0.3333333333333333,
              "#9c179e"
             ],
             [
              0.4444444444444444,
              "#bd3786"
             ],
             [
              0.5555555555555556,
              "#d8576b"
             ],
             [
              0.6666666666666666,
              "#ed7953"
             ],
             [
              0.7777777777777778,
              "#fb9f3a"
             ],
             [
              0.8888888888888888,
              "#fdca26"
             ],
             [
              1,
              "#f0f921"
             ]
            ],
            "type": "histogram2d"
           }
          ],
          "histogram2dcontour": [
           {
            "colorbar": {
             "outlinewidth": 0,
             "ticks": ""
            },
            "colorscale": [
             [
              0,
              "#0d0887"
             ],
             [
              0.1111111111111111,
              "#46039f"
             ],
             [
              0.2222222222222222,
              "#7201a8"
             ],
             [
              0.3333333333333333,
              "#9c179e"
             ],
             [
              0.4444444444444444,
              "#bd3786"
             ],
             [
              0.5555555555555556,
              "#d8576b"
             ],
             [
              0.6666666666666666,
              "#ed7953"
             ],
             [
              0.7777777777777778,
              "#fb9f3a"
             ],
             [
              0.8888888888888888,
              "#fdca26"
             ],
             [
              1,
              "#f0f921"
             ]
            ],
            "type": "histogram2dcontour"
           }
          ],
          "mesh3d": [
           {
            "colorbar": {
             "outlinewidth": 0,
             "ticks": ""
            },
            "type": "mesh3d"
           }
          ],
          "parcoords": [
           {
            "line": {
             "colorbar": {
              "outlinewidth": 0,
              "ticks": ""
             }
            },
            "type": "parcoords"
           }
          ],
          "pie": [
           {
            "automargin": true,
            "type": "pie"
           }
          ],
          "scatter": [
           {
            "fillpattern": {
             "fillmode": "overlay",
             "size": 10,
             "solidity": 0.2
            },
            "type": "scatter"
           }
          ],
          "scatter3d": [
           {
            "line": {
             "colorbar": {
              "outlinewidth": 0,
              "ticks": ""
             }
            },
            "marker": {
             "colorbar": {
              "outlinewidth": 0,
              "ticks": ""
             }
            },
            "type": "scatter3d"
           }
          ],
          "scattercarpet": [
           {
            "marker": {
             "colorbar": {
              "outlinewidth": 0,
              "ticks": ""
             }
            },
            "type": "scattercarpet"
           }
          ],
          "scattergeo": [
           {
            "marker": {
             "colorbar": {
              "outlinewidth": 0,
              "ticks": ""
             }
            },
            "type": "scattergeo"
           }
          ],
          "scattergl": [
           {
            "marker": {
             "colorbar": {
              "outlinewidth": 0,
              "ticks": ""
             }
            },
            "type": "scattergl"
           }
          ],
          "scattermapbox": [
           {
            "marker": {
             "colorbar": {
              "outlinewidth": 0,
              "ticks": ""
             }
            },
            "type": "scattermapbox"
           }
          ],
          "scatterpolar": [
           {
            "marker": {
             "colorbar": {
              "outlinewidth": 0,
              "ticks": ""
             }
            },
            "type": "scatterpolar"
           }
          ],
          "scatterpolargl": [
           {
            "marker": {
             "colorbar": {
              "outlinewidth": 0,
              "ticks": ""
             }
            },
            "type": "scatterpolargl"
           }
          ],
          "scatterternary": [
           {
            "marker": {
             "colorbar": {
              "outlinewidth": 0,
              "ticks": ""
             }
            },
            "type": "scatterternary"
           }
          ],
          "surface": [
           {
            "colorbar": {
             "outlinewidth": 0,
             "ticks": ""
            },
            "colorscale": [
             [
              0,
              "#0d0887"
             ],
             [
              0.1111111111111111,
              "#46039f"
             ],
             [
              0.2222222222222222,
              "#7201a8"
             ],
             [
              0.3333333333333333,
              "#9c179e"
             ],
             [
              0.4444444444444444,
              "#bd3786"
             ],
             [
              0.5555555555555556,
              "#d8576b"
             ],
             [
              0.6666666666666666,
              "#ed7953"
             ],
             [
              0.7777777777777778,
              "#fb9f3a"
             ],
             [
              0.8888888888888888,
              "#fdca26"
             ],
             [
              1,
              "#f0f921"
             ]
            ],
            "type": "surface"
           }
          ],
          "table": [
           {
            "cells": {
             "fill": {
              "color": "#EBF0F8"
             },
             "line": {
              "color": "white"
             }
            },
            "header": {
             "fill": {
              "color": "#C8D4E3"
             },
             "line": {
              "color": "white"
             }
            },
            "type": "table"
           }
          ]
         },
         "layout": {
          "annotationdefaults": {
           "arrowcolor": "#2a3f5f",
           "arrowhead": 0,
           "arrowwidth": 1
          },
          "autotypenumbers": "strict",
          "coloraxis": {
           "colorbar": {
            "outlinewidth": 0,
            "ticks": ""
           }
          },
          "colorscale": {
           "diverging": [
            [
             0,
             "#8e0152"
            ],
            [
             0.1,
             "#c51b7d"
            ],
            [
             0.2,
             "#de77ae"
            ],
            [
             0.3,
             "#f1b6da"
            ],
            [
             0.4,
             "#fde0ef"
            ],
            [
             0.5,
             "#f7f7f7"
            ],
            [
             0.6,
             "#e6f5d0"
            ],
            [
             0.7,
             "#b8e186"
            ],
            [
             0.8,
             "#7fbc41"
            ],
            [
             0.9,
             "#4d9221"
            ],
            [
             1,
             "#276419"
            ]
           ],
           "sequential": [
            [
             0,
             "#0d0887"
            ],
            [
             0.1111111111111111,
             "#46039f"
            ],
            [
             0.2222222222222222,
             "#7201a8"
            ],
            [
             0.3333333333333333,
             "#9c179e"
            ],
            [
             0.4444444444444444,
             "#bd3786"
            ],
            [
             0.5555555555555556,
             "#d8576b"
            ],
            [
             0.6666666666666666,
             "#ed7953"
            ],
            [
             0.7777777777777778,
             "#fb9f3a"
            ],
            [
             0.8888888888888888,
             "#fdca26"
            ],
            [
             1,
             "#f0f921"
            ]
           ],
           "sequentialminus": [
            [
             0,
             "#0d0887"
            ],
            [
             0.1111111111111111,
             "#46039f"
            ],
            [
             0.2222222222222222,
             "#7201a8"
            ],
            [
             0.3333333333333333,
             "#9c179e"
            ],
            [
             0.4444444444444444,
             "#bd3786"
            ],
            [
             0.5555555555555556,
             "#d8576b"
            ],
            [
             0.6666666666666666,
             "#ed7953"
            ],
            [
             0.7777777777777778,
             "#fb9f3a"
            ],
            [
             0.8888888888888888,
             "#fdca26"
            ],
            [
             1,
             "#f0f921"
            ]
           ]
          },
          "colorway": [
           "#636efa",
           "#EF553B",
           "#00cc96",
           "#ab63fa",
           "#FFA15A",
           "#19d3f3",
           "#FF6692",
           "#B6E880",
           "#FF97FF",
           "#FECB52"
          ],
          "font": {
           "color": "#2a3f5f"
          },
          "geo": {
           "bgcolor": "white",
           "lakecolor": "white",
           "landcolor": "#E5ECF6",
           "showlakes": true,
           "showland": true,
           "subunitcolor": "white"
          },
          "hoverlabel": {
           "align": "left"
          },
          "hovermode": "closest",
          "mapbox": {
           "style": "light"
          },
          "paper_bgcolor": "white",
          "plot_bgcolor": "#E5ECF6",
          "polar": {
           "angularaxis": {
            "gridcolor": "white",
            "linecolor": "white",
            "ticks": ""
           },
           "bgcolor": "#E5ECF6",
           "radialaxis": {
            "gridcolor": "white",
            "linecolor": "white",
            "ticks": ""
           }
          },
          "scene": {
           "xaxis": {
            "backgroundcolor": "#E5ECF6",
            "gridcolor": "white",
            "gridwidth": 2,
            "linecolor": "white",
            "showbackground": true,
            "ticks": "",
            "zerolinecolor": "white"
           },
           "yaxis": {
            "backgroundcolor": "#E5ECF6",
            "gridcolor": "white",
            "gridwidth": 2,
            "linecolor": "white",
            "showbackground": true,
            "ticks": "",
            "zerolinecolor": "white"
           },
           "zaxis": {
            "backgroundcolor": "#E5ECF6",
            "gridcolor": "white",
            "gridwidth": 2,
            "linecolor": "white",
            "showbackground": true,
            "ticks": "",
            "zerolinecolor": "white"
           }
          },
          "shapedefaults": {
           "line": {
            "color": "#2a3f5f"
           }
          },
          "ternary": {
           "aaxis": {
            "gridcolor": "white",
            "linecolor": "white",
            "ticks": ""
           },
           "baxis": {
            "gridcolor": "white",
            "linecolor": "white",
            "ticks": ""
           },
           "bgcolor": "#E5ECF6",
           "caxis": {
            "gridcolor": "white",
            "linecolor": "white",
            "ticks": ""
           }
          },
          "title": {
           "x": 0.05
          },
          "xaxis": {
           "automargin": true,
           "gridcolor": "white",
           "linecolor": "white",
           "ticks": "",
           "title": {
            "standoff": 15
           },
           "zerolinecolor": "white",
           "zerolinewidth": 2
          },
          "yaxis": {
           "automargin": true,
           "gridcolor": "white",
           "linecolor": "white",
           "ticks": "",
           "title": {
            "standoff": 15
           },
           "zerolinecolor": "white",
           "zerolinewidth": 2
          }
         }
        },
        "width": 1000,
        "xaxis": {
         "anchor": "y",
         "domain": [
          0,
          0.45
         ],
         "showticklabels": false,
         "title": {
          "text": "Citations"
         }
        },
        "xaxis2": {
         "anchor": "y2",
         "domain": [
          0.55,
          1
         ],
         "showticklabels": false,
         "title": {
          "text": "Scores"
         }
        },
        "yaxis": {
         "anchor": "x",
         "domain": [
          0,
          1
         ],
         "range": [
          -150,
          1400
         ]
        },
        "yaxis2": {
         "anchor": "x2",
         "domain": [
          0,
          1
         ],
         "range": [
          3,
          9
         ]
        }
       }
      }
     },
     "metadata": {},
     "output_type": "display_data"
    }
   ],
   "source": [
    "fig = make_subplots(rows=1, cols=2)\n",
    "\n",
    "# do not show tick\n",
    "fig.update_xaxes(showticklabels=False)\n",
    "trace1 = go.Violin(y=accepted_norm.scores,name = 'Accepted' ,box_visible=True, meanline_visible=True, points= 'all', marker=dict(color='#84c5fe'))\n",
    "trace2 = go.Violin(y=rejected_norm.scores,name= 'Rejected' ,box_visible=True, meanline_visible=True,  points= 'all',marker=dict(color='#b94e4e'))\n",
    "\n",
    "\n",
    "trace5 = go.Violin(y=accepted_norm.citation, box_visible=True, meanline_visible=True, points= 'all', marker=dict(color='#84c5fe'),showlegend= False,)\n",
    "trace6 = go.Violin(y=rejected_norm.citation, box_visible=True, meanline_visible=True,  points= 'all',marker=dict(color='#b94e4e'),showlegend= False)\n",
    "\n",
    "fig.add_trace(trace5, row=1, col=1)\n",
    "fig.add_trace(trace6, row=1, col=1)\n",
    "fig.add_trace(trace1, row=1, col=2)\n",
    "fig.add_trace(trace2, row=1, col=2)\n",
    "\n",
    "#give title to col 1 by using x axis\n",
    "\n",
    "fig.update_xaxes(title_text=\"Citations\", row=1, col=1)\n",
    "\n",
    "fig.update_xaxes(title_text=\"Scores\", row=1, col=2)\n",
    "\n",
    "\n",
    "#increase numbers in y axis for violin plot\n",
    "\n",
    "fig['layout']['yaxis'].update(range=[-150, 1400])\n",
    "\n",
    "fig['layout']['yaxis2'].update(range=[3, 9])\n",
    "# make plot taller\n",
    "fig['layout'].update(height=500, width=1000)\n",
    "\n",
    "# make background gray\n",
    "fig['layout'].update(plot_bgcolor='rgb(230, 230,230)')\n",
    "\n",
    "\n",
    "#export pdf using pio\n",
    "import plotly.io as pio\n",
    "pio.write_image(fig, 'figures/violin.pdf', format='pdf', width=1000, height=500)\n",
    "\n",
    "fig.show()"
   ]
  },
  {
   "cell_type": "code",
   "execution_count": 63,
   "metadata": {},
   "outputs": [
    {
     "data": {
      "application/vnd.plotly.v1+json": {
       "config": {
        "plotlyServerURL": "https://plot.ly"
       },
       "data": [
        {
         "box": {
          "visible": true
         },
         "type": "violin",
         "y": [
          1,
          2,
          2,
          3,
          3,
          4,
          4,
          5,
          5
         ]
        },
        {
         "line": {
          "color": "red",
          "width": 2
         },
         "mode": "lines",
         "type": "scatter",
         "y": [
          3.2222222222222223
         ]
        }
       ],
       "layout": {
        "template": {
         "data": {
          "bar": [
           {
            "error_x": {
             "color": "#2a3f5f"
            },
            "error_y": {
             "color": "#2a3f5f"
            },
            "marker": {
             "line": {
              "color": "#E5ECF6",
              "width": 0.5
             },
             "pattern": {
              "fillmode": "overlay",
              "size": 10,
              "solidity": 0.2
             }
            },
            "type": "bar"
           }
          ],
          "barpolar": [
           {
            "marker": {
             "line": {
              "color": "#E5ECF6",
              "width": 0.5
             },
             "pattern": {
              "fillmode": "overlay",
              "size": 10,
              "solidity": 0.2
             }
            },
            "type": "barpolar"
           }
          ],
          "carpet": [
           {
            "aaxis": {
             "endlinecolor": "#2a3f5f",
             "gridcolor": "white",
             "linecolor": "white",
             "minorgridcolor": "white",
             "startlinecolor": "#2a3f5f"
            },
            "baxis": {
             "endlinecolor": "#2a3f5f",
             "gridcolor": "white",
             "linecolor": "white",
             "minorgridcolor": "white",
             "startlinecolor": "#2a3f5f"
            },
            "type": "carpet"
           }
          ],
          "choropleth": [
           {
            "colorbar": {
             "outlinewidth": 0,
             "ticks": ""
            },
            "type": "choropleth"
           }
          ],
          "contour": [
           {
            "colorbar": {
             "outlinewidth": 0,
             "ticks": ""
            },
            "colorscale": [
             [
              0,
              "#0d0887"
             ],
             [
              0.1111111111111111,
              "#46039f"
             ],
             [
              0.2222222222222222,
              "#7201a8"
             ],
             [
              0.3333333333333333,
              "#9c179e"
             ],
             [
              0.4444444444444444,
              "#bd3786"
             ],
             [
              0.5555555555555556,
              "#d8576b"
             ],
             [
              0.6666666666666666,
              "#ed7953"
             ],
             [
              0.7777777777777778,
              "#fb9f3a"
             ],
             [
              0.8888888888888888,
              "#fdca26"
             ],
             [
              1,
              "#f0f921"
             ]
            ],
            "type": "contour"
           }
          ],
          "contourcarpet": [
           {
            "colorbar": {
             "outlinewidth": 0,
             "ticks": ""
            },
            "type": "contourcarpet"
           }
          ],
          "heatmap": [
           {
            "colorbar": {
             "outlinewidth": 0,
             "ticks": ""
            },
            "colorscale": [
             [
              0,
              "#0d0887"
             ],
             [
              0.1111111111111111,
              "#46039f"
             ],
             [
              0.2222222222222222,
              "#7201a8"
             ],
             [
              0.3333333333333333,
              "#9c179e"
             ],
             [
              0.4444444444444444,
              "#bd3786"
             ],
             [
              0.5555555555555556,
              "#d8576b"
             ],
             [
              0.6666666666666666,
              "#ed7953"
             ],
             [
              0.7777777777777778,
              "#fb9f3a"
             ],
             [
              0.8888888888888888,
              "#fdca26"
             ],
             [
              1,
              "#f0f921"
             ]
            ],
            "type": "heatmap"
           }
          ],
          "heatmapgl": [
           {
            "colorbar": {
             "outlinewidth": 0,
             "ticks": ""
            },
            "colorscale": [
             [
              0,
              "#0d0887"
             ],
             [
              0.1111111111111111,
              "#46039f"
             ],
             [
              0.2222222222222222,
              "#7201a8"
             ],
             [
              0.3333333333333333,
              "#9c179e"
             ],
             [
              0.4444444444444444,
              "#bd3786"
             ],
             [
              0.5555555555555556,
              "#d8576b"
             ],
             [
              0.6666666666666666,
              "#ed7953"
             ],
             [
              0.7777777777777778,
              "#fb9f3a"
             ],
             [
              0.8888888888888888,
              "#fdca26"
             ],
             [
              1,
              "#f0f921"
             ]
            ],
            "type": "heatmapgl"
           }
          ],
          "histogram": [
           {
            "marker": {
             "pattern": {
              "fillmode": "overlay",
              "size": 10,
              "solidity": 0.2
             }
            },
            "type": "histogram"
           }
          ],
          "histogram2d": [
           {
            "colorbar": {
             "outlinewidth": 0,
             "ticks": ""
            },
            "colorscale": [
             [
              0,
              "#0d0887"
             ],
             [
              0.1111111111111111,
              "#46039f"
             ],
             [
              0.2222222222222222,
              "#7201a8"
             ],
             [
              0.3333333333333333,
              "#9c179e"
             ],
             [
              0.4444444444444444,
              "#bd3786"
             ],
             [
              0.5555555555555556,
              "#d8576b"
             ],
             [
              0.6666666666666666,
              "#ed7953"
             ],
             [
              0.7777777777777778,
              "#fb9f3a"
             ],
             [
              0.8888888888888888,
              "#fdca26"
             ],
             [
              1,
              "#f0f921"
             ]
            ],
            "type": "histogram2d"
           }
          ],
          "histogram2dcontour": [
           {
            "colorbar": {
             "outlinewidth": 0,
             "ticks": ""
            },
            "colorscale": [
             [
              0,
              "#0d0887"
             ],
             [
              0.1111111111111111,
              "#46039f"
             ],
             [
              0.2222222222222222,
              "#7201a8"
             ],
             [
              0.3333333333333333,
              "#9c179e"
             ],
             [
              0.4444444444444444,
              "#bd3786"
             ],
             [
              0.5555555555555556,
              "#d8576b"
             ],
             [
              0.6666666666666666,
              "#ed7953"
             ],
             [
              0.7777777777777778,
              "#fb9f3a"
             ],
             [
              0.8888888888888888,
              "#fdca26"
             ],
             [
              1,
              "#f0f921"
             ]
            ],
            "type": "histogram2dcontour"
           }
          ],
          "mesh3d": [
           {
            "colorbar": {
             "outlinewidth": 0,
             "ticks": ""
            },
            "type": "mesh3d"
           }
          ],
          "parcoords": [
           {
            "line": {
             "colorbar": {
              "outlinewidth": 0,
              "ticks": ""
             }
            },
            "type": "parcoords"
           }
          ],
          "pie": [
           {
            "automargin": true,
            "type": "pie"
           }
          ],
          "scatter": [
           {
            "fillpattern": {
             "fillmode": "overlay",
             "size": 10,
             "solidity": 0.2
            },
            "type": "scatter"
           }
          ],
          "scatter3d": [
           {
            "line": {
             "colorbar": {
              "outlinewidth": 0,
              "ticks": ""
             }
            },
            "marker": {
             "colorbar": {
              "outlinewidth": 0,
              "ticks": ""
             }
            },
            "type": "scatter3d"
           }
          ],
          "scattercarpet": [
           {
            "marker": {
             "colorbar": {
              "outlinewidth": 0,
              "ticks": ""
             }
            },
            "type": "scattercarpet"
           }
          ],
          "scattergeo": [
           {
            "marker": {
             "colorbar": {
              "outlinewidth": 0,
              "ticks": ""
             }
            },
            "type": "scattergeo"
           }
          ],
          "scattergl": [
           {
            "marker": {
             "colorbar": {
              "outlinewidth": 0,
              "ticks": ""
             }
            },
            "type": "scattergl"
           }
          ],
          "scattermapbox": [
           {
            "marker": {
             "colorbar": {
              "outlinewidth": 0,
              "ticks": ""
             }
            },
            "type": "scattermapbox"
           }
          ],
          "scatterpolar": [
           {
            "marker": {
             "colorbar": {
              "outlinewidth": 0,
              "ticks": ""
             }
            },
            "type": "scatterpolar"
           }
          ],
          "scatterpolargl": [
           {
            "marker": {
             "colorbar": {
              "outlinewidth": 0,
              "ticks": ""
             }
            },
            "type": "scatterpolargl"
           }
          ],
          "scatterternary": [
           {
            "marker": {
             "colorbar": {
              "outlinewidth": 0,
              "ticks": ""
             }
            },
            "type": "scatterternary"
           }
          ],
          "surface": [
           {
            "colorbar": {
             "outlinewidth": 0,
             "ticks": ""
            },
            "colorscale": [
             [
              0,
              "#0d0887"
             ],
             [
              0.1111111111111111,
              "#46039f"
             ],
             [
              0.2222222222222222,
              "#7201a8"
             ],
             [
              0.3333333333333333,
              "#9c179e"
             ],
             [
              0.4444444444444444,
              "#bd3786"
             ],
             [
              0.5555555555555556,
              "#d8576b"
             ],
             [
              0.6666666666666666,
              "#ed7953"
             ],
             [
              0.7777777777777778,
              "#fb9f3a"
             ],
             [
              0.8888888888888888,
              "#fdca26"
             ],
             [
              1,
              "#f0f921"
             ]
            ],
            "type": "surface"
           }
          ],
          "table": [
           {
            "cells": {
             "fill": {
              "color": "#EBF0F8"
             },
             "line": {
              "color": "white"
             }
            },
            "header": {
             "fill": {
              "color": "#C8D4E3"
             },
             "line": {
              "color": "white"
             }
            },
            "type": "table"
           }
          ]
         },
         "layout": {
          "annotationdefaults": {
           "arrowcolor": "#2a3f5f",
           "arrowhead": 0,
           "arrowwidth": 1
          },
          "autotypenumbers": "strict",
          "coloraxis": {
           "colorbar": {
            "outlinewidth": 0,
            "ticks": ""
           }
          },
          "colorscale": {
           "diverging": [
            [
             0,
             "#8e0152"
            ],
            [
             0.1,
             "#c51b7d"
            ],
            [
             0.2,
             "#de77ae"
            ],
            [
             0.3,
             "#f1b6da"
            ],
            [
             0.4,
             "#fde0ef"
            ],
            [
             0.5,
             "#f7f7f7"
            ],
            [
             0.6,
             "#e6f5d0"
            ],
            [
             0.7,
             "#b8e186"
            ],
            [
             0.8,
             "#7fbc41"
            ],
            [
             0.9,
             "#4d9221"
            ],
            [
             1,
             "#276419"
            ]
           ],
           "sequential": [
            [
             0,
             "#0d0887"
            ],
            [
             0.1111111111111111,
             "#46039f"
            ],
            [
             0.2222222222222222,
             "#7201a8"
            ],
            [
             0.3333333333333333,
             "#9c179e"
            ],
            [
             0.4444444444444444,
             "#bd3786"
            ],
            [
             0.5555555555555556,
             "#d8576b"
            ],
            [
             0.6666666666666666,
             "#ed7953"
            ],
            [
             0.7777777777777778,
             "#fb9f3a"
            ],
            [
             0.8888888888888888,
             "#fdca26"
            ],
            [
             1,
             "#f0f921"
            ]
           ],
           "sequentialminus": [
            [
             0,
             "#0d0887"
            ],
            [
             0.1111111111111111,
             "#46039f"
            ],
            [
             0.2222222222222222,
             "#7201a8"
            ],
            [
             0.3333333333333333,
             "#9c179e"
            ],
            [
             0.4444444444444444,
             "#bd3786"
            ],
            [
             0.5555555555555556,
             "#d8576b"
            ],
            [
             0.6666666666666666,
             "#ed7953"
            ],
            [
             0.7777777777777778,
             "#fb9f3a"
            ],
            [
             0.8888888888888888,
             "#fdca26"
            ],
            [
             1,
             "#f0f921"
            ]
           ]
          },
          "colorway": [
           "#636efa",
           "#EF553B",
           "#00cc96",
           "#ab63fa",
           "#FFA15A",
           "#19d3f3",
           "#FF6692",
           "#B6E880",
           "#FF97FF",
           "#FECB52"
          ],
          "font": {
           "color": "#2a3f5f"
          },
          "geo": {
           "bgcolor": "white",
           "lakecolor": "white",
           "landcolor": "#E5ECF6",
           "showlakes": true,
           "showland": true,
           "subunitcolor": "white"
          },
          "hoverlabel": {
           "align": "left"
          },
          "hovermode": "closest",
          "mapbox": {
           "style": "light"
          },
          "paper_bgcolor": "white",
          "plot_bgcolor": "#E5ECF6",
          "polar": {
           "angularaxis": {
            "gridcolor": "white",
            "linecolor": "white",
            "ticks": ""
           },
           "bgcolor": "#E5ECF6",
           "radialaxis": {
            "gridcolor": "white",
            "linecolor": "white",
            "ticks": ""
           }
          },
          "scene": {
           "xaxis": {
            "backgroundcolor": "#E5ECF6",
            "gridcolor": "white",
            "gridwidth": 2,
            "linecolor": "white",
            "showbackground": true,
            "ticks": "",
            "zerolinecolor": "white"
           },
           "yaxis": {
            "backgroundcolor": "#E5ECF6",
            "gridcolor": "white",
            "gridwidth": 2,
            "linecolor": "white",
            "showbackground": true,
            "ticks": "",
            "zerolinecolor": "white"
           },
           "zaxis": {
            "backgroundcolor": "#E5ECF6",
            "gridcolor": "white",
            "gridwidth": 2,
            "linecolor": "white",
            "showbackground": true,
            "ticks": "",
            "zerolinecolor": "white"
           }
          },
          "shapedefaults": {
           "line": {
            "color": "#2a3f5f"
           }
          },
          "ternary": {
           "aaxis": {
            "gridcolor": "white",
            "linecolor": "white",
            "ticks": ""
           },
           "baxis": {
            "gridcolor": "white",
            "linecolor": "white",
            "ticks": ""
           },
           "bgcolor": "#E5ECF6",
           "caxis": {
            "gridcolor": "white",
            "linecolor": "white",
            "ticks": ""
           }
          },
          "title": {
           "x": 0.05
          },
          "xaxis": {
           "automargin": true,
           "gridcolor": "white",
           "linecolor": "white",
           "ticks": "",
           "title": {
            "standoff": 15
           },
           "zerolinecolor": "white",
           "zerolinewidth": 2
          },
          "yaxis": {
           "automargin": true,
           "gridcolor": "white",
           "linecolor": "white",
           "ticks": "",
           "title": {
            "standoff": 15
           },
           "zerolinecolor": "white",
           "zerolinewidth": 2
          }
         }
        },
        "title": {
         "text": "Violin Plot with Mean Line"
        },
        "xaxis": {
         "title": {
          "text": "X"
         }
        },
        "yaxis": {
         "title": {
          "text": "Y"
         }
        }
       }
      }
     },
     "metadata": {},
     "output_type": "display_data"
    }
   ],
   "source": [
    "# Data for the violin plot\n",
    "data = [1, 2, 2, 3, 3, 4, 4, 5, 5]\n",
    "\n",
    "# Create a violin plot\n",
    "violin = go.Violin(y=data, box_visible=True)\n",
    "\n",
    "# Calculate the mean of the data\n",
    "mean_y = sum(data) / len(data)\n",
    "\n",
    "# Create a line trace for the mean\n",
    "mean_trace = go.Scatter(y=[mean_y], mode='lines', line=dict(color='red', width=2))\n",
    "\n",
    "# Create a layout for the plot\n",
    "layout = go.Layout(title='Violin Plot with Mean Line', xaxis=dict(title='X'), yaxis=dict(title='Y'))\n",
    "\n",
    "# Create the plot\n",
    "fig = go.Figure(data=[violin, mean_trace], layout=layout)\n",
    "\n",
    "# Show the plot\n",
    "fig.show()\n"
   ]
  },
  {
   "attachments": {},
   "cell_type": "markdown",
   "metadata": {},
   "source": [
    "# Score vs Citation"
   ]
  },
  {
   "cell_type": "code",
   "execution_count": 12,
   "metadata": {},
   "outputs": [
    {
     "data": {
      "text/plain": [
       "<matplotlib.legend.Legend at 0x7fa8c76be310>"
      ]
     },
     "execution_count": 12,
     "metadata": {},
     "output_type": "execute_result"
    },
    {
     "data": {
      "image/png": "[encoded data removed]",
      "text/plain": [
       "<Figure size 504x360 with 1 Axes>"
      ]
     },
     "metadata": {
      "needs_background": "light"
     },
     "output_type": "display_data"
    }
   ],
   "source": [
    "\n",
    "\n",
    "bins = np.arange(5, 9.5, 0.5)\n",
    "\n",
    "plt.figure(figsize=(7, 5))\n",
    "plt.xlabel('Recommendation Score')\n",
    "plt.ylabel('Count Per Bin')\n",
    "plt.title('Review Score Histogram')\n",
    "\n",
    "plt.hist(accepted['scores'], bins=bins, color='#313369', label='All Accepted' ,alpha = 0.5)\n",
    "\n",
    "plt.hist(accepted_norm['scores'], bins=bins, alpha = 0.5, color='#6ec1ff', label='95 Quantile Accepted', edgecolor='black')\n",
    "plt.savefig('figures/accepted_score_hist.pdf')\n",
    "plt.legend()\n"
   ]
  },
  {
   "cell_type": "code",
   "execution_count": 64,
   "metadata": {},
   "outputs": [
    {
     "data": {
      "text/plain": [
       "<matplotlib.legend.Legend at 0x7fbc48d1b460>"
      ]
     },
     "execution_count": 64,
     "metadata": {},
     "output_type": "execute_result"
    },
    {
     "data": {
      "image/png": "[encoded data removed]",
      "text/plain": [
       "<Figure size 360x360 with 1 Axes>"
      ]
     },
     "metadata": {
      "needs_background": "light"
     },
     "output_type": "display_data"
    }
   ],
   "source": [
    "bins = np.arange(4, 7, 0.5)\n",
    "\n",
    "plt.figure(figsize=(5, 5))\n",
    "plt.xlabel('Recommendation Score')\n",
    "plt.ylabel('Frequency')\n",
    "plt.title('Recommendation Scores')\n",
    "plt.hist(rejected['scores'], bins=bins, label='rejected', color='#ad3a79')\n",
    "plt.hist(rejected_norm['scores'], bins=bins, label='%95 rejected', color='#fbc4ed', alpha=0.5)\n",
    "plt.legend()"
   ]
  },
  {
   "cell_type": "code",
   "execution_count": 35,
   "metadata": {},
   "outputs": [
    {
     "data": {
      "text/plain": [
       "<matplotlib.legend.Legend at 0x7fbc4b699b80>"
      ]
     },
     "execution_count": 35,
     "metadata": {},
     "output_type": "execute_result"
    },
    {
     "data": {
      "image/png": "[encoded data removed]",
      "text/plain": [
       "<Figure size 360x360 with 1 Axes>"
      ]
     },
     "metadata": {
      "needs_background": "light"
     },
     "output_type": "display_data"
    }
   ],
   "source": [
    "# plot citations against recommendation scores\n",
    "plt.figure(figsize=(5, 5))\n",
    "plt.ylabel('Citation')\n",
    "plt.xlabel('Recommendation Score')\n",
    "plt.title('Citations vs Recommendation Scores')\n",
    "plt.scatter(accepted['scores'], accepted['citation'],  label='accepted', color='b')\n",
    "plt.scatter(accepted_norm['scores'], accepted_norm['citation'],  label='% 95 accepted', color='purple')\n",
    "plt.legend()"
   ]
  },
  {
   "cell_type": "code",
   "execution_count": 36,
   "metadata": {},
   "outputs": [
    {
     "data": {
      "text/plain": [
       "<matplotlib.collections.PathCollection at 0x7fbc4ba1f520>"
      ]
     },
     "execution_count": 36,
     "metadata": {},
     "output_type": "execute_result"
    },
    {
     "data": {
      "image/png": "[encoded data removed]",
      "text/plain": [
       "<Figure size 360x360 with 1 Axes>"
      ]
     },
     "metadata": {
      "needs_background": "light"
     },
     "output_type": "display_data"
    }
   ],
   "source": [
    "# plot the same thing for rejected papers\n",
    "plt.figure(figsize=(5, 5))\n",
    "plt.ylabel('Citation')\n",
    "plt.xlabel('Recommendation Score')\n",
    "plt.title('Citations vs Recommendation Scores')\n",
    "plt.scatter(rejected['scores'], rejected['citation'],  label='rejected', color='r')\n",
    "plt.scatter(rejected_norm['scores'], rejected_norm['citation'],  label='% 95 rejected', color='pink')"
   ]
  },
  {
   "cell_type": "code",
   "execution_count": 65,
   "metadata": {},
   "outputs": [
    {
     "name": "stderr",
     "output_type": "stream",
     "text": [
      "<ipython-input-65-e07741eb5a24>:1: SettingWithCopyWarning: \n",
      "A value is trying to be set on a copy of a slice from a DataFrame.\n",
      "Try using .loc[row_indexer,col_indexer] = value instead\n",
      "\n",
      "See the caveats in the documentation: https://pandas.pydata.org/pandas-docs/stable/user_guide/indexing.html#returning-a-view-versus-a-copy\n",
      "  accepted['scores'] = accepted['scores'].astype(int)\n"
     ]
    },
    {
     "data": {
      "text/html": [
       "<div>\n",
       "<style scoped>\n",
       "    .dataframe tbody tr th:only-of-type {\n",
       "        vertical-align: middle;\n",
       "    }\n",
       "\n",
       "    .dataframe tbody tr th {\n",
       "        vertical-align: top;\n",
       "    }\n",
       "\n",
       "    .dataframe thead th {\n",
       "        text-align: right;\n",
       "    }\n",
       "</style>\n",
       "<table border=\"1\" class=\"dataframe\">\n",
       "  <thead>\n",
       "    <tr style=\"text-align: right;\">\n",
       "      <th></th>\n",
       "      <th>id</th>\n",
       "      <th>accepted</th>\n",
       "      <th>citation</th>\n",
       "      <th>paper_no</th>\n",
       "    </tr>\n",
       "    <tr>\n",
       "      <th>scores</th>\n",
       "      <th></th>\n",
       "      <th></th>\n",
       "      <th></th>\n",
       "      <th></th>\n",
       "    </tr>\n",
       "  </thead>\n",
       "  <tbody>\n",
       "    <tr>\n",
       "      <th>5</th>\n",
       "      <td>386.111111</td>\n",
       "      <td>True</td>\n",
       "      <td>236.555556</td>\n",
       "      <td>9</td>\n",
       "    </tr>\n",
       "    <tr>\n",
       "      <th>6</th>\n",
       "      <td>411.691176</td>\n",
       "      <td>True</td>\n",
       "      <td>484.000000</td>\n",
       "      <td>68</td>\n",
       "    </tr>\n",
       "    <tr>\n",
       "      <th>7</th>\n",
       "      <td>404.474359</td>\n",
       "      <td>True</td>\n",
       "      <td>385.910256</td>\n",
       "      <td>78</td>\n",
       "    </tr>\n",
       "    <tr>\n",
       "      <th>8</th>\n",
       "      <td>373.812500</td>\n",
       "      <td>True</td>\n",
       "      <td>484.687500</td>\n",
       "      <td>16</td>\n",
       "    </tr>\n",
       "    <tr>\n",
       "      <th>9</th>\n",
       "      <td>312.000000</td>\n",
       "      <td>True</td>\n",
       "      <td>3919.000000</td>\n",
       "      <td>1</td>\n",
       "    </tr>\n",
       "  </tbody>\n",
       "</table>\n",
       "</div>"
      ],
      "text/plain": [
       "                id  accepted     citation  paper_no\n",
       "scores                                             \n",
       "5       386.111111      True   236.555556         9\n",
       "6       411.691176      True   484.000000        68\n",
       "7       404.474359      True   385.910256        78\n",
       "8       373.812500      True   484.687500        16\n",
       "9       312.000000      True  3919.000000         1"
      ]
     },
     "execution_count": 65,
     "metadata": {},
     "output_type": "execute_result"
    }
   ],
   "source": [
    "\n",
    "accepted['scores'] = accepted['scores'].astype(int)\n",
    "\n",
    "# and calculate the average number of citations for each group\n",
    "accepted_grouped = accepted.groupby('scores').mean()\n",
    "# show paper number for each group\n",
    "\n",
    "accepted_grouped['paper_no'] = accepted.groupby('scores').count()['citation']\n",
    "accepted_grouped"
   ]
  },
  {
   "cell_type": "code",
   "execution_count": 42,
   "metadata": {},
   "outputs": [
    {
     "name": "stderr",
     "output_type": "stream",
     "text": [
      "<ipython-input-42-2897e13eaace>:2: SettingWithCopyWarning: \n",
      "A value is trying to be set on a copy of a slice from a DataFrame.\n",
      "Try using .loc[row_indexer,col_indexer] = value instead\n",
      "\n",
      "See the caveats in the documentation: https://pandas.pydata.org/pandas-docs/stable/user_guide/indexing.html#returning-a-view-versus-a-copy\n",
      "  accepted_norm['scores'] = accepted_norm['scores'].astype(int)\n"
     ]
    },
    {
     "data": {
      "text/html": [
       "<div>\n",
       "<style scoped>\n",
       "    .dataframe tbody tr th:only-of-type {\n",
       "        vertical-align: middle;\n",
       "    }\n",
       "\n",
       "    .dataframe tbody tr th {\n",
       "        vertical-align: top;\n",
       "    }\n",
       "\n",
       "    .dataframe thead th {\n",
       "        text-align: right;\n",
       "    }\n",
       "</style>\n",
       "<table border=\"1\" class=\"dataframe\">\n",
       "  <thead>\n",
       "    <tr style=\"text-align: right;\">\n",
       "      <th></th>\n",
       "      <th>id</th>\n",
       "      <th>accepted</th>\n",
       "      <th>citation</th>\n",
       "      <th>paper_no</th>\n",
       "    </tr>\n",
       "    <tr>\n",
       "      <th>scores</th>\n",
       "      <th></th>\n",
       "      <th></th>\n",
       "      <th></th>\n",
       "      <th></th>\n",
       "    </tr>\n",
       "  </thead>\n",
       "  <tbody>\n",
       "    <tr>\n",
       "      <th>5</th>\n",
       "      <td>386.111111</td>\n",
       "      <td>True</td>\n",
       "      <td>236.555556</td>\n",
       "      <td>9</td>\n",
       "    </tr>\n",
       "    <tr>\n",
       "      <th>6</th>\n",
       "      <td>411.921875</td>\n",
       "      <td>True</td>\n",
       "      <td>306.015625</td>\n",
       "      <td>64</td>\n",
       "    </tr>\n",
       "    <tr>\n",
       "      <th>7</th>\n",
       "      <td>405.000000</td>\n",
       "      <td>True</td>\n",
       "      <td>289.173333</td>\n",
       "      <td>75</td>\n",
       "    </tr>\n",
       "    <tr>\n",
       "      <th>8</th>\n",
       "      <td>377.733333</td>\n",
       "      <td>True</td>\n",
       "      <td>384.866667</td>\n",
       "      <td>15</td>\n",
       "    </tr>\n",
       "  </tbody>\n",
       "</table>\n",
       "</div>"
      ],
      "text/plain": [
       "                id  accepted    citation  paper_no\n",
       "scores                                            \n",
       "5       386.111111      True  236.555556         9\n",
       "6       411.921875      True  306.015625        64\n",
       "7       405.000000      True  289.173333        75\n",
       "8       377.733333      True  384.866667        15"
      ]
     },
     "execution_count": 42,
     "metadata": {},
     "output_type": "execute_result"
    }
   ],
   "source": [
    "# do the same thing for accepted_norm\n",
    "accepted_norm['scores'] = accepted_norm['scores'].astype(int)\n",
    "accepted_norm_grouped = accepted_norm.groupby('scores').mean()\n",
    "accepted_norm_grouped['paper_no'] = accepted_norm.groupby('scores').count()['citation']\n",
    "accepted_norm_grouped"
   ]
  },
  {
   "cell_type": "code",
   "execution_count": 47,
   "metadata": {},
   "outputs": [
    {
     "name": "stderr",
     "output_type": "stream",
     "text": [
      "<ipython-input-47-d3347b1feb21>:3: SettingWithCopyWarning: \n",
      "A value is trying to be set on a copy of a slice from a DataFrame.\n",
      "Try using .loc[row_indexer,col_indexer] = value instead\n",
      "\n",
      "See the caveats in the documentation: https://pandas.pydata.org/pandas-docs/stable/user_guide/indexing.html#returning-a-view-versus-a-copy\n",
      "  accepted_outlier['scores'] = accepted_outlier['scores'].astype(int)\n"
     ]
    },
    {
     "data": {
      "text/html": [
       "<div>\n",
       "<style scoped>\n",
       "    .dataframe tbody tr th:only-of-type {\n",
       "        vertical-align: middle;\n",
       "    }\n",
       "\n",
       "    .dataframe tbody tr th {\n",
       "        vertical-align: top;\n",
       "    }\n",
       "\n",
       "    .dataframe thead th {\n",
       "        text-align: right;\n",
       "    }\n",
       "</style>\n",
       "<table border=\"1\" class=\"dataframe\">\n",
       "  <thead>\n",
       "    <tr style=\"text-align: right;\">\n",
       "      <th></th>\n",
       "      <th>id</th>\n",
       "      <th>accepted</th>\n",
       "      <th>citation</th>\n",
       "      <th>paper_no</th>\n",
       "    </tr>\n",
       "    <tr>\n",
       "      <th>scores</th>\n",
       "      <th></th>\n",
       "      <th></th>\n",
       "      <th></th>\n",
       "      <th></th>\n",
       "    </tr>\n",
       "  </thead>\n",
       "  <tbody>\n",
       "    <tr>\n",
       "      <th>6</th>\n",
       "      <td>408.000000</td>\n",
       "      <td>True</td>\n",
       "      <td>3331.750000</td>\n",
       "      <td>4</td>\n",
       "    </tr>\n",
       "    <tr>\n",
       "      <th>7</th>\n",
       "      <td>391.333333</td>\n",
       "      <td>True</td>\n",
       "      <td>2804.333333</td>\n",
       "      <td>3</td>\n",
       "    </tr>\n",
       "    <tr>\n",
       "      <th>8</th>\n",
       "      <td>315.000000</td>\n",
       "      <td>True</td>\n",
       "      <td>1982.000000</td>\n",
       "      <td>1</td>\n",
       "    </tr>\n",
       "    <tr>\n",
       "      <th>9</th>\n",
       "      <td>312.000000</td>\n",
       "      <td>True</td>\n",
       "      <td>3919.000000</td>\n",
       "      <td>1</td>\n",
       "    </tr>\n",
       "  </tbody>\n",
       "</table>\n",
       "</div>"
      ],
      "text/plain": [
       "                id  accepted     citation  paper_no\n",
       "scores                                             \n",
       "6       408.000000      True  3331.750000         4\n",
       "7       391.333333      True  2804.333333         3\n",
       "8       315.000000      True  1982.000000         1\n",
       "9       312.000000      True  3919.000000         1"
      ]
     },
     "execution_count": 47,
     "metadata": {},
     "output_type": "execute_result"
    }
   ],
   "source": [
    "# do the same thing for accepted_outlier\n",
    "\n",
    "accepted_outlier['scores'] = accepted_outlier['scores'].astype(int)\n",
    "accepted_outlier_grouped = accepted_outlier.groupby('scores').mean()\n",
    "accepted_outlier_grouped['paper_no'] = accepted_outlier.groupby('scores').count()['citation']\n",
    "accepted_outlier_grouped"
   ]
  },
  {
   "cell_type": "code",
   "execution_count": 52,
   "metadata": {},
   "outputs": [
    {
     "name": "stderr",
     "output_type": "stream",
     "text": [
      "<ipython-input-52-6524fe7e2926>:3: SettingWithCopyWarning: \n",
      "A value is trying to be set on a copy of a slice from a DataFrame.\n",
      "Try using .loc[row_indexer,col_indexer] = value instead\n",
      "\n",
      "See the caveats in the documentation: https://pandas.pydata.org/pandas-docs/stable/user_guide/indexing.html#returning-a-view-versus-a-copy\n",
      "  rejected_outlier['scores'] = rejected_outlier['scores'].astype(int)\n"
     ]
    },
    {
     "data": {
      "text/html": [
       "<div>\n",
       "<style scoped>\n",
       "    .dataframe tbody tr th:only-of-type {\n",
       "        vertical-align: middle;\n",
       "    }\n",
       "\n",
       "    .dataframe tbody tr th {\n",
       "        vertical-align: top;\n",
       "    }\n",
       "\n",
       "    .dataframe thead th {\n",
       "        text-align: right;\n",
       "    }\n",
       "</style>\n",
       "<table border=\"1\" class=\"dataframe\">\n",
       "  <thead>\n",
       "    <tr style=\"text-align: right;\">\n",
       "      <th></th>\n",
       "      <th>id</th>\n",
       "      <th>accepted</th>\n",
       "      <th>citation</th>\n",
       "      <th>paper_no</th>\n",
       "    </tr>\n",
       "    <tr>\n",
       "      <th>scores</th>\n",
       "      <th></th>\n",
       "      <th></th>\n",
       "      <th></th>\n",
       "      <th></th>\n",
       "    </tr>\n",
       "  </thead>\n",
       "  <tbody>\n",
       "    <tr>\n",
       "      <th>4</th>\n",
       "      <td>703.0</td>\n",
       "      <td>False</td>\n",
       "      <td>1169.00</td>\n",
       "      <td>2</td>\n",
       "    </tr>\n",
       "    <tr>\n",
       "      <th>5</th>\n",
       "      <td>682.8</td>\n",
       "      <td>False</td>\n",
       "      <td>2334.60</td>\n",
       "      <td>5</td>\n",
       "    </tr>\n",
       "    <tr>\n",
       "      <th>6</th>\n",
       "      <td>650.0</td>\n",
       "      <td>False</td>\n",
       "      <td>1923.25</td>\n",
       "      <td>4</td>\n",
       "    </tr>\n",
       "  </tbody>\n",
       "</table>\n",
       "</div>"
      ],
      "text/plain": [
       "           id  accepted  citation  paper_no\n",
       "scores                                     \n",
       "4       703.0     False   1169.00         2\n",
       "5       682.8     False   2334.60         5\n",
       "6       650.0     False   1923.25         4"
      ]
     },
     "execution_count": 52,
     "metadata": {},
     "output_type": "execute_result"
    }
   ],
   "source": [
    "# do the same thing for rejected_outlier\n",
    "\n",
    "rejected_outlier['scores'] = rejected_outlier['scores'].astype(int)\n",
    "rejected_outlier_grouped = rejected_outlier.groupby('scores').mean()\n",
    "rejected_outlier_grouped['paper_no'] = rejected_outlier.groupby('scores').count()['citation']\n",
    "rejected_outlier_grouped"
   ]
  },
  {
   "cell_type": "code",
   "execution_count": null,
   "metadata": {},
   "outputs": [],
   "source": []
  }
 ],
 "metadata": {
  "kernelspec": {
   "display_name": "vision",
   "language": "python",
   "name": "python3"
  },
  "language_info": {
   "codemirror_mode": {
    "name": "ipython",
    "version": 3
   },
   "file_extension": ".py",
   "mimetype": "text/x-python",
   "name": "python",
   "nbconvert_exporter": "python",
   "pygments_lexer": "ipython3",
   "version": "3.8.5"
  },
  "orig_nbformat": 4,
  "vscode": {
   "interpreter": {
    "hash": "0d7f4c9353dd4174aa42641353d47bcbf91971a96cc3f3151afe34dc787615bd"
   }
  }
 },
 "nbformat": 4,
 "nbformat_minor": 2
}
