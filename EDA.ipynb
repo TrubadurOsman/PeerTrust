{
 "cells": [
  {
   "cell_type": "code",
   "execution_count": 1,
   "metadata": {},
   "outputs": [],
   "source": [
    "import pandas  as pd\n",
    "import numpy as np\n",
    "import matplotlib.pyplot as plt\n",
    "import seaborn as sns\n",
    "import plotly.graph_objs as go\n",
    "import plotly.express as px\n",
    "from plotly.subplots import make_subplots\n",
    "import plotly.io as pio"
   ]
  },
  {
   "cell_type": "code",
   "execution_count": 2,
   "metadata": {},
   "outputs": [],
   "source": [
    "# read iclr2017\n",
    "df = pd.read_json('datasets/iclr_2017.json')\n"
   ]
  },
  {
   "cell_type": "code",
   "execution_count": 7,
   "metadata": {},
   "outputs": [
    {
     "name": "stdout",
     "output_type": "stream",
     "text": [
      "172\n",
      "215\n"
     ]
    }
   ],
   "source": [
    "scores = df['recommendation']\n",
    "scores = [ np.mean(score) for score in scores]\n",
    "\n",
    "df['scores'] = scores\n",
    "# drop rows with scores less than 4\n",
    "\n",
    "print(len(df[df.accepted == True]))\n",
    "print(len(df[df.accepted == False]))\n",
    "\n",
    "quality_drop = df[df['scores'] < 4]\n",
    "df = df[df['scores'] >=4]\n"
   ]
  },
  {
   "cell_type": "code",
   "execution_count": 8,
   "metadata": {},
   "outputs": [],
   "source": [
    "# accepted paper\n",
    "accepted = df[df['accepted'] == True]\n",
    "# rejected paper\n",
    "rejected = df[df['accepted'] == False]"
   ]
  },
  {
   "cell_type": "code",
   "execution_count": 9,
   "metadata": {},
   "outputs": [],
   "source": [
    "# drop the outlier citation papers with  IQR METHOD\n",
    "Q1_a = accepted['citation'].quantile(0.25)\n",
    "Q3_a = accepted['citation'].quantile(0.75)\n",
    "IQR_a = Q3_a - Q1_a\n",
    "accepted_norm = accepted.query('(@Q1_a - 1.5 * @IQR_a) <= citation <= (@Q3_a + 1.5 * @IQR_a)')\n",
    "\n",
    "\n",
    "# do the same for rejected papers\n",
    "Q1_r = rejected['citation'].quantile(0.25)\n",
    "Q3_r = rejected['citation'].quantile(0.75)\n",
    "IQR_r = Q3_r - Q1_r\n",
    "rejected_norm = rejected.query('(@Q1_r - 1.5 * @IQR_r) <= citation <= (@Q3_r + 1.5 * @IQR_r)')\n",
    "\n",
    "# also get outliers \n",
    "\n",
    "accepted_outliers = accepted[~accepted.index.isin(accepted_norm.index)]\n",
    "rejected_outliers = rejected[~rejected.index.isin(rejected_norm.index)]\n"
   ]
  },
  {
   "cell_type": "code",
   "execution_count": 10,
   "metadata": {},
   "outputs": [
    {
     "name": "stdout",
     "output_type": "stream",
     "text": [
      "152 184\n",
      "20 31\n"
     ]
    }
   ],
   "source": [
    "print(len(accepted_norm), len(rejected_norm))\n",
    "print(len(accepted_outliers), len(rejected_outliers))"
   ]
  },
  {
   "cell_type": "code",
   "execution_count": 11,
   "metadata": {},
   "outputs": [
    {
     "name": "stdout",
     "output_type": "stream",
     "text": [
      "221.27631578947367 34.65760869565217 2159.1 947.4193548387096\n"
     ]
    }
   ],
   "source": [
    "print(accepted_norm['citation'].mean(), rejected_norm['citation'].mean(),\n",
    "      accepted_outliers['citation'].mean(), rejected_outliers['citation'].mean())"
   ]
  },
  {
   "cell_type": "code",
   "execution_count": 37,
   "metadata": {},
   "outputs": [
    {
     "data": {
      "application/vnd.plotly.v1+json": {
       "config": {
        "plotlyServerURL": "https://plot.ly"
       },
       "data": [
        {
         "marker": {
          "color": [
           "#84c5fe",
           "#e32626",
           "#02273f",
           "#780448"
          ],
          "line": {
           "color": "rgb(8,48,107)",
           "width": 1.5
          }
         },
         "opacity": 0.6,
         "textfont": {
          "color": "black"
         },
         "textposition": "outside",
         "texttemplate": [
          "152 Papers",
          "184 Papers",
          "20 Papers",
          "31 Papers"
         ],
         "type": "bar",
         "x": [
          "IQR Accepted",
          "IQR Rejected",
          "Outlier Accepted",
          "Outlier Rejected "
         ],
         "xaxis": "x",
         "y": [
          33634,
          6377,
          43182,
          29370
         ],
         "yaxis": "y"
        }
       ],
       "layout": {
        "height": 400,
        "margin": {
         "b": 0,
         "l": 0,
         "r": 0,
         "t": 0
        },
        "plot_bgcolor": "rgb(230, 230,230)",
        "template": {
         "data": {
          "bar": [
           {
            "error_x": {
             "color": "#2a3f5f"
            },
            "error_y": {
             "color": "#2a3f5f"
            },
            "marker": {
             "line": {
              "color": "#E5ECF6",
              "width": 0.5
             },
             "pattern": {
              "fillmode": "overlay",
              "size": 10,
              "solidity": 0.2
             }
            },
            "type": "bar"
           }
          ],
          "barpolar": [
           {
            "marker": {
             "line": {
              "color": "#E5ECF6",
              "width": 0.5
             },
             "pattern": {
              "fillmode": "overlay",
              "size": 10,
              "solidity": 0.2
             }
            },
            "type": "barpolar"
           }
          ],
          "carpet": [
           {
            "aaxis": {
             "endlinecolor": "#2a3f5f",
             "gridcolor": "white",
             "linecolor": "white",
             "minorgridcolor": "white",
             "startlinecolor": "#2a3f5f"
            },
            "baxis": {
             "endlinecolor": "#2a3f5f",
             "gridcolor": "white",
             "linecolor": "white",
             "minorgridcolor": "white",
             "startlinecolor": "#2a3f5f"
            },
            "type": "carpet"
           }
          ],
          "choropleth": [
           {
            "colorbar": {
             "outlinewidth": 0,
             "ticks": ""
            },
            "type": "choropleth"
           }
          ],
          "contour": [
           {
            "colorbar": {
             "outlinewidth": 0,
             "ticks": ""
            },
            "colorscale": [
             [
              0,
              "#0d0887"
             ],
             [
              0.1111111111111111,
              "#46039f"
             ],
             [
              0.2222222222222222,
              "#7201a8"
             ],
             [
              0.3333333333333333,
              "#9c179e"
             ],
             [
              0.4444444444444444,
              "#bd3786"
             ],
             [
              0.5555555555555556,
              "#d8576b"
             ],
             [
              0.6666666666666666,
              "#ed7953"
             ],
             [
              0.7777777777777778,
              "#fb9f3a"
             ],
             [
              0.8888888888888888,
              "#fdca26"
             ],
             [
              1,
              "#f0f921"
             ]
            ],
            "type": "contour"
           }
          ],
          "contourcarpet": [
           {
            "colorbar": {
             "outlinewidth": 0,
             "ticks": ""
            },
            "type": "contourcarpet"
           }
          ],
          "heatmap": [
           {
            "colorbar": {
             "outlinewidth": 0,
             "ticks": ""
            },
            "colorscale": [
             [
              0,
              "#0d0887"
             ],
             [
              0.1111111111111111,
              "#46039f"
             ],
             [
              0.2222222222222222,
              "#7201a8"
             ],
             [
              0.3333333333333333,
              "#9c179e"
             ],
             [
              0.4444444444444444,
              "#bd3786"
             ],
             [
              0.5555555555555556,
              "#d8576b"
             ],
             [
              0.6666666666666666,
              "#ed7953"
             ],
             [
              0.7777777777777778,
              "#fb9f3a"
             ],
             [
              0.8888888888888888,
              "#fdca26"
             ],
             [
              1,
              "#f0f921"
             ]
            ],
            "type": "heatmap"
           }
          ],
          "heatmapgl": [
           {
            "colorbar": {
             "outlinewidth": 0,
             "ticks": ""
            },
            "colorscale": [
             [
              0,
              "#0d0887"
             ],
             [
              0.1111111111111111,
              "#46039f"
             ],
             [
              0.2222222222222222,
              "#7201a8"
             ],
             [
              0.3333333333333333,
              "#9c179e"
             ],
             [
              0.4444444444444444,
              "#bd3786"
             ],
             [
              0.5555555555555556,
              "#d8576b"
             ],
             [
              0.6666666666666666,
              "#ed7953"
             ],
             [
              0.7777777777777778,
              "#fb9f3a"
             ],
             [
              0.8888888888888888,
              "#fdca26"
             ],
             [
              1,
              "#f0f921"
             ]
            ],
            "type": "heatmapgl"
           }
          ],
          "histogram": [
           {
            "marker": {
             "pattern": {
              "fillmode": "overlay",
              "size": 10,
              "solidity": 0.2
             }
            },
            "type": "histogram"
           }
          ],
          "histogram2d": [
           {
            "colorbar": {
             "outlinewidth": 0,
             "ticks": ""
            },
            "colorscale": [
             [
              0,
              "#0d0887"
             ],
             [
              0.1111111111111111,
              "#46039f"
             ],
             [
              0.2222222222222222,
              "#7201a8"
             ],
             [
              0.3333333333333333,
              "#9c179e"
             ],
             [
              0.4444444444444444,
              "#bd3786"
             ],
             [
              0.5555555555555556,
              "#d8576b"
             ],
             [
              0.6666666666666666,
              "#ed7953"
             ],
             [
              0.7777777777777778,
              "#fb9f3a"
             ],
             [
              0.8888888888888888,
              "#fdca26"
             ],
             [
              1,
              "#f0f921"
             ]
            ],
            "type": "histogram2d"
           }
          ],
          "histogram2dcontour": [
           {
            "colorbar": {
             "outlinewidth": 0,
             "ticks": ""
            },
            "colorscale": [
             [
              0,
              "#0d0887"
             ],
             [
              0.1111111111111111,
              "#46039f"
             ],
             [
              0.2222222222222222,
              "#7201a8"
             ],
             [
              0.3333333333333333,
              "#9c179e"
             ],
             [
              0.4444444444444444,
              "#bd3786"
             ],
             [
              0.5555555555555556,
              "#d8576b"
             ],
             [
              0.6666666666666666,
              "#ed7953"
             ],
             [
              0.7777777777777778,
              "#fb9f3a"
             ],
             [
              0.8888888888888888,
              "#fdca26"
             ],
             [
              1,
              "#f0f921"
             ]
            ],
            "type": "histogram2dcontour"
           }
          ],
          "mesh3d": [
           {
            "colorbar": {
             "outlinewidth": 0,
             "ticks": ""
            },
            "type": "mesh3d"
           }
          ],
          "parcoords": [
           {
            "line": {
             "colorbar": {
              "outlinewidth": 0,
              "ticks": ""
             }
            },
            "type": "parcoords"
           }
          ],
          "pie": [
           {
            "automargin": true,
            "type": "pie"
           }
          ],
          "scatter": [
           {
            "fillpattern": {
             "fillmode": "overlay",
             "size": 10,
             "solidity": 0.2
            },
            "type": "scatter"
           }
          ],
          "scatter3d": [
           {
            "line": {
             "colorbar": {
              "outlinewidth": 0,
              "ticks": ""
             }
            },
            "marker": {
             "colorbar": {
              "outlinewidth": 0,
              "ticks": ""
             }
            },
            "type": "scatter3d"
           }
          ],
          "scattercarpet": [
           {
            "marker": {
             "colorbar": {
              "outlinewidth": 0,
              "ticks": ""
             }
            },
            "type": "scattercarpet"
           }
          ],
          "scattergeo": [
           {
            "marker": {
             "colorbar": {
              "outlinewidth": 0,
              "ticks": ""
             }
            },
            "type": "scattergeo"
           }
          ],
          "scattergl": [
           {
            "marker": {
             "colorbar": {
              "outlinewidth": 0,
              "ticks": ""
             }
            },
            "type": "scattergl"
           }
          ],
          "scattermapbox": [
           {
            "marker": {
             "colorbar": {
              "outlinewidth": 0,
              "ticks": ""
             }
            },
            "type": "scattermapbox"
           }
          ],
          "scatterpolar": [
           {
            "marker": {
             "colorbar": {
              "outlinewidth": 0,
              "ticks": ""
             }
            },
            "type": "scatterpolar"
           }
          ],
          "scatterpolargl": [
           {
            "marker": {
             "colorbar": {
              "outlinewidth": 0,
              "ticks": ""
             }
            },
            "type": "scatterpolargl"
           }
          ],
          "scatterternary": [
           {
            "marker": {
             "colorbar": {
              "outlinewidth": 0,
              "ticks": ""
             }
            },
            "type": "scatterternary"
           }
          ],
          "surface": [
           {
            "colorbar": {
             "outlinewidth": 0,
             "ticks": ""
            },
            "colorscale": [
             [
              0,
              "#0d0887"
             ],
             [
              0.1111111111111111,
              "#46039f"
             ],
             [
              0.2222222222222222,
              "#7201a8"
             ],
             [
              0.3333333333333333,
              "#9c179e"
             ],
             [
              0.4444444444444444,
              "#bd3786"
             ],
             [
              0.5555555555555556,
              "#d8576b"
             ],
             [
              0.6666666666666666,
              "#ed7953"
             ],
             [
              0.7777777777777778,
              "#fb9f3a"
             ],
             [
              0.8888888888888888,
              "#fdca26"
             ],
             [
              1,
              "#f0f921"
             ]
            ],
            "type": "surface"
           }
          ],
          "table": [
           {
            "cells": {
             "fill": {
              "color": "#EBF0F8"
             },
             "line": {
              "color": "white"
             }
            },
            "header": {
             "fill": {
              "color": "#C8D4E3"
             },
             "line": {
              "color": "white"
             }
            },
            "type": "table"
           }
          ]
         },
         "layout": {
          "annotationdefaults": {
           "arrowcolor": "#2a3f5f",
           "arrowhead": 0,
           "arrowwidth": 1
          },
          "autotypenumbers": "strict",
          "coloraxis": {
           "colorbar": {
            "outlinewidth": 0,
            "ticks": ""
           }
          },
          "colorscale": {
           "diverging": [
            [
             0,
             "#8e0152"
            ],
            [
             0.1,
             "#c51b7d"
            ],
            [
             0.2,
             "#de77ae"
            ],
            [
             0.3,
             "#f1b6da"
            ],
            [
             0.4,
             "#fde0ef"
            ],
            [
             0.5,
             "#f7f7f7"
            ],
            [
             0.6,
             "#e6f5d0"
            ],
            [
             0.7,
             "#b8e186"
            ],
            [
             0.8,
             "#7fbc41"
            ],
            [
             0.9,
             "#4d9221"
            ],
            [
             1,
             "#276419"
            ]
           ],
           "sequential": [
            [
             0,
             "#0d0887"
            ],
            [
             0.1111111111111111,
             "#46039f"
            ],
            [
             0.2222222222222222,
             "#7201a8"
            ],
            [
             0.3333333333333333,
             "#9c179e"
            ],
            [
             0.4444444444444444,
             "#bd3786"
            ],
            [
             0.5555555555555556,
             "#d8576b"
            ],
            [
             0.6666666666666666,
             "#ed7953"
            ],
            [
             0.7777777777777778,
             "#fb9f3a"
            ],
            [
             0.8888888888888888,
             "#fdca26"
            ],
            [
             1,
             "#f0f921"
            ]
           ],
           "sequentialminus": [
            [
             0,
             "#0d0887"
            ],
            [
             0.1111111111111111,
             "#46039f"
            ],
            [
             0.2222222222222222,
             "#7201a8"
            ],
            [
             0.3333333333333333,
             "#9c179e"
            ],
            [
             0.4444444444444444,
             "#bd3786"
            ],
            [
             0.5555555555555556,
             "#d8576b"
            ],
            [
             0.6666666666666666,
             "#ed7953"
            ],
            [
             0.7777777777777778,
             "#fb9f3a"
            ],
            [
             0.8888888888888888,
             "#fdca26"
            ],
            [
             1,
             "#f0f921"
            ]
           ]
          },
          "colorway": [
           "#636efa",
           "#EF553B",
           "#00cc96",
           "#ab63fa",
           "#FFA15A",
           "#19d3f3",
           "#FF6692",
           "#B6E880",
           "#FF97FF",
           "#FECB52"
          ],
          "font": {
           "color": "#2a3f5f"
          },
          "geo": {
           "bgcolor": "white",
           "lakecolor": "white",
           "landcolor": "#E5ECF6",
           "showlakes": true,
           "showland": true,
           "subunitcolor": "white"
          },
          "hoverlabel": {
           "align": "left"
          },
          "hovermode": "closest",
          "mapbox": {
           "style": "light"
          },
          "paper_bgcolor": "white",
          "plot_bgcolor": "#E5ECF6",
          "polar": {
           "angularaxis": {
            "gridcolor": "white",
            "linecolor": "white",
            "ticks": ""
           },
           "bgcolor": "#E5ECF6",
           "radialaxis": {
            "gridcolor": "white",
            "linecolor": "white",
            "ticks": ""
           }
          },
          "scene": {
           "xaxis": {
            "backgroundcolor": "#E5ECF6",
            "gridcolor": "white",
            "gridwidth": 2,
            "linecolor": "white",
            "showbackground": true,
            "ticks": "",
            "zerolinecolor": "white"
           },
           "yaxis": {
            "backgroundcolor": "#E5ECF6",
            "gridcolor": "white",
            "gridwidth": 2,
            "linecolor": "white",
            "showbackground": true,
            "ticks": "",
            "zerolinecolor": "white"
           },
           "zaxis": {
            "backgroundcolor": "#E5ECF6",
            "gridcolor": "white",
            "gridwidth": 2,
            "linecolor": "white",
            "showbackground": true,
            "ticks": "",
            "zerolinecolor": "white"
           }
          },
          "shapedefaults": {
           "line": {
            "color": "#2a3f5f"
           }
          },
          "ternary": {
           "aaxis": {
            "gridcolor": "white",
            "linecolor": "white",
            "ticks": ""
           },
           "baxis": {
            "gridcolor": "white",
            "linecolor": "white",
            "ticks": ""
           },
           "bgcolor": "#E5ECF6",
           "caxis": {
            "gridcolor": "white",
            "linecolor": "white",
            "ticks": ""
           }
          },
          "title": {
           "x": 0.05
          },
          "xaxis": {
           "automargin": true,
           "gridcolor": "white",
           "linecolor": "white",
           "ticks": "",
           "title": {
            "standoff": 15
           },
           "zerolinecolor": "white",
           "zerolinewidth": 2
          },
          "yaxis": {
           "automargin": true,
           "gridcolor": "white",
           "linecolor": "white",
           "ticks": "",
           "title": {
            "standoff": 15
           },
           "zerolinecolor": "white",
           "zerolinewidth": 2
          }
         }
        },
        "width": 600,
        "xaxis": {
         "anchor": "y",
         "domain": [
          0,
          1
         ]
        },
        "yaxis": {
         "anchor": "x",
         "domain": [
          0,
          1
         ],
         "title": {
          "text": "Citation Sum"
         }
        }
       }
      }
     },
     "metadata": {},
     "output_type": "display_data"
    }
   ],
   "source": [
    "# create a bar plot of citation mean for accepted and rejected papers, and outliers \n",
    "fig = make_subplots(rows=1, cols=1)\n",
    "\n",
    "fig.add_trace(go.Bar(x=['IQR Accepted', 'IQR Rejected', 'Outlier Accepted', 'Outlier Rejected '],\n",
    "                        y=[accepted_norm['citation'].sum(), rejected_norm['citation'].sum(), \n",
    "                            accepted_outliers['citation'].sum(), rejected_outliers['citation'].sum()],marker=dict(color = ['#84c5fe', '#e32626', '#02273f', '#780448'])),\n",
    "                        row=1, col=1)\n",
    "# put alpha on colors\n",
    "fig.update_traces(marker_line_color='rgb(8,48,107)',\n",
    "                    marker_line_width=1.5, opacity=0.6)\n",
    "texts = [ f'{len(accepted_norm)} Papers', f'{len(rejected_norm)} Papers', \n",
    "f'{len(accepted_outliers)} Papers', f'{len(rejected_outliers)} Papers']\n",
    "\n",
    "fig.update_traces(texttemplate = texts, textposition = \"outside\")\n",
    "\n",
    "#change the colour of trace text \n",
    "fig['layout'].update(plot_bgcolor='rgb(230, 230,230)')\n",
    "fig['layout'].update(margin={'l': 0, 'r': 0, 't': 0, 'b': 0})\n",
    "fig.update_traces(textfont_color = 'black')\n",
    "\n",
    "# give title to y axis\n",
    "fig.update_yaxes(title_text=\"Citation Sum\", row=1, col=1)\n",
    "\n",
    "fig.update_layout(height=400, width=600)\n",
    "pio.write_image(fig, 'figures/outliers.pdf', format='pdf')\n",
    "fig.show()\n"
   ]
  },
  {
   "attachments": {},
   "cell_type": "markdown",
   "metadata": {},
   "source": [
    "## Some plots"
   ]
  },
  {
   "cell_type": "code",
   "execution_count": 8,
   "metadata": {},
   "outputs": [
    {
     "name": "stdout",
     "output_type": "stream",
     "text": [
      "Accepted papers:  172\n",
      "Rejected papers:  215\n"
     ]
    }
   ],
   "source": [
    "accept_no = len(df[df.accepted == True])\n",
    "reject_no = len(df[df.accepted == False])\n",
    "\n",
    "print('Accepted papers: ', accept_no)\n",
    "print('Rejected papers: ', reject_no)"
   ]
  },
  {
   "cell_type": "code",
   "execution_count": 15,
   "metadata": {},
   "outputs": [
    {
     "name": "stdout",
     "output_type": "stream",
     "text": [
      "Per paper citations of accepted papers:  446.6046511627907\n",
      "Per paper  citations of rejected papers:  166.26511627906976\n"
     ]
    }
   ],
   "source": [
    "len_cited_accept = len(df[df.accepted == True].citation)\n",
    "len_cited_reject = len(df[df.accepted == False].citation)\n",
    "per_cited_accept = sum(df[df.accepted == True].citation)/len_cited_accept\n",
    "per_cited_reject = sum(df[df.accepted == False].citation)/len_cited_reject\n",
    "\n",
    "print('Per paper citations of accepted papers: ',per_cited_accept)\n",
    "print('Per paper  citations of rejected papers: ',per_cited_reject)\n"
   ]
  },
  {
   "cell_type": "code",
   "execution_count": 14,
   "metadata": {},
   "outputs": [
    {
     "name": "stdout",
     "output_type": "stream",
     "text": [
      "Normalized per paper citations of accepted papers:  221.27631578947367\n",
      "Normalized per paper citations of rejected papers:  34.65760869565217\n"
     ]
    }
   ],
   "source": [
    "len_cited_accept = len(accepted_norm)\n",
    "len_cited_reject = len(rejected_norm)\n",
    "normalized_cited_accept = sum(accepted_norm.citation)/len_cited_accept\n",
    "normalized_cited_reject = sum(rejected_norm.citation)/len_cited_reject\n",
    "\n",
    "print('Normalized per paper citations of accepted papers: ',normalized_cited_accept)\n",
    "print('Normalized per paper citations of rejected papers: ',normalized_cited_reject)"
   ]
  },
  {
   "cell_type": "code",
   "execution_count": 17,
   "metadata": {},
   "outputs": [
    {
     "data": {
      "application/vnd.plotly.v1+json": {
       "config": {
        "plotlyServerURL": "https://plot.ly"
       },
       "data": [
        {
         "box": {
          "visible": true
         },
         "marker": {
          "color": "#84c5fe"
         },
         "meanline": {
          "visible": true
         },
         "points": "all",
         "showlegend": false,
         "type": "violin",
         "xaxis": "x",
         "y": [
          132,
          15,
          1,
          999,
          380,
          264,
          387,
          89,
          67,
          297,
          15,
          173,
          202,
          11,
          28,
          5,
          691,
          188,
          259,
          191,
          76,
          11,
          12,
          343,
          235,
          20,
          43,
          282,
          619,
          472,
          1,
          203,
          63,
          7,
          0,
          239,
          875,
          148,
          405,
          296,
          309,
          94,
          178,
          110,
          98,
          0,
          45,
          650,
          482,
          72,
          242,
          722,
          358,
          283,
          2,
          202,
          559,
          1110,
          15,
          140,
          165,
          278,
          37,
          75,
          143,
          37,
          26,
          117,
          25,
          807,
          91,
          14,
          305,
          35,
          473,
          569,
          62,
          141,
          1,
          370,
          126,
          224,
          430,
          138,
          49,
          988,
          62,
          121,
          82,
          702,
          240,
          188,
          76,
          203,
          1,
          363,
          564,
          187,
          37,
          494,
          143,
          331,
          148,
          149,
          262,
          1,
          353,
          9,
          4,
          197,
          28,
          39,
          120,
          39,
          34,
          91,
          421,
          6,
          6,
          308,
          79,
          694,
          35,
          53,
          16,
          728,
          191,
          10,
          353,
          76,
          37,
          203,
          253,
          766,
          6,
          96,
          476,
          107,
          28,
          346,
          284,
          58,
          94,
          11,
          712,
          89,
          851,
          618,
          30,
          40,
          109,
          35
         ],
         "yaxis": "y"
        },
        {
         "box": {
          "visible": true
         },
         "marker": {
          "color": "#b94e4e"
         },
         "meanline": {
          "visible": true
         },
         "points": "all",
         "showlegend": false,
         "type": "violin",
         "xaxis": "x",
         "y": [
          184,
          120,
          15,
          15,
          127,
          10,
          15,
          14,
          155,
          20,
          2,
          58,
          7,
          32,
          218,
          21,
          26,
          166,
          8,
          93,
          105,
          0,
          6,
          15,
          0,
          74,
          18,
          1,
          154,
          6,
          66,
          0,
          13,
          1,
          0,
          0,
          0,
          7,
          181,
          34,
          48,
          3,
          0,
          80,
          0,
          37,
          224,
          28,
          8,
          3,
          14,
          19,
          1,
          19,
          7,
          6,
          13,
          13,
          3,
          18,
          0,
          44,
          3,
          29,
          61,
          4,
          6,
          2,
          1,
          3,
          0,
          12,
          42,
          3,
          7,
          2,
          6,
          106,
          46,
          96,
          0,
          15,
          24,
          10,
          4,
          89,
          77,
          101,
          2,
          0,
          4,
          6,
          0,
          17,
          32,
          38,
          14,
          0,
          34,
          157,
          54,
          3,
          6,
          3,
          5,
          0,
          6,
          22,
          8,
          1,
          13,
          80,
          17,
          5,
          2,
          0,
          146,
          40,
          159,
          15,
          29,
          2,
          2,
          0,
          1,
          28,
          10,
          7,
          0,
          6,
          4,
          15,
          74,
          0,
          10,
          0,
          0,
          40,
          40,
          115,
          0,
          9,
          129,
          24,
          38,
          15,
          20,
          54,
          0,
          166,
          20,
          169,
          142,
          57,
          7,
          69,
          12,
          119,
          39,
          0,
          6,
          26,
          3,
          113,
          109,
          9,
          118,
          20,
          97,
          38,
          0,
          0,
          63,
          14,
          15,
          9,
          2,
          17,
          10,
          3,
          4,
          13,
          0,
          3
         ],
         "yaxis": "y"
        },
        {
         "box": {
          "visible": true
         },
         "marker": {
          "color": "#84c5fe"
         },
         "meanline": {
          "visible": true
         },
         "name": "IQR Accepted",
         "points": "all",
         "type": "violin",
         "xaxis": "x2",
         "y": [
          8.333333333333334,
          8,
          7.666666666666667,
          7.666666666666667,
          7,
          7.666666666666667,
          8,
          8.333333333333334,
          7.333333333333333,
          7.333333333333333,
          6.333333333333333,
          6.666666666666667,
          6.333333333333333,
          6,
          5.666666666666667,
          6.666666666666667,
          7.25,
          7,
          7,
          5.666666666666667,
          5.666666666666667,
          7,
          7.333333333333333,
          7,
          7,
          6.666666666666667,
          7,
          6.666666666666667,
          8,
          6.666666666666667,
          7,
          7,
          6.666666666666667,
          7,
          6.666666666666667,
          6.666666666666667,
          5.6,
          7,
          7.333333333333333,
          7,
          6.666666666666667,
          6.666666666666667,
          7.666666666666667,
          7.666666666666667,
          7.666666666666667,
          6.333333333333333,
          6.333333333333333,
          8,
          8.333333333333334,
          7.75,
          6.333333333333333,
          6.666666666666667,
          8,
          7.666666666666667,
          6.666666666666667,
          6.5,
          7.25,
          6.666666666666667,
          8,
          7.333333333333333,
          6.666666666666667,
          7.5,
          7,
          5.666666666666667,
          6.666666666666667,
          7,
          7.333333333333333,
          7,
          7,
          7.666666666666667,
          7,
          7,
          6.333333333333333,
          6.333333333333333,
          7,
          7,
          7.333333333333333,
          6.333333333333333,
          7.666666666666667,
          7.333333333333333,
          6.333333333333333,
          6.666666666666667,
          6.333333333333333,
          6.666666666666667,
          6,
          6.333333333333333,
          6.666666666666667,
          6,
          7.333333333333333,
          6,
          7.333333333333333,
          5.666666666666667,
          7.666666666666667,
          7,
          7.333333333333333,
          7.333333333333333,
          7.5,
          6.666666666666667,
          8,
          5.666666666666667,
          7,
          6.333333333333333,
          7,
          6.333333333333333,
          6.666666666666667,
          6.666666666666667,
          7,
          6.666666666666667,
          8.333333333333334,
          7.333333333333333,
          6.666666666666667,
          6.666666666666667,
          6.333333333333333,
          6,
          6.333333333333333,
          6.666666666666667,
          8,
          6,
          7,
          7,
          7.5,
          8.333333333333334,
          7,
          6.333333333333333,
          6.666666666666667,
          7.333333333333333,
          5.666666666666667,
          6.666666666666667,
          6,
          6.75,
          7.333333333333333,
          7,
          8.333333333333334,
          6.333333333333333,
          6.333333333333333,
          6.666666666666667,
          7.666666666666667,
          6.666666666666667,
          7.666666666666667,
          7.333333333333333,
          7,
          7.333333333333333,
          6.333333333333333,
          5,
          6.333333333333333,
          7,
          7.333333333333333,
          6.333333333333333,
          7,
          7,
          7,
          7.666666666666667
         ],
         "yaxis": "y2"
        },
        {
         "box": {
          "visible": true
         },
         "marker": {
          "color": "#b94e4e"
         },
         "meanline": {
          "visible": true
         },
         "name": "IQR Rejected",
         "points": "all",
         "type": "violin",
         "xaxis": "x2",
         "y": [
          5.666666666666667,
          5.333333333333333,
          6.333333333333333,
          4.333333333333333,
          6,
          5,
          6,
          4.333333333333333,
          5.75,
          6,
          5.333333333333333,
          6,
          5.333333333333333,
          5.333333333333333,
          6.666666666666667,
          4.666666666666667,
          5.666666666666667,
          4.666666666666667,
          5.4,
          5.333333333333333,
          5.666666666666667,
          4,
          5,
          5,
          5.333333333333333,
          6,
          6.25,
          5.666666666666667,
          5.333333333333333,
          5.25,
          5.333333333333333,
          4.333333333333333,
          5.333333333333333,
          4.333333333333333,
          4.333333333333333,
          5,
          4,
          5,
          5.666666666666667,
          4,
          5,
          4,
          4,
          4,
          4,
          5.333333333333333,
          5.333333333333333,
          4.666666666666667,
          4.333333333333333,
          5,
          5.5,
          4.666666666666667,
          4,
          5.333333333333333,
          4,
          5.75,
          5.666666666666667,
          5,
          5.75,
          6,
          5,
          4.5,
          4.666666666666667,
          4,
          4,
          4.5,
          4.666666666666667,
          5,
          4.333333333333333,
          4.666666666666667,
          5.333333333333333,
          5.666666666666667,
          4.333333333333333,
          4,
          4,
          4.333333333333333,
          6.333333333333333,
          5.333333333333333,
          6.25,
          4.333333333333333,
          6,
          6,
          4.333333333333333,
          5.333333333333333,
          5.666666666666667,
          6,
          4.333333333333333,
          5.333333333333333,
          4.666666666666667,
          5,
          4.333333333333333,
          6.333333333333333,
          5,
          4.666666666666667,
          5.333333333333333,
          5.666666666666667,
          5,
          4,
          6,
          4.333333333333333,
          5.333333333333333,
          4.333333333333333,
          5.75,
          6,
          4.333333333333333,
          5.5,
          5,
          5.333333333333333,
          4.333333333333333,
          5.666666666666667,
          5.333333333333333,
          4.666666666666667,
          4.8,
          5.333333333333333,
          4,
          4.666666666666667,
          6.333333333333333,
          5.333333333333333,
          5.5,
          5,
          5.666666666666667,
          4.333333333333333,
          4.333333333333333,
          5.333333333333333,
          5.333333333333333,
          5.333333333333333,
          5,
          5.666666666666667,
          5.25,
          4,
          5.333333333333333,
          4.333333333333333,
          5.666666666666667,
          4.333333333333333,
          4.666666666666667,
          5,
          4,
          4,
          5.666666666666667,
          6,
          4.666666666666667,
          4,
          5.333333333333333,
          5.25,
          4.5,
          5.333333333333333,
          4,
          4.333333333333333,
          4.333333333333333,
          5,
          6,
          6,
          5.666666666666667,
          4.333333333333333,
          6.333333333333333,
          5,
          6,
          5.666666666666667,
          4.666666666666667,
          4.666666666666667,
          5.25,
          5.333333333333333,
          4,
          6,
          5.666666666666667,
          4.333333333333333,
          6,
          6,
          4,
          4.5,
          6,
          4.666666666666667,
          4.666666666666667,
          4.333333333333333,
          5.666666666666667,
          5.666666666666667,
          4.333333333333333,
          5.333333333333333,
          5,
          5.333333333333333,
          4.666666666666667,
          4,
          4.666666666666667,
          5
         ],
         "yaxis": "y2"
        }
       ],
       "layout": {
        "height": 500,
        "margin": {
         "b": 0,
         "l": 0,
         "r": 0,
         "t": 0
        },
        "plot_bgcolor": "rgb(230, 230,230)",
        "template": {
         "data": {
          "bar": [
           {
            "error_x": {
             "color": "#2a3f5f"
            },
            "error_y": {
             "color": "#2a3f5f"
            },
            "marker": {
             "line": {
              "color": "#E5ECF6",
              "width": 0.5
             },
             "pattern": {
              "fillmode": "overlay",
              "size": 10,
              "solidity": 0.2
             }
            },
            "type": "bar"
           }
          ],
          "barpolar": [
           {
            "marker": {
             "line": {
              "color": "#E5ECF6",
              "width": 0.5
             },
             "pattern": {
              "fillmode": "overlay",
              "size": 10,
              "solidity": 0.2
             }
            },
            "type": "barpolar"
           }
          ],
          "carpet": [
           {
            "aaxis": {
             "endlinecolor": "#2a3f5f",
             "gridcolor": "white",
             "linecolor": "white",
             "minorgridcolor": "white",
             "startlinecolor": "#2a3f5f"
            },
            "baxis": {
             "endlinecolor": "#2a3f5f",
             "gridcolor": "white",
             "linecolor": "white",
             "minorgridcolor": "white",
             "startlinecolor": "#2a3f5f"
            },
            "type": "carpet"
           }
          ],
          "choropleth": [
           {
            "colorbar": {
             "outlinewidth": 0,
             "ticks": ""
            },
            "type": "choropleth"
           }
          ],
          "contour": [
           {
            "colorbar": {
             "outlinewidth": 0,
             "ticks": ""
            },
            "colorscale": [
             [
              0,
              "#0d0887"
             ],
             [
              0.1111111111111111,
              "#46039f"
             ],
             [
              0.2222222222222222,
              "#7201a8"
             ],
             [
              0.3333333333333333,
              "#9c179e"
             ],
             [
              0.4444444444444444,
              "#bd3786"
             ],
             [
              0.5555555555555556,
              "#d8576b"
             ],
             [
              0.6666666666666666,
              "#ed7953"
             ],
             [
              0.7777777777777778,
              "#fb9f3a"
             ],
             [
              0.8888888888888888,
              "#fdca26"
             ],
             [
              1,
              "#f0f921"
             ]
            ],
            "type": "contour"
           }
          ],
          "contourcarpet": [
           {
            "colorbar": {
             "outlinewidth": 0,
             "ticks": ""
            },
            "type": "contourcarpet"
           }
          ],
          "heatmap": [
           {
            "colorbar": {
             "outlinewidth": 0,
             "ticks": ""
            },
            "colorscale": [
             [
              0,
              "#0d0887"
             ],
             [
              0.1111111111111111,
              "#46039f"
             ],
             [
              0.2222222222222222,
              "#7201a8"
             ],
             [
              0.3333333333333333,
              "#9c179e"
             ],
             [
              0.4444444444444444,
              "#bd3786"
             ],
             [
              0.5555555555555556,
              "#d8576b"
             ],
             [
              0.6666666666666666,
              "#ed7953"
             ],
             [
              0.7777777777777778,
              "#fb9f3a"
             ],
             [
              0.8888888888888888,
              "#fdca26"
             ],
             [
              1,
              "#f0f921"
             ]
            ],
            "type": "heatmap"
           }
          ],
          "heatmapgl": [
           {
            "colorbar": {
             "outlinewidth": 0,
             "ticks": ""
            },
            "colorscale": [
             [
              0,
              "#0d0887"
             ],
             [
              0.1111111111111111,
              "#46039f"
             ],
             [
              0.2222222222222222,
              "#7201a8"
             ],
             [
              0.3333333333333333,
              "#9c179e"
             ],
             [
              0.4444444444444444,
              "#bd3786"
             ],
             [
              0.5555555555555556,
              "#d8576b"
             ],
             [
              0.6666666666666666,
              "#ed7953"
             ],
             [
              0.7777777777777778,
              "#fb9f3a"
             ],
             [
              0.8888888888888888,
              "#fdca26"
             ],
             [
              1,
              "#f0f921"
             ]
            ],
            "type": "heatmapgl"
           }
          ],
          "histogram": [
           {
            "marker": {
             "pattern": {
              "fillmode": "overlay",
              "size": 10,
              "solidity": 0.2
             }
            },
            "type": "histogram"
           }
          ],
          "histogram2d": [
           {
            "colorbar": {
             "outlinewidth": 0,
             "ticks": ""
            },
            "colorscale": [
             [
              0,
              "#0d0887"
             ],
             [
              0.1111111111111111,
              "#46039f"
             ],
             [
              0.2222222222222222,
              "#7201a8"
             ],
             [
              0.3333333333333333,
              "#9c179e"
             ],
             [
              0.4444444444444444,
              "#bd3786"
             ],
             [
              0.5555555555555556,
              "#d8576b"
             ],
             [
              0.6666666666666666,
              "#ed7953"
             ],
             [
              0.7777777777777778,
              "#fb9f3a"
             ],
             [
              0.8888888888888888,
              "#fdca26"
             ],
             [
              1,
              "#f0f921"
             ]
            ],
            "type": "histogram2d"
           }
          ],
          "histogram2dcontour": [
           {
            "colorbar": {
             "outlinewidth": 0,
             "ticks": ""
            },
            "colorscale": [
             [
              0,
              "#0d0887"
             ],
             [
              0.1111111111111111,
              "#46039f"
             ],
             [
              0.2222222222222222,
              "#7201a8"
             ],
             [
              0.3333333333333333,
              "#9c179e"
             ],
             [
              0.4444444444444444,
              "#bd3786"
             ],
             [
              0.5555555555555556,
              "#d8576b"
             ],
             [
              0.6666666666666666,
              "#ed7953"
             ],
             [
              0.7777777777777778,
              "#fb9f3a"
             ],
             [
              0.8888888888888888,
              "#fdca26"
             ],
             [
              1,
              "#f0f921"
             ]
            ],
            "type": "histogram2dcontour"
           }
          ],
          "mesh3d": [
           {
            "colorbar": {
             "outlinewidth": 0,
             "ticks": ""
            },
            "type": "mesh3d"
           }
          ],
          "parcoords": [
           {
            "line": {
             "colorbar": {
              "outlinewidth": 0,
              "ticks": ""
             }
            },
            "type": "parcoords"
           }
          ],
          "pie": [
           {
            "automargin": true,
            "type": "pie"
           }
          ],
          "scatter": [
           {
            "fillpattern": {
             "fillmode": "overlay",
             "size": 10,
             "solidity": 0.2
            },
            "type": "scatter"
           }
          ],
          "scatter3d": [
           {
            "line": {
             "colorbar": {
              "outlinewidth": 0,
              "ticks": ""
             }
            },
            "marker": {
             "colorbar": {
              "outlinewidth": 0,
              "ticks": ""
             }
            },
            "type": "scatter3d"
           }
          ],
          "scattercarpet": [
           {
            "marker": {
             "colorbar": {
              "outlinewidth": 0,
              "ticks": ""
             }
            },
            "type": "scattercarpet"
           }
          ],
          "scattergeo": [
           {
            "marker": {
             "colorbar": {
              "outlinewidth": 0,
              "ticks": ""
             }
            },
            "type": "scattergeo"
           }
          ],
          "scattergl": [
           {
            "marker": {
             "colorbar": {
              "outlinewidth": 0,
              "ticks": ""
             }
            },
            "type": "scattergl"
           }
          ],
          "scattermapbox": [
           {
            "marker": {
             "colorbar": {
              "outlinewidth": 0,
              "ticks": ""
             }
            },
            "type": "scattermapbox"
           }
          ],
          "scatterpolar": [
           {
            "marker": {
             "colorbar": {
              "outlinewidth": 0,
              "ticks": ""
             }
            },
            "type": "scatterpolar"
           }
          ],
          "scatterpolargl": [
           {
            "marker": {
             "colorbar": {
              "outlinewidth": 0,
              "ticks": ""
             }
            },
            "type": "scatterpolargl"
           }
          ],
          "scatterternary": [
           {
            "marker": {
             "colorbar": {
              "outlinewidth": 0,
              "ticks": ""
             }
            },
            "type": "scatterternary"
           }
          ],
          "surface": [
           {
            "colorbar": {
             "outlinewidth": 0,
             "ticks": ""
            },
            "colorscale": [
             [
              0,
              "#0d0887"
             ],
             [
              0.1111111111111111,
              "#46039f"
             ],
             [
              0.2222222222222222,
              "#7201a8"
             ],
             [
              0.3333333333333333,
              "#9c179e"
             ],
             [
              0.4444444444444444,
              "#bd3786"
             ],
             [
              0.5555555555555556,
              "#d8576b"
             ],
             [
              0.6666666666666666,
              "#ed7953"
             ],
             [
              0.7777777777777778,
              "#fb9f3a"
             ],
             [
              0.8888888888888888,
              "#fdca26"
             ],
             [
              1,
              "#f0f921"
             ]
            ],
            "type": "surface"
           }
          ],
          "table": [
           {
            "cells": {
             "fill": {
              "color": "#EBF0F8"
             },
             "line": {
              "color": "white"
             }
            },
            "header": {
             "fill": {
              "color": "#C8D4E3"
             },
             "line": {
              "color": "white"
             }
            },
            "type": "table"
           }
          ]
         },
         "layout": {
          "annotationdefaults": {
           "arrowcolor": "#2a3f5f",
           "arrowhead": 0,
           "arrowwidth": 1
          },
          "autotypenumbers": "strict",
          "coloraxis": {
           "colorbar": {
            "outlinewidth": 0,
            "ticks": ""
           }
          },
          "colorscale": {
           "diverging": [
            [
             0,
             "#8e0152"
            ],
            [
             0.1,
             "#c51b7d"
            ],
            [
             0.2,
             "#de77ae"
            ],
            [
             0.3,
             "#f1b6da"
            ],
            [
             0.4,
             "#fde0ef"
            ],
            [
             0.5,
             "#f7f7f7"
            ],
            [
             0.6,
             "#e6f5d0"
            ],
            [
             0.7,
             "#b8e186"
            ],
            [
             0.8,
             "#7fbc41"
            ],
            [
             0.9,
             "#4d9221"
            ],
            [
             1,
             "#276419"
            ]
           ],
           "sequential": [
            [
             0,
             "#0d0887"
            ],
            [
             0.1111111111111111,
             "#46039f"
            ],
            [
             0.2222222222222222,
             "#7201a8"
            ],
            [
             0.3333333333333333,
             "#9c179e"
            ],
            [
             0.4444444444444444,
             "#bd3786"
            ],
            [
             0.5555555555555556,
             "#d8576b"
            ],
            [
             0.6666666666666666,
             "#ed7953"
            ],
            [
             0.7777777777777778,
             "#fb9f3a"
            ],
            [
             0.8888888888888888,
             "#fdca26"
            ],
            [
             1,
             "#f0f921"
            ]
           ],
           "sequentialminus": [
            [
             0,
             "#0d0887"
            ],
            [
             0.1111111111111111,
             "#46039f"
            ],
            [
             0.2222222222222222,
             "#7201a8"
            ],
            [
             0.3333333333333333,
             "#9c179e"
            ],
            [
             0.4444444444444444,
             "#bd3786"
            ],
            [
             0.5555555555555556,
             "#d8576b"
            ],
            [
             0.6666666666666666,
             "#ed7953"
            ],
            [
             0.7777777777777778,
             "#fb9f3a"
            ],
            [
             0.8888888888888888,
             "#fdca26"
            ],
            [
             1,
             "#f0f921"
            ]
           ]
          },
          "colorway": [
           "#636efa",
           "#EF553B",
           "#00cc96",
           "#ab63fa",
           "#FFA15A",
           "#19d3f3",
           "#FF6692",
           "#B6E880",
           "#FF97FF",
           "#FECB52"
          ],
          "font": {
           "color": "#2a3f5f"
          },
          "geo": {
           "bgcolor": "white",
           "lakecolor": "white",
           "landcolor": "#E5ECF6",
           "showlakes": true,
           "showland": true,
           "subunitcolor": "white"
          },
          "hoverlabel": {
           "align": "left"
          },
          "hovermode": "closest",
          "mapbox": {
           "style": "light"
          },
          "paper_bgcolor": "white",
          "plot_bgcolor": "#E5ECF6",
          "polar": {
           "angularaxis": {
            "gridcolor": "white",
            "linecolor": "white",
            "ticks": ""
           },
           "bgcolor": "#E5ECF6",
           "radialaxis": {
            "gridcolor": "white",
            "linecolor": "white",
            "ticks": ""
           }
          },
          "scene": {
           "xaxis": {
            "backgroundcolor": "#E5ECF6",
            "gridcolor": "white",
            "gridwidth": 2,
            "linecolor": "white",
            "showbackground": true,
            "ticks": "",
            "zerolinecolor": "white"
           },
           "yaxis": {
            "backgroundcolor": "#E5ECF6",
            "gridcolor": "white",
            "gridwidth": 2,
            "linecolor": "white",
            "showbackground": true,
            "ticks": "",
            "zerolinecolor": "white"
           },
           "zaxis": {
            "backgroundcolor": "#E5ECF6",
            "gridcolor": "white",
            "gridwidth": 2,
            "linecolor": "white",
            "showbackground": true,
            "ticks": "",
            "zerolinecolor": "white"
           }
          },
          "shapedefaults": {
           "line": {
            "color": "#2a3f5f"
           }
          },
          "ternary": {
           "aaxis": {
            "gridcolor": "white",
            "linecolor": "white",
            "ticks": ""
           },
           "baxis": {
            "gridcolor": "white",
            "linecolor": "white",
            "ticks": ""
           },
           "bgcolor": "#E5ECF6",
           "caxis": {
            "gridcolor": "white",
            "linecolor": "white",
            "ticks": ""
           }
          },
          "title": {
           "x": 0.05
          },
          "xaxis": {
           "automargin": true,
           "gridcolor": "white",
           "linecolor": "white",
           "ticks": "",
           "title": {
            "standoff": 15
           },
           "zerolinecolor": "white",
           "zerolinewidth": 2
          },
          "yaxis": {
           "automargin": true,
           "gridcolor": "white",
           "linecolor": "white",
           "ticks": "",
           "title": {
            "standoff": 15
           },
           "zerolinecolor": "white",
           "zerolinewidth": 2
          }
         }
        },
        "width": 700,
        "xaxis": {
         "anchor": "y",
         "domain": [
          0,
          0.45
         ],
         "showticklabels": false,
         "title": {
          "text": "Number of Citations"
         }
        },
        "xaxis2": {
         "anchor": "y2",
         "domain": [
          0.55,
          1
         ],
         "showticklabels": false,
         "title": {
          "text": "Recommendation Scores"
         }
        },
        "yaxis": {
         "anchor": "x",
         "domain": [
          0,
          1
         ],
         "range": [
          -150,
          1400
         ]
        },
        "yaxis2": {
         "anchor": "x2",
         "domain": [
          0,
          1
         ],
         "range": [
          3,
          9
         ]
        }
       }
      }
     },
     "metadata": {},
     "output_type": "display_data"
    }
   ],
   "source": [
    "fig = make_subplots(rows=1, cols=2)\n",
    "\n",
    "# do not show tick\n",
    "fig.update_xaxes(showticklabels=False)\n",
    "trace1 = go.Violin(y=accepted_norm.scores,name = 'IQR Accepted' ,box_visible=True, meanline_visible=True, points= 'all', marker=dict(color='#84c5fe'))\n",
    "trace2 = go.Violin(y=rejected_norm.scores,name= 'IQR Rejected' ,box_visible=True, meanline_visible=True,  points= 'all',marker=dict(color='#b94e4e'))\n",
    "\n",
    "\n",
    "trace5 = go.Violin(y=accepted_norm.citation, box_visible=True, meanline_visible=True, points= 'all', marker=dict(color='#84c5fe'),showlegend= False,)\n",
    "trace6 = go.Violin(y=rejected_norm.citation, box_visible=True, meanline_visible=True,  points= 'all',marker=dict(color='#b94e4e'),showlegend= False)\n",
    "\n",
    "fig.add_trace(trace5, row=1, col=1)\n",
    "fig.add_trace(trace6, row=1, col=1)\n",
    "fig.add_trace(trace1, row=1, col=2)\n",
    "fig.add_trace(trace2, row=1, col=2)\n",
    "\n",
    "#give title to col 1 by using x axis\n",
    "\n",
    "fig.update_xaxes(title_text=\"Number of Citations\", row=1, col=1)\n",
    "\n",
    "fig.update_xaxes(title_text=\"Recommendation Scores\", row=1, col=2)\n",
    "\n",
    "\n",
    "#increase numbers in y axis for violin plot\n",
    "\n",
    "fig['layout']['yaxis'].update(range=[-150, 1400])\n",
    "\n",
    "fig['layout']['yaxis2'].update(range=[3, 9])\n",
    "# make plot taller\n",
    "fig['layout'].update(height=500, width=700)\n",
    "fig['layout'].update(margin={'l': 0, 'r': 0, 't': 0, 'b': 0})\n",
    "# make background gray\n",
    "fig['layout'].update(plot_bgcolor='rgb(230, 230,230)')\n",
    "\n",
    "\n",
    "\n",
    "pio.write_image(fig, 'figures/violin.pdf', format='pdf', width=900, height=400)\n",
    "\n",
    "fig.show()"
   ]
  },
  {
   "attachments": {},
   "cell_type": "markdown",
   "metadata": {},
   "source": [
    "# Score vs Citation"
   ]
  },
  {
   "cell_type": "code",
   "execution_count": 23,
   "metadata": {},
   "outputs": [
    {
     "data": {
      "application/vnd.plotly.v1+json": {
       "config": {
        "plotlyServerURL": "https://plot.ly"
       },
       "data": [
        {
         "coloraxis": "coloraxis",
         "colorscale": [
          [
           0,
           "rgb(255,255,217)"
          ],
          [
           0.125,
           "rgb(237,248,177)"
          ],
          [
           0.25,
           "rgb(199,233,180)"
          ],
          [
           0.375,
           "rgb(127,205,187)"
          ],
          [
           0.5,
           "rgb(65,182,196)"
          ],
          [
           0.625,
           "rgb(29,145,192)"
          ],
          [
           0.75,
           "rgb(34,94,168)"
          ],
          [
           0.875,
           "rgb(37,52,148)"
          ],
          [
           1,
           "rgb(8,29,88)"
          ]
         ],
         "nbinsx": 8,
         "nbinsy": 15,
         "type": "histogram2d",
         "x": [
          8.333333333333334,
          8,
          7.666666666666667,
          7.666666666666667,
          7,
          7.666666666666667,
          8,
          8.333333333333334,
          7.333333333333333,
          7.333333333333333,
          6.333333333333333,
          6.666666666666667,
          6.333333333333333,
          6,
          5.666666666666667,
          6.666666666666667,
          7.25,
          7,
          7,
          5.666666666666667,
          5.666666666666667,
          7,
          7.333333333333333,
          7,
          7,
          6.666666666666667,
          7,
          6.666666666666667,
          8,
          6.666666666666667,
          7,
          7,
          6.666666666666667,
          7,
          6.666666666666667,
          6.666666666666667,
          5.6,
          7,
          7.333333333333333,
          7,
          6.666666666666667,
          6.666666666666667,
          7.666666666666667,
          7.666666666666667,
          7.666666666666667,
          6.333333333333333,
          6.333333333333333,
          8,
          8.333333333333334,
          7.75,
          6.333333333333333,
          6.666666666666667,
          8,
          7.666666666666667,
          6.666666666666667,
          6.5,
          7.25,
          6.666666666666667,
          8,
          7.333333333333333,
          6.666666666666667,
          7.5,
          7,
          5.666666666666667,
          6.666666666666667,
          7,
          7.333333333333333,
          7,
          7,
          7.666666666666667,
          7,
          7,
          6.333333333333333,
          6.333333333333333,
          7,
          7,
          7.333333333333333,
          6.333333333333333,
          7.666666666666667,
          7.333333333333333,
          6.333333333333333,
          6.666666666666667,
          6.333333333333333,
          6.666666666666667,
          6,
          6.333333333333333,
          6.666666666666667,
          6,
          7.333333333333333,
          6,
          7.333333333333333,
          5.666666666666667,
          7.666666666666667,
          7,
          7.333333333333333,
          7.333333333333333,
          7.5,
          6.666666666666667,
          8,
          5.666666666666667,
          7,
          6.333333333333333,
          7,
          6.333333333333333,
          6.666666666666667,
          6.666666666666667,
          7,
          6.666666666666667,
          8.333333333333334,
          7.333333333333333,
          6.666666666666667,
          6.666666666666667,
          6.333333333333333,
          6,
          6.333333333333333,
          6.666666666666667,
          8,
          6,
          7,
          7,
          7.5,
          8.333333333333334,
          7,
          6.333333333333333,
          6.666666666666667,
          7.333333333333333,
          5.666666666666667,
          6.666666666666667,
          6,
          6.75,
          7.333333333333333,
          7,
          8.333333333333334,
          6.333333333333333,
          6.333333333333333,
          6.666666666666667,
          7.666666666666667,
          6.666666666666667,
          7.666666666666667,
          7.333333333333333,
          7,
          7.333333333333333,
          6.333333333333333,
          5,
          6.333333333333333,
          7,
          7.333333333333333,
          6.333333333333333,
          7,
          7,
          7,
          7.666666666666667
         ],
         "xaxis": "x",
         "y": [
          132,
          15,
          1,
          999,
          380,
          264,
          387,
          89,
          67,
          297,
          15,
          173,
          202,
          11,
          28,
          5,
          691,
          188,
          259,
          191,
          76,
          11,
          12,
          343,
          235,
          20,
          43,
          282,
          619,
          472,
          1,
          203,
          63,
          7,
          0,
          239,
          875,
          148,
          405,
          296,
          309,
          94,
          178,
          110,
          98,
          0,
          45,
          650,
          482,
          72,
          242,
          722,
          358,
          283,
          2,
          202,
          559,
          1110,
          15,
          140,
          165,
          278,
          37,
          75,
          143,
          37,
          26,
          117,
          25,
          807,
          91,
          14,
          305,
          35,
          473,
          569,
          62,
          141,
          1,
          370,
          126,
          224,
          430,
          138,
          49,
          988,
          62,
          121,
          82,
          702,
          240,
          188,
          76,
          203,
          1,
          363,
          564,
          187,
          37,
          494,
          143,
          331,
          148,
          149,
          262,
          1,
          353,
          9,
          4,
          197,
          28,
          39,
          120,
          39,
          34,
          91,
          421,
          6,
          6,
          308,
          79,
          694,
          35,
          53,
          16,
          728,
          191,
          10,
          353,
          76,
          37,
          203,
          253,
          766,
          6,
          96,
          476,
          107,
          28,
          346,
          284,
          58,
          94,
          11,
          712,
          89,
          851,
          618,
          30,
          40,
          109,
          35
         ],
         "yaxis": "y"
        },
        {
         "coloraxis": "coloraxis",
         "nbinsx": 6,
         "nbinsy": 15,
         "type": "histogram2d",
         "x": [
          5.666666666666667,
          5.333333333333333,
          6.333333333333333,
          4.333333333333333,
          6,
          5,
          6,
          4.333333333333333,
          5.75,
          6,
          5.333333333333333,
          6,
          5.333333333333333,
          5.333333333333333,
          6.666666666666667,
          4.666666666666667,
          5.666666666666667,
          4.666666666666667,
          5.4,
          5.333333333333333,
          5.666666666666667,
          4,
          5,
          5,
          5.333333333333333,
          6,
          6.25,
          5.666666666666667,
          5.333333333333333,
          5.25,
          5.333333333333333,
          4.333333333333333,
          5.333333333333333,
          4.333333333333333,
          4.333333333333333,
          5,
          4,
          5,
          5.666666666666667,
          4,
          5,
          4,
          4,
          4,
          4,
          5.333333333333333,
          5.333333333333333,
          4.666666666666667,
          4.333333333333333,
          5,
          5.5,
          4.666666666666667,
          4,
          5.333333333333333,
          4,
          5.75,
          5.666666666666667,
          5,
          5.75,
          6,
          5,
          4.5,
          4.666666666666667,
          4,
          4,
          4.5,
          4.666666666666667,
          5,
          4.333333333333333,
          4.666666666666667,
          5.333333333333333,
          5.666666666666667,
          4.333333333333333,
          4,
          4,
          4.333333333333333,
          6.333333333333333,
          5.333333333333333,
          6.25,
          4.333333333333333,
          6,
          6,
          4.333333333333333,
          5.333333333333333,
          5.666666666666667,
          6,
          4.333333333333333,
          5.333333333333333,
          4.666666666666667,
          5,
          4.333333333333333,
          6.333333333333333,
          5,
          4.666666666666667,
          5.333333333333333,
          5.666666666666667,
          5,
          4,
          6,
          4.333333333333333,
          5.333333333333333,
          4.333333333333333,
          5.75,
          6,
          4.333333333333333,
          5.5,
          5,
          5.333333333333333,
          4.333333333333333,
          5.666666666666667,
          5.333333333333333,
          4.666666666666667,
          4.8,
          5.333333333333333,
          4,
          4.666666666666667,
          6.333333333333333,
          5.333333333333333,
          5.5,
          5,
          5.666666666666667,
          4.333333333333333,
          4.333333333333333,
          5.333333333333333,
          5.333333333333333,
          5.333333333333333,
          5,
          5.666666666666667,
          5.25,
          4,
          5.333333333333333,
          4.333333333333333,
          5.666666666666667,
          4.333333333333333,
          4.666666666666667,
          5,
          4,
          4,
          5.666666666666667,
          6,
          4.666666666666667,
          4,
          5.333333333333333,
          5.25,
          4.5,
          5.333333333333333,
          4,
          4.333333333333333,
          4.333333333333333,
          5,
          6,
          6,
          5.666666666666667,
          4.333333333333333,
          6.333333333333333,
          5,
          6,
          5.666666666666667,
          4.666666666666667,
          4.666666666666667,
          5.25,
          5.333333333333333,
          4,
          6,
          5.666666666666667,
          4.333333333333333,
          6,
          6,
          4,
          4.5,
          6,
          4.666666666666667,
          4.666666666666667,
          4.333333333333333,
          5.666666666666667,
          5.666666666666667,
          4.333333333333333,
          5.333333333333333,
          5,
          5.333333333333333,
          4.666666666666667,
          4,
          4.666666666666667,
          5
         ],
         "xaxis": "x2",
         "y": [
          184,
          120,
          15,
          15,
          127,
          10,
          15,
          14,
          155,
          20,
          2,
          58,
          7,
          32,
          218,
          21,
          26,
          166,
          8,
          93,
          105,
          0,
          6,
          15,
          0,
          74,
          18,
          1,
          154,
          6,
          66,
          0,
          13,
          1,
          0,
          0,
          0,
          7,
          181,
          34,
          48,
          3,
          0,
          80,
          0,
          37,
          224,
          28,
          8,
          3,
          14,
          19,
          1,
          19,
          7,
          6,
          13,
          13,
          3,
          18,
          0,
          44,
          3,
          29,
          61,
          4,
          6,
          2,
          1,
          3,
          0,
          12,
          42,
          3,
          7,
          2,
          6,
          106,
          46,
          96,
          0,
          15,
          24,
          10,
          4,
          89,
          77,
          101,
          2,
          0,
          4,
          6,
          0,
          17,
          32,
          38,
          14,
          0,
          34,
          157,
          54,
          3,
          6,
          3,
          5,
          0,
          6,
          22,
          8,
          1,
          13,
          80,
          17,
          5,
          2,
          0,
          146,
          40,
          159,
          15,
          29,
          2,
          2,
          0,
          1,
          28,
          10,
          7,
          0,
          6,
          4,
          15,
          74,
          0,
          10,
          0,
          0,
          40,
          40,
          115,
          0,
          9,
          129,
          24,
          38,
          15,
          20,
          54,
          0,
          166,
          20,
          169,
          142,
          57,
          7,
          69,
          12,
          119,
          39,
          0,
          6,
          26,
          3,
          113,
          109,
          9,
          118,
          20,
          97,
          38,
          0,
          0,
          63,
          14,
          15,
          9,
          2,
          17,
          10,
          3,
          4,
          13,
          0,
          3
         ],
         "yaxis": "y2"
        }
       ],
       "layout": {
        "annotations": [
         {
          "font": {
           "size": 16
          },
          "showarrow": false,
          "text": "IQR Accepted",
          "x": 0.225,
          "xanchor": "center",
          "xref": "paper",
          "y": 1,
          "yanchor": "bottom",
          "yref": "paper"
         },
         {
          "font": {
           "size": 16
          },
          "showarrow": false,
          "text": "IQR Rejected",
          "x": 0.775,
          "xanchor": "center",
          "xref": "paper",
          "y": 1,
          "yanchor": "bottom",
          "yref": "paper"
         }
        ],
        "coloraxis": {
         "colorscale": [
          [
           0,
           "rgb(3, 5, 18)"
          ],
          [
           0.09090909090909091,
           "rgb(25, 25, 51)"
          ],
          [
           0.18181818181818182,
           "rgb(44, 42, 87)"
          ],
          [
           0.2727272727272727,
           "rgb(58, 60, 125)"
          ],
          [
           0.36363636363636365,
           "rgb(62, 83, 160)"
          ],
          [
           0.45454545454545453,
           "rgb(62, 109, 178)"
          ],
          [
           0.5454545454545454,
           "rgb(72, 134, 187)"
          ],
          [
           0.6363636363636364,
           "rgb(89, 159, 196)"
          ],
          [
           0.7272727272727273,
           "rgb(114, 184, 205)"
          ],
          [
           0.8181818181818182,
           "rgb(149, 207, 216)"
          ],
          [
           0.9090909090909091,
           "rgb(192, 229, 232)"
          ],
          [
           1,
           "rgb(234, 252, 253)"
          ]
         ]
        },
        "height": 300,
        "margin": {
         "b": 0,
         "l": 0,
         "r": 0,
         "t": 0
        },
        "showlegend": false,
        "template": {
         "data": {
          "bar": [
           {
            "error_x": {
             "color": "#2a3f5f"
            },
            "error_y": {
             "color": "#2a3f5f"
            },
            "marker": {
             "line": {
              "color": "#E5ECF6",
              "width": 0.5
             },
             "pattern": {
              "fillmode": "overlay",
              "size": 10,
              "solidity": 0.2
             }
            },
            "type": "bar"
           }
          ],
          "barpolar": [
           {
            "marker": {
             "line": {
              "color": "#E5ECF6",
              "width": 0.5
             },
             "pattern": {
              "fillmode": "overlay",
              "size": 10,
              "solidity": 0.2
             }
            },
            "type": "barpolar"
           }
          ],
          "carpet": [
           {
            "aaxis": {
             "endlinecolor": "#2a3f5f",
             "gridcolor": "white",
             "linecolor": "white",
             "minorgridcolor": "white",
             "startlinecolor": "#2a3f5f"
            },
            "baxis": {
             "endlinecolor": "#2a3f5f",
             "gridcolor": "white",
             "linecolor": "white",
             "minorgridcolor": "white",
             "startlinecolor": "#2a3f5f"
            },
            "type": "carpet"
           }
          ],
          "choropleth": [
           {
            "colorbar": {
             "outlinewidth": 0,
             "ticks": ""
            },
            "type": "choropleth"
           }
          ],
          "contour": [
           {
            "colorbar": {
             "outlinewidth": 0,
             "ticks": ""
            },
            "colorscale": [
             [
              0,
              "#0d0887"
             ],
             [
              0.1111111111111111,
              "#46039f"
             ],
             [
              0.2222222222222222,
              "#7201a8"
             ],
             [
              0.3333333333333333,
              "#9c179e"
             ],
             [
              0.4444444444444444,
              "#bd3786"
             ],
             [
              0.5555555555555556,
              "#d8576b"
             ],
             [
              0.6666666666666666,
              "#ed7953"
             ],
             [
              0.7777777777777778,
              "#fb9f3a"
             ],
             [
              0.8888888888888888,
              "#fdca26"
             ],
             [
              1,
              "#f0f921"
             ]
            ],
            "type": "contour"
           }
          ],
          "contourcarpet": [
           {
            "colorbar": {
             "outlinewidth": 0,
             "ticks": ""
            },
            "type": "contourcarpet"
           }
          ],
          "heatmap": [
           {
            "colorbar": {
             "outlinewidth": 0,
             "ticks": ""
            },
            "colorscale": [
             [
              0,
              "#0d0887"
             ],
             [
              0.1111111111111111,
              "#46039f"
             ],
             [
              0.2222222222222222,
              "#7201a8"
             ],
             [
              0.3333333333333333,
              "#9c179e"
             ],
             [
              0.4444444444444444,
              "#bd3786"
             ],
             [
              0.5555555555555556,
              "#d8576b"
             ],
             [
              0.6666666666666666,
              "#ed7953"
             ],
             [
              0.7777777777777778,
              "#fb9f3a"
             ],
             [
              0.8888888888888888,
              "#fdca26"
             ],
             [
              1,
              "#f0f921"
             ]
            ],
            "type": "heatmap"
           }
          ],
          "heatmapgl": [
           {
            "colorbar": {
             "outlinewidth": 0,
             "ticks": ""
            },
            "colorscale": [
             [
              0,
              "#0d0887"
             ],
             [
              0.1111111111111111,
              "#46039f"
             ],
             [
              0.2222222222222222,
              "#7201a8"
             ],
             [
              0.3333333333333333,
              "#9c179e"
             ],
             [
              0.4444444444444444,
              "#bd3786"
             ],
             [
              0.5555555555555556,
              "#d8576b"
             ],
             [
              0.6666666666666666,
              "#ed7953"
             ],
             [
              0.7777777777777778,
              "#fb9f3a"
             ],
             [
              0.8888888888888888,
              "#fdca26"
             ],
             [
              1,
              "#f0f921"
             ]
            ],
            "type": "heatmapgl"
           }
          ],
          "histogram": [
           {
            "marker": {
             "pattern": {
              "fillmode": "overlay",
              "size": 10,
              "solidity": 0.2
             }
            },
            "type": "histogram"
           }
          ],
          "histogram2d": [
           {
            "colorbar": {
             "outlinewidth": 0,
             "ticks": ""
            },
            "colorscale": [
             [
              0,
              "#0d0887"
             ],
             [
              0.1111111111111111,
              "#46039f"
             ],
             [
              0.2222222222222222,
              "#7201a8"
             ],
             [
              0.3333333333333333,
              "#9c179e"
             ],
             [
              0.4444444444444444,
              "#bd3786"
             ],
             [
              0.5555555555555556,
              "#d8576b"
             ],
             [
              0.6666666666666666,
              "#ed7953"
             ],
             [
              0.7777777777777778,
              "#fb9f3a"
             ],
             [
              0.8888888888888888,
              "#fdca26"
             ],
             [
              1,
              "#f0f921"
             ]
            ],
            "type": "histogram2d"
           }
          ],
          "histogram2dcontour": [
           {
            "colorbar": {
             "outlinewidth": 0,
             "ticks": ""
            },
            "colorscale": [
             [
              0,
              "#0d0887"
             ],
             [
              0.1111111111111111,
              "#46039f"
             ],
             [
              0.2222222222222222,
              "#7201a8"
             ],
             [
              0.3333333333333333,
              "#9c179e"
             ],
             [
              0.4444444444444444,
              "#bd3786"
             ],
             [
              0.5555555555555556,
              "#d8576b"
             ],
             [
              0.6666666666666666,
              "#ed7953"
             ],
             [
              0.7777777777777778,
              "#fb9f3a"
             ],
             [
              0.8888888888888888,
              "#fdca26"
             ],
             [
              1,
              "#f0f921"
             ]
            ],
            "type": "histogram2dcontour"
           }
          ],
          "mesh3d": [
           {
            "colorbar": {
             "outlinewidth": 0,
             "ticks": ""
            },
            "type": "mesh3d"
           }
          ],
          "parcoords": [
           {
            "line": {
             "colorbar": {
              "outlinewidth": 0,
              "ticks": ""
             }
            },
            "type": "parcoords"
           }
          ],
          "pie": [
           {
            "automargin": true,
            "type": "pie"
           }
          ],
          "scatter": [
           {
            "fillpattern": {
             "fillmode": "overlay",
             "size": 10,
             "solidity": 0.2
            },
            "type": "scatter"
           }
          ],
          "scatter3d": [
           {
            "line": {
             "colorbar": {
              "outlinewidth": 0,
              "ticks": ""
             }
            },
            "marker": {
             "colorbar": {
              "outlinewidth": 0,
              "ticks": ""
             }
            },
            "type": "scatter3d"
           }
          ],
          "scattercarpet": [
           {
            "marker": {
             "colorbar": {
              "outlinewidth": 0,
              "ticks": ""
             }
            },
            "type": "scattercarpet"
           }
          ],
          "scattergeo": [
           {
            "marker": {
             "colorbar": {
              "outlinewidth": 0,
              "ticks": ""
             }
            },
            "type": "scattergeo"
           }
          ],
          "scattergl": [
           {
            "marker": {
             "colorbar": {
              "outlinewidth": 0,
              "ticks": ""
             }
            },
            "type": "scattergl"
           }
          ],
          "scattermapbox": [
           {
            "marker": {
             "colorbar": {
              "outlinewidth": 0,
              "ticks": ""
             }
            },
            "type": "scattermapbox"
           }
          ],
          "scatterpolar": [
           {
            "marker": {
             "colorbar": {
              "outlinewidth": 0,
              "ticks": ""
             }
            },
            "type": "scatterpolar"
           }
          ],
          "scatterpolargl": [
           {
            "marker": {
             "colorbar": {
              "outlinewidth": 0,
              "ticks": ""
             }
            },
            "type": "scatterpolargl"
           }
          ],
          "scatterternary": [
           {
            "marker": {
             "colorbar": {
              "outlinewidth": 0,
              "ticks": ""
             }
            },
            "type": "scatterternary"
           }
          ],
          "surface": [
           {
            "colorbar": {
             "outlinewidth": 0,
             "ticks": ""
            },
            "colorscale": [
             [
              0,
              "#0d0887"
             ],
             [
              0.1111111111111111,
              "#46039f"
             ],
             [
              0.2222222222222222,
              "#7201a8"
             ],
             [
              0.3333333333333333,
              "#9c179e"
             ],
             [
              0.4444444444444444,
              "#bd3786"
             ],
             [
              0.5555555555555556,
              "#d8576b"
             ],
             [
              0.6666666666666666,
              "#ed7953"
             ],
             [
              0.7777777777777778,
              "#fb9f3a"
             ],
             [
              0.8888888888888888,
              "#fdca26"
             ],
             [
              1,
              "#f0f921"
             ]
            ],
            "type": "surface"
           }
          ],
          "table": [
           {
            "cells": {
             "fill": {
              "color": "#EBF0F8"
             },
             "line": {
              "color": "white"
             }
            },
            "header": {
             "fill": {
              "color": "#C8D4E3"
             },
             "line": {
              "color": "white"
             }
            },
            "type": "table"
           }
          ]
         },
         "layout": {
          "annotationdefaults": {
           "arrowcolor": "#2a3f5f",
           "arrowhead": 0,
           "arrowwidth": 1
          },
          "autotypenumbers": "strict",
          "coloraxis": {
           "colorbar": {
            "outlinewidth": 0,
            "ticks": ""
           }
          },
          "colorscale": {
           "diverging": [
            [
             0,
             "#8e0152"
            ],
            [
             0.1,
             "#c51b7d"
            ],
            [
             0.2,
             "#de77ae"
            ],
            [
             0.3,
             "#f1b6da"
            ],
            [
             0.4,
             "#fde0ef"
            ],
            [
             0.5,
             "#f7f7f7"
            ],
            [
             0.6,
             "#e6f5d0"
            ],
            [
             0.7,
             "#b8e186"
            ],
            [
             0.8,
             "#7fbc41"
            ],
            [
             0.9,
             "#4d9221"
            ],
            [
             1,
             "#276419"
            ]
           ],
           "sequential": [
            [
             0,
             "#0d0887"
            ],
            [
             0.1111111111111111,
             "#46039f"
            ],
            [
             0.2222222222222222,
             "#7201a8"
            ],
            [
             0.3333333333333333,
             "#9c179e"
            ],
            [
             0.4444444444444444,
             "#bd3786"
            ],
            [
             0.5555555555555556,
             "#d8576b"
            ],
            [
             0.6666666666666666,
             "#ed7953"
            ],
            [
             0.7777777777777778,
             "#fb9f3a"
            ],
            [
             0.8888888888888888,
             "#fdca26"
            ],
            [
             1,
             "#f0f921"
            ]
           ],
           "sequentialminus": [
            [
             0,
             "#0d0887"
            ],
            [
             0.1111111111111111,
             "#46039f"
            ],
            [
             0.2222222222222222,
             "#7201a8"
            ],
            [
             0.3333333333333333,
             "#9c179e"
            ],
            [
             0.4444444444444444,
             "#bd3786"
            ],
            [
             0.5555555555555556,
             "#d8576b"
            ],
            [
             0.6666666666666666,
             "#ed7953"
            ],
            [
             0.7777777777777778,
             "#fb9f3a"
            ],
            [
             0.8888888888888888,
             "#fdca26"
            ],
            [
             1,
             "#f0f921"
            ]
           ]
          },
          "colorway": [
           "#636efa",
           "#EF553B",
           "#00cc96",
           "#ab63fa",
           "#FFA15A",
           "#19d3f3",
           "#FF6692",
           "#B6E880",
           "#FF97FF",
           "#FECB52"
          ],
          "font": {
           "color": "#2a3f5f"
          },
          "geo": {
           "bgcolor": "white",
           "lakecolor": "white",
           "landcolor": "#E5ECF6",
           "showlakes": true,
           "showland": true,
           "subunitcolor": "white"
          },
          "hoverlabel": {
           "align": "left"
          },
          "hovermode": "closest",
          "mapbox": {
           "style": "light"
          },
          "paper_bgcolor": "white",
          "plot_bgcolor": "#E5ECF6",
          "polar": {
           "angularaxis": {
            "gridcolor": "white",
            "linecolor": "white",
            "ticks": ""
           },
           "bgcolor": "#E5ECF6",
           "radialaxis": {
            "gridcolor": "white",
            "linecolor": "white",
            "ticks": ""
           }
          },
          "scene": {
           "xaxis": {
            "backgroundcolor": "#E5ECF6",
            "gridcolor": "white",
            "gridwidth": 2,
            "linecolor": "white",
            "showbackground": true,
            "ticks": "",
            "zerolinecolor": "white"
           },
           "yaxis": {
            "backgroundcolor": "#E5ECF6",
            "gridcolor": "white",
            "gridwidth": 2,
            "linecolor": "white",
            "showbackground": true,
            "ticks": "",
            "zerolinecolor": "white"
           },
           "zaxis": {
            "backgroundcolor": "#E5ECF6",
            "gridcolor": "white",
            "gridwidth": 2,
            "linecolor": "white",
            "showbackground": true,
            "ticks": "",
            "zerolinecolor": "white"
           }
          },
          "shapedefaults": {
           "line": {
            "color": "#2a3f5f"
           }
          },
          "ternary": {
           "aaxis": {
            "gridcolor": "white",
            "linecolor": "white",
            "ticks": ""
           },
           "baxis": {
            "gridcolor": "white",
            "linecolor": "white",
            "ticks": ""
           },
           "bgcolor": "#E5ECF6",
           "caxis": {
            "gridcolor": "white",
            "linecolor": "white",
            "ticks": ""
           }
          },
          "title": {
           "x": 0.05
          },
          "xaxis": {
           "automargin": true,
           "gridcolor": "white",
           "linecolor": "white",
           "ticks": "",
           "title": {
            "standoff": 15
           },
           "zerolinecolor": "white",
           "zerolinewidth": 2
          },
          "yaxis": {
           "automargin": true,
           "gridcolor": "white",
           "linecolor": "white",
           "ticks": "",
           "title": {
            "standoff": 15
           },
           "zerolinecolor": "white",
           "zerolinewidth": 2
          }
         }
        },
        "width": 900,
        "xaxis": {
         "anchor": "y",
         "domain": [
          0,
          0.45
         ],
         "ticktext": [
          "4.5",
          "5.0",
          "5.5",
          "6.0",
          "6.5",
          "7.0",
          "7.5",
          "8.0",
          "8.5"
         ],
         "tickvals": [
          4.5,
          5,
          5.5,
          6,
          6.5,
          7,
          7.5,
          8,
          8.5
         ],
         "title": {
          "text": "Recommendation Scores"
         }
        },
        "xaxis2": {
         "anchor": "y2",
         "domain": [
          0.55,
          1
         ],
         "title": {
          "text": "Recommendation Scores"
         }
        },
        "yaxis": {
         "anchor": "x",
         "domain": [
          0,
          1
         ],
         "ticktext": [
          "0",
          "100",
          "200",
          "300",
          "400",
          "500",
          "600",
          "700",
          "800",
          "900",
          "1000"
         ],
         "tickvals": [
          0,
          100,
          200,
          300,
          400,
          500,
          600,
          700,
          800,
          900,
          1000
         ],
         "title": {
          "text": "Number of Citations"
         }
        },
        "yaxis2": {
         "anchor": "x2",
         "domain": [
          0,
          1
         ],
         "ticktext": [
          "0",
          "20",
          "40",
          "60",
          "80",
          "100",
          "120",
          "140",
          "160",
          "180",
          "200"
         ],
         "tickvals": [
          0,
          20,
          40,
          60,
          80,
          100,
          120,
          140,
          160,
          180,
          200
         ],
         "title": {
          "text": "Number of Citations"
         }
        }
       }
      }
     },
     "metadata": {},
     "output_type": "display_data"
    }
   ],
   "source": [
    "fig = make_subplots(rows=1, cols=2,subplot_titles=(\"IQR Accepted\", \"IQR Rejected\"))\n",
    "\n",
    "trace1 =go.Histogram2d( \n",
    "    x=accepted_norm.scores,\n",
    "    y=accepted_norm.citation,\n",
    "    coloraxis = \"coloraxis\",\n",
    "    colorscale='YlGnBu',\n",
    "    nbinsx =8,\n",
    "    nbinsy=15,\n",
    "    )\n",
    "\n",
    "trace2 = go.Histogram2d(\n",
    "    x=rejected_norm.scores,\n",
    "    y=rejected_norm.citation,\n",
    "    coloraxis = \"coloraxis\",\n",
    "    nbinsx =6,\n",
    "    nbinsy=15)\n",
    "\n",
    "tick_values = [i*100 for i in range(11)]\n",
    "tick_text = [str(i) for i in tick_values]\n",
    "\n",
    "tick_values2 = [i*20 for i in range(11)]\n",
    "tick_text2 = [str(i) for i in tick_values2]\n",
    "\n",
    "x_values = [i*0.5 for i in range(9,18)]\n",
    "x_tick_text  = [str(i) for i in x_values]\n",
    "\n",
    "fig.add_trace(trace1, row=1, col=1)\n",
    "fig.add_trace(trace2, row=1, col=2)\n",
    "\n",
    "\n",
    "\n",
    "fig.update_xaxes(title_text=\"Recommendation Scores\", row=1, col=1)\n",
    "\n",
    "fig.update_xaxes(title_text=\"Recommendation Scores\", row=1, col=2)\n",
    "\n",
    "fig.update_yaxes(title_text=\"Number of Citations\", row=1, col=1)\n",
    "fig.update_yaxes(title_text=\"Number of Citations\", row=1, col=2)\n",
    "\n",
    "\n",
    "fig.update_layout(coloraxis=dict(colorscale='ice'), showlegend=False)\n",
    "fig['layout'].update(margin={'l': 0, 'r': 0, 't': 0, 'b': 0})\n",
    "fig.update_yaxes(tickvals=tick_values, ticktext=tick_text, row=1, col=1)\n",
    "fig.update_xaxes(tickvals=x_values, ticktext=x_tick_text, row=1, col=1)\n",
    "fig.update_yaxes(tickvals=tick_values2, ticktext=tick_text2, row=1, col=2)\n",
    "fig['layout'].update(height=300, width=900)\n",
    "fig.show()\n",
    "pio.write_image(fig, 'figures/histogram.pdf', format='pdf', width=1200, height=400)\n",
    "\n"
   ]
  }
 ],
 "metadata": {
  "kernelspec": {
   "display_name": "vision",
   "language": "python",
   "name": "python3"
  },
  "language_info": {
   "codemirror_mode": {
    "name": "ipython",
    "version": 3
   },
   "file_extension": ".py",
   "mimetype": "text/x-python",
   "name": "python",
   "nbconvert_exporter": "python",
   "pygments_lexer": "ipython3",
   "version": "3.8.5"
  },
  "orig_nbformat": 4,
  "vscode": {
   "interpreter": {
    "hash": "0d7f4c9353dd4174aa42641353d47bcbf91971a96cc3f3151afe34dc787615bd"
   }
  }
 },
 "nbformat": 4,
 "nbformat_minor": 2
}
